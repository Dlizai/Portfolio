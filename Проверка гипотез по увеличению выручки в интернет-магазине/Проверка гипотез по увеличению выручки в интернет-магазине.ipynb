{
 "cells": [
  {
   "cell_type": "markdown",
   "metadata": {},
   "source": [
    "# Проект: принятие решений в бизнесе"
   ]
  },
  {
   "cell_type": "markdown",
   "metadata": {},
   "source": [
    "# Описание проекта\n",
    "\n",
    "Контекст\n",
    "Вы — аналитик крупного интернет-магазина. Вместе с отделом маркетинга вы подготовили список гипотез для увеличения выручки.\n",
    "Приоритизируйте гипотезы, запустите A/B-тест и проанализируйте результаты. "
   ]
  },
  {
   "cell_type": "code",
   "execution_count": 1,
   "metadata": {},
   "outputs": [],
   "source": [
    "import pandas as pd\n",
    "import scipy.stats as stats\n",
    "import datetime as dt\n",
    "import numpy as np\n",
    "import matplotlib.pyplot as plt"
   ]
  },
  {
   "cell_type": "markdown",
   "metadata": {},
   "source": [
    "## Часть 1. Приоритизация гипотез."
   ]
  },
  {
   "cell_type": "markdown",
   "metadata": {},
   "source": [
    "Выведем таблицу с гипотезами по увеличению выручки интернет-магазина с указанными параметрами Reach, Impact, Confidence, Effort"
   ]
  },
  {
   "cell_type": "code",
   "execution_count": 2,
   "metadata": {},
   "outputs": [],
   "source": [
    "pd.options.display.max_colwidth = None"
   ]
  },
  {
   "cell_type": "code",
   "execution_count": 3,
   "metadata": {
    "scrolled": false
   },
   "outputs": [
    {
     "data": {
      "text/html": [
       "<div>\n",
       "<style scoped>\n",
       "    .dataframe tbody tr th:only-of-type {\n",
       "        vertical-align: middle;\n",
       "    }\n",
       "\n",
       "    .dataframe tbody tr th {\n",
       "        vertical-align: top;\n",
       "    }\n",
       "\n",
       "    .dataframe thead th {\n",
       "        text-align: right;\n",
       "    }\n",
       "</style>\n",
       "<table border=\"1\" class=\"dataframe\">\n",
       "  <thead>\n",
       "    <tr style=\"text-align: right;\">\n",
       "      <th></th>\n",
       "      <th>Hypothesis</th>\n",
       "      <th>Reach</th>\n",
       "      <th>Impact</th>\n",
       "      <th>Confidence</th>\n",
       "      <th>Efforts</th>\n",
       "    </tr>\n",
       "  </thead>\n",
       "  <tbody>\n",
       "    <tr>\n",
       "      <th>0</th>\n",
       "      <td>Добавить два новых канала привлечения трафика, что позволит привлекать на 30% больше пользователей</td>\n",
       "      <td>3</td>\n",
       "      <td>10</td>\n",
       "      <td>8</td>\n",
       "      <td>6</td>\n",
       "    </tr>\n",
       "    <tr>\n",
       "      <th>1</th>\n",
       "      <td>Запустить собственную службу доставки, что сократит срок доставки заказов</td>\n",
       "      <td>2</td>\n",
       "      <td>5</td>\n",
       "      <td>4</td>\n",
       "      <td>10</td>\n",
       "    </tr>\n",
       "    <tr>\n",
       "      <th>2</th>\n",
       "      <td>Добавить блоки рекомендаций товаров на сайт интернет магазина, чтобы повысить конверсию и средний чек заказа</td>\n",
       "      <td>8</td>\n",
       "      <td>3</td>\n",
       "      <td>7</td>\n",
       "      <td>3</td>\n",
       "    </tr>\n",
       "    <tr>\n",
       "      <th>3</th>\n",
       "      <td>Изменить структура категорий, что увеличит конверсию, т.к. пользователи быстрее найдут нужный товар</td>\n",
       "      <td>8</td>\n",
       "      <td>3</td>\n",
       "      <td>3</td>\n",
       "      <td>8</td>\n",
       "    </tr>\n",
       "    <tr>\n",
       "      <th>4</th>\n",
       "      <td>Изменить цвет фона главной страницы, чтобы увеличить вовлеченность пользователей</td>\n",
       "      <td>3</td>\n",
       "      <td>1</td>\n",
       "      <td>1</td>\n",
       "      <td>1</td>\n",
       "    </tr>\n",
       "    <tr>\n",
       "      <th>5</th>\n",
       "      <td>Добавить страницу отзывов клиентов о магазине, что позволит увеличить количество заказов</td>\n",
       "      <td>3</td>\n",
       "      <td>2</td>\n",
       "      <td>2</td>\n",
       "      <td>3</td>\n",
       "    </tr>\n",
       "    <tr>\n",
       "      <th>6</th>\n",
       "      <td>Показать на главной странице баннеры с актуальными акциями и распродажами, чтобы увеличить конверсию</td>\n",
       "      <td>5</td>\n",
       "      <td>3</td>\n",
       "      <td>8</td>\n",
       "      <td>3</td>\n",
       "    </tr>\n",
       "    <tr>\n",
       "      <th>7</th>\n",
       "      <td>Добавить форму подписки на все основные страницы, чтобы собрать базу клиентов для email-рассылок</td>\n",
       "      <td>10</td>\n",
       "      <td>7</td>\n",
       "      <td>8</td>\n",
       "      <td>5</td>\n",
       "    </tr>\n",
       "    <tr>\n",
       "      <th>8</th>\n",
       "      <td>Запустить акцию, дающую скидку на товар в день рождения</td>\n",
       "      <td>1</td>\n",
       "      <td>9</td>\n",
       "      <td>9</td>\n",
       "      <td>5</td>\n",
       "    </tr>\n",
       "  </tbody>\n",
       "</table>\n",
       "</div>"
      ],
      "text/plain": [
       "                                                                                                     Hypothesis  \\\n",
       "0            Добавить два новых канала привлечения трафика, что позволит привлекать на 30% больше пользователей   \n",
       "1                                     Запустить собственную службу доставки, что сократит срок доставки заказов   \n",
       "2  Добавить блоки рекомендаций товаров на сайт интернет магазина, чтобы повысить конверсию и средний чек заказа   \n",
       "3           Изменить структура категорий, что увеличит конверсию, т.к. пользователи быстрее найдут нужный товар   \n",
       "4                              Изменить цвет фона главной страницы, чтобы увеличить вовлеченность пользователей   \n",
       "5                      Добавить страницу отзывов клиентов о магазине, что позволит увеличить количество заказов   \n",
       "6          Показать на главной странице баннеры с актуальными акциями и распродажами, чтобы увеличить конверсию   \n",
       "7              Добавить форму подписки на все основные страницы, чтобы собрать базу клиентов для email-рассылок   \n",
       "8                                                       Запустить акцию, дающую скидку на товар в день рождения   \n",
       "\n",
       "   Reach  Impact  Confidence  Efforts  \n",
       "0      3      10           8        6  \n",
       "1      2       5           4       10  \n",
       "2      8       3           7        3  \n",
       "3      8       3           3        8  \n",
       "4      3       1           1        1  \n",
       "5      3       2           2        3  \n",
       "6      5       3           8        3  \n",
       "7     10       7           8        5  \n",
       "8      1       9           9        5  "
      ]
     },
     "metadata": {},
     "output_type": "display_data"
    }
   ],
   "source": [
    "hypothesis = pd.read_csv('/datasets/hypothesis.csv')\n",
    "display(hypothesis)"
   ]
  },
  {
   "cell_type": "code",
   "execution_count": 4,
   "metadata": {},
   "outputs": [],
   "source": [
    "# Меняем регистр в названии столбцов\n",
    "hypothesis.columns = hypothesis.columns.str.lower()"
   ]
  },
  {
   "cell_type": "markdown",
   "metadata": {},
   "source": [
    "### Приоритизация гипотез методом ICE"
   ]
  },
  {
   "cell_type": "markdown",
   "metadata": {},
   "source": [
    "Примените фреймворк ICE для приоритизации гипотез. Отсортируйте их по убыванию приоритета."
   ]
  },
  {
   "cell_type": "code",
   "execution_count": 5,
   "metadata": {},
   "outputs": [
    {
     "data": {
      "text/html": [
       "<div>\n",
       "<style scoped>\n",
       "    .dataframe tbody tr th:only-of-type {\n",
       "        vertical-align: middle;\n",
       "    }\n",
       "\n",
       "    .dataframe tbody tr th {\n",
       "        vertical-align: top;\n",
       "    }\n",
       "\n",
       "    .dataframe thead th {\n",
       "        text-align: right;\n",
       "    }\n",
       "</style>\n",
       "<table border=\"1\" class=\"dataframe\">\n",
       "  <thead>\n",
       "    <tr style=\"text-align: right;\">\n",
       "      <th></th>\n",
       "      <th>hypothesis</th>\n",
       "      <th>ICE</th>\n",
       "    </tr>\n",
       "  </thead>\n",
       "  <tbody>\n",
       "    <tr>\n",
       "      <th>8</th>\n",
       "      <td>Запустить акцию, дающую скидку на товар в день рождения</td>\n",
       "      <td>16.2</td>\n",
       "    </tr>\n",
       "    <tr>\n",
       "      <th>0</th>\n",
       "      <td>Добавить два новых канала привлечения трафика, что позволит привлекать на 30% больше пользователей</td>\n",
       "      <td>13.3</td>\n",
       "    </tr>\n",
       "    <tr>\n",
       "      <th>7</th>\n",
       "      <td>Добавить форму подписки на все основные страницы, чтобы собрать базу клиентов для email-рассылок</td>\n",
       "      <td>11.2</td>\n",
       "    </tr>\n",
       "    <tr>\n",
       "      <th>6</th>\n",
       "      <td>Показать на главной странице баннеры с актуальными акциями и распродажами, чтобы увеличить конверсию</td>\n",
       "      <td>8.0</td>\n",
       "    </tr>\n",
       "    <tr>\n",
       "      <th>2</th>\n",
       "      <td>Добавить блоки рекомендаций товаров на сайт интернет магазина, чтобы повысить конверсию и средний чек заказа</td>\n",
       "      <td>7.0</td>\n",
       "    </tr>\n",
       "    <tr>\n",
       "      <th>1</th>\n",
       "      <td>Запустить собственную службу доставки, что сократит срок доставки заказов</td>\n",
       "      <td>2.0</td>\n",
       "    </tr>\n",
       "    <tr>\n",
       "      <th>5</th>\n",
       "      <td>Добавить страницу отзывов клиентов о магазине, что позволит увеличить количество заказов</td>\n",
       "      <td>1.3</td>\n",
       "    </tr>\n",
       "    <tr>\n",
       "      <th>3</th>\n",
       "      <td>Изменить структура категорий, что увеличит конверсию, т.к. пользователи быстрее найдут нужный товар</td>\n",
       "      <td>1.1</td>\n",
       "    </tr>\n",
       "    <tr>\n",
       "      <th>4</th>\n",
       "      <td>Изменить цвет фона главной страницы, чтобы увеличить вовлеченность пользователей</td>\n",
       "      <td>1.0</td>\n",
       "    </tr>\n",
       "  </tbody>\n",
       "</table>\n",
       "</div>"
      ],
      "text/plain": [
       "                                                                                                     hypothesis  \\\n",
       "8                                                       Запустить акцию, дающую скидку на товар в день рождения   \n",
       "0            Добавить два новых канала привлечения трафика, что позволит привлекать на 30% больше пользователей   \n",
       "7              Добавить форму подписки на все основные страницы, чтобы собрать базу клиентов для email-рассылок   \n",
       "6          Показать на главной странице баннеры с актуальными акциями и распродажами, чтобы увеличить конверсию   \n",
       "2  Добавить блоки рекомендаций товаров на сайт интернет магазина, чтобы повысить конверсию и средний чек заказа   \n",
       "1                                     Запустить собственную службу доставки, что сократит срок доставки заказов   \n",
       "5                      Добавить страницу отзывов клиентов о магазине, что позволит увеличить количество заказов   \n",
       "3           Изменить структура категорий, что увеличит конверсию, т.к. пользователи быстрее найдут нужный товар   \n",
       "4                              Изменить цвет фона главной страницы, чтобы увеличить вовлеченность пользователей   \n",
       "\n",
       "    ICE  \n",
       "8  16.2  \n",
       "0  13.3  \n",
       "7  11.2  \n",
       "6   8.0  \n",
       "2   7.0  \n",
       "1   2.0  \n",
       "5   1.3  \n",
       "3   1.1  \n",
       "4   1.0  "
      ]
     },
     "metadata": {},
     "output_type": "display_data"
    }
   ],
   "source": [
    "hypothesis['ICE'] = (hypothesis['impact'] * hypothesis['confidence'])/ hypothesis['efforts']\n",
    "display(round(hypothesis[['hypothesis','ICE']].sort_values(by='ICE',ascending=False),1))"
   ]
  },
  {
   "cell_type": "markdown",
   "metadata": {},
   "source": [
    "По данному методу приоритезиции лидерами стали следующие гипотезы: Запустить акцию, дающую скидку на товар в день рождения, Добавить два новых канала привлечения трафика, что позволит привлекать на 30% больше пользователей и Добавить форму подписки на все основные страницы, чтобы собрать базу клиентов для email-рассылок "
   ]
  },
  {
   "cell_type": "markdown",
   "metadata": {},
   "source": [
    "### Приоритизация гипотез методом RICE"
   ]
  },
  {
   "cell_type": "markdown",
   "metadata": {},
   "source": [
    "Примените фреймворк RICE для приоритизации гипотез. Отсортируйте их по убыванию приоритета."
   ]
  },
  {
   "cell_type": "code",
   "execution_count": 6,
   "metadata": {},
   "outputs": [
    {
     "data": {
      "text/html": [
       "<div>\n",
       "<style scoped>\n",
       "    .dataframe tbody tr th:only-of-type {\n",
       "        vertical-align: middle;\n",
       "    }\n",
       "\n",
       "    .dataframe tbody tr th {\n",
       "        vertical-align: top;\n",
       "    }\n",
       "\n",
       "    .dataframe thead th {\n",
       "        text-align: right;\n",
       "    }\n",
       "</style>\n",
       "<table border=\"1\" class=\"dataframe\">\n",
       "  <thead>\n",
       "    <tr style=\"text-align: right;\">\n",
       "      <th></th>\n",
       "      <th>hypothesis</th>\n",
       "      <th>RICE</th>\n",
       "    </tr>\n",
       "  </thead>\n",
       "  <tbody>\n",
       "    <tr>\n",
       "      <th>7</th>\n",
       "      <td>Добавить форму подписки на все основные страницы, чтобы собрать базу клиентов для email-рассылок</td>\n",
       "      <td>112.0</td>\n",
       "    </tr>\n",
       "    <tr>\n",
       "      <th>2</th>\n",
       "      <td>Добавить блоки рекомендаций товаров на сайт интернет магазина, чтобы повысить конверсию и средний чек заказа</td>\n",
       "      <td>56.0</td>\n",
       "    </tr>\n",
       "    <tr>\n",
       "      <th>0</th>\n",
       "      <td>Добавить два новых канала привлечения трафика, что позволит привлекать на 30% больше пользователей</td>\n",
       "      <td>40.0</td>\n",
       "    </tr>\n",
       "    <tr>\n",
       "      <th>6</th>\n",
       "      <td>Показать на главной странице баннеры с актуальными акциями и распродажами, чтобы увеличить конверсию</td>\n",
       "      <td>40.0</td>\n",
       "    </tr>\n",
       "    <tr>\n",
       "      <th>8</th>\n",
       "      <td>Запустить акцию, дающую скидку на товар в день рождения</td>\n",
       "      <td>16.2</td>\n",
       "    </tr>\n",
       "    <tr>\n",
       "      <th>3</th>\n",
       "      <td>Изменить структура категорий, что увеличит конверсию, т.к. пользователи быстрее найдут нужный товар</td>\n",
       "      <td>9.0</td>\n",
       "    </tr>\n",
       "    <tr>\n",
       "      <th>1</th>\n",
       "      <td>Запустить собственную службу доставки, что сократит срок доставки заказов</td>\n",
       "      <td>4.0</td>\n",
       "    </tr>\n",
       "    <tr>\n",
       "      <th>5</th>\n",
       "      <td>Добавить страницу отзывов клиентов о магазине, что позволит увеличить количество заказов</td>\n",
       "      <td>4.0</td>\n",
       "    </tr>\n",
       "    <tr>\n",
       "      <th>4</th>\n",
       "      <td>Изменить цвет фона главной страницы, чтобы увеличить вовлеченность пользователей</td>\n",
       "      <td>3.0</td>\n",
       "    </tr>\n",
       "  </tbody>\n",
       "</table>\n",
       "</div>"
      ],
      "text/plain": [
       "                                                                                                     hypothesis  \\\n",
       "7              Добавить форму подписки на все основные страницы, чтобы собрать базу клиентов для email-рассылок   \n",
       "2  Добавить блоки рекомендаций товаров на сайт интернет магазина, чтобы повысить конверсию и средний чек заказа   \n",
       "0            Добавить два новых канала привлечения трафика, что позволит привлекать на 30% больше пользователей   \n",
       "6          Показать на главной странице баннеры с актуальными акциями и распродажами, чтобы увеличить конверсию   \n",
       "8                                                       Запустить акцию, дающую скидку на товар в день рождения   \n",
       "3           Изменить структура категорий, что увеличит конверсию, т.к. пользователи быстрее найдут нужный товар   \n",
       "1                                     Запустить собственную службу доставки, что сократит срок доставки заказов   \n",
       "5                      Добавить страницу отзывов клиентов о магазине, что позволит увеличить количество заказов   \n",
       "4                              Изменить цвет фона главной страницы, чтобы увеличить вовлеченность пользователей   \n",
       "\n",
       "    RICE  \n",
       "7  112.0  \n",
       "2   56.0  \n",
       "0   40.0  \n",
       "6   40.0  \n",
       "8   16.2  \n",
       "3    9.0  \n",
       "1    4.0  \n",
       "5    4.0  \n",
       "4    3.0  "
      ]
     },
     "metadata": {},
     "output_type": "display_data"
    }
   ],
   "source": [
    "hypothesis['RICE'] = (hypothesis['reach'] * hypothesis['impact'] * hypothesis['confidence'])/ hypothesis['efforts']\n",
    "display(hypothesis[['hypothesis','RICE']].sort_values(by='RICE',ascending=False))"
   ]
  },
  {
   "cell_type": "markdown",
   "metadata": {},
   "source": [
    "По данному методу приоритезиции лидерами стали следующие гипотезы: Добавить форму подписки на все основные страницы, чтобы собрать базу клиентов для email-рассылок, Добавить блоки рекомендаций товаров на сайт интернет магазина, чтобы повысить конверсию и средний чек заказа и Добавить два новых канала привлечения трафика, что позволит привлекать на 30% больше пользователей\t"
   ]
  },
  {
   "cell_type": "code",
   "execution_count": 7,
   "metadata": {},
   "outputs": [
    {
     "data": {
      "text/html": [
       "<div>\n",
       "<style scoped>\n",
       "    .dataframe tbody tr th:only-of-type {\n",
       "        vertical-align: middle;\n",
       "    }\n",
       "\n",
       "    .dataframe tbody tr th {\n",
       "        vertical-align: top;\n",
       "    }\n",
       "\n",
       "    .dataframe thead th {\n",
       "        text-align: right;\n",
       "    }\n",
       "</style>\n",
       "<table border=\"1\" class=\"dataframe\">\n",
       "  <thead>\n",
       "    <tr style=\"text-align: right;\">\n",
       "      <th></th>\n",
       "      <th>hypothesis</th>\n",
       "      <th>ICE</th>\n",
       "      <th>RICE</th>\n",
       "    </tr>\n",
       "  </thead>\n",
       "  <tbody>\n",
       "    <tr>\n",
       "      <th>8</th>\n",
       "      <td>Запустить акцию, дающую скидку на товар в день рождения</td>\n",
       "      <td>16.2</td>\n",
       "      <td>16.2</td>\n",
       "    </tr>\n",
       "    <tr>\n",
       "      <th>0</th>\n",
       "      <td>Добавить два новых канала привлечения трафика, что позволит привлекать на 30% больше пользователей</td>\n",
       "      <td>13.3</td>\n",
       "      <td>40.0</td>\n",
       "    </tr>\n",
       "    <tr>\n",
       "      <th>7</th>\n",
       "      <td>Добавить форму подписки на все основные страницы, чтобы собрать базу клиентов для email-рассылок</td>\n",
       "      <td>11.2</td>\n",
       "      <td>112.0</td>\n",
       "    </tr>\n",
       "    <tr>\n",
       "      <th>6</th>\n",
       "      <td>Показать на главной странице баннеры с актуальными акциями и распродажами, чтобы увеличить конверсию</td>\n",
       "      <td>8.0</td>\n",
       "      <td>40.0</td>\n",
       "    </tr>\n",
       "    <tr>\n",
       "      <th>2</th>\n",
       "      <td>Добавить блоки рекомендаций товаров на сайт интернет магазина, чтобы повысить конверсию и средний чек заказа</td>\n",
       "      <td>7.0</td>\n",
       "      <td>56.0</td>\n",
       "    </tr>\n",
       "    <tr>\n",
       "      <th>1</th>\n",
       "      <td>Запустить собственную службу доставки, что сократит срок доставки заказов</td>\n",
       "      <td>2.0</td>\n",
       "      <td>4.0</td>\n",
       "    </tr>\n",
       "    <tr>\n",
       "      <th>5</th>\n",
       "      <td>Добавить страницу отзывов клиентов о магазине, что позволит увеличить количество заказов</td>\n",
       "      <td>1.3</td>\n",
       "      <td>4.0</td>\n",
       "    </tr>\n",
       "    <tr>\n",
       "      <th>3</th>\n",
       "      <td>Изменить структура категорий, что увеличит конверсию, т.к. пользователи быстрее найдут нужный товар</td>\n",
       "      <td>1.1</td>\n",
       "      <td>9.0</td>\n",
       "    </tr>\n",
       "    <tr>\n",
       "      <th>4</th>\n",
       "      <td>Изменить цвет фона главной страницы, чтобы увеличить вовлеченность пользователей</td>\n",
       "      <td>1.0</td>\n",
       "      <td>3.0</td>\n",
       "    </tr>\n",
       "  </tbody>\n",
       "</table>\n",
       "</div>"
      ],
      "text/plain": [
       "                                                                                                     hypothesis  \\\n",
       "8                                                       Запустить акцию, дающую скидку на товар в день рождения   \n",
       "0            Добавить два новых канала привлечения трафика, что позволит привлекать на 30% больше пользователей   \n",
       "7              Добавить форму подписки на все основные страницы, чтобы собрать базу клиентов для email-рассылок   \n",
       "6          Показать на главной странице баннеры с актуальными акциями и распродажами, чтобы увеличить конверсию   \n",
       "2  Добавить блоки рекомендаций товаров на сайт интернет магазина, чтобы повысить конверсию и средний чек заказа   \n",
       "1                                     Запустить собственную службу доставки, что сократит срок доставки заказов   \n",
       "5                      Добавить страницу отзывов клиентов о магазине, что позволит увеличить количество заказов   \n",
       "3           Изменить структура категорий, что увеличит конверсию, т.к. пользователи быстрее найдут нужный товар   \n",
       "4                              Изменить цвет фона главной страницы, чтобы увеличить вовлеченность пользователей   \n",
       "\n",
       "    ICE   RICE  \n",
       "8  16.2   16.2  \n",
       "0  13.3   40.0  \n",
       "7  11.2  112.0  \n",
       "6   8.0   40.0  \n",
       "2   7.0   56.0  \n",
       "1   2.0    4.0  \n",
       "5   1.3    4.0  \n",
       "3   1.1    9.0  \n",
       "4   1.0    3.0  "
      ]
     },
     "metadata": {},
     "output_type": "display_data"
    }
   ],
   "source": [
    "display(round(hypothesis[['hypothesis','ICE','RICE']].sort_values(by='ICE',ascending=False),1))"
   ]
  },
  {
   "cell_type": "markdown",
   "metadata": {},
   "source": [
    "### Задача "
   ]
  },
  {
   "cell_type": "markdown",
   "metadata": {},
   "source": [
    "Укажите, как изменилась приоритизация гипотез при применении RICE вместо ICE. Объясните, почему так произошло."
   ]
  },
  {
   "cell_type": "markdown",
   "metadata": {},
   "source": [
    "В топ 3 в двух методах приоритизации гипотез попали гипотезы о добавилении двух новых каналов привлечения трафика, что позволит привлекать на 30% больше пользователей и гипотеза о добавлении формы подписки на все основные страницы, чтобы собрать базу клиентов для email-рассылок. Также с 5 места по методу ICE на 2 по RICE \"поднялась\" гипотеза о добавлении блоков рекомендаций товаров на сайт интернет магазина, чтобы повысить конверсию и средний чек заказа. Связано это с высоким показателем Reach, который обозначает то, скольких пользователей затронет изменение, которое вы хотите внести.\t"
   ]
  },
  {
   "cell_type": "markdown",
   "metadata": {},
   "source": [
    "## Часть 2. Анализ A/B-теста"
   ]
  },
  {
   "cell_type": "code",
   "execution_count": 8,
   "metadata": {},
   "outputs": [],
   "source": [
    "orders = pd.read_csv('/datasets/orders.csv')\n",
    "orders['date'] = orders['date'].map(\n",
    "    lambda x: dt.datetime.strptime(x, '%Y-%m-%d')\n",
    ")"
   ]
  },
  {
   "cell_type": "markdown",
   "metadata": {},
   "source": [
    "Проверим пользователей, котрые попали в обе группы и удалим их"
   ]
  },
  {
   "cell_type": "code",
   "execution_count": 9,
   "metadata": {
    "scrolled": true
   },
   "outputs": [
    {
     "name": "stdout",
     "output_type": "stream",
     "text": [
      "Повторы: 58\n",
      "Пользователи в обеих группах: [4069496402, 199603092, 3803269165, 2378935119, 237748145, 4256040402, 2038680547, 1738359350, 2458001652, 3891541246, 2716752286, 3656415546, 2686716486, 2954449915, 2927087541, 3234906277, 457167155, 2579882178, 3957174400, 1648269707, 2780786433, 818047933, 2044997962, 1959144690, 3202540741, 1333886533, 351125977, 3951559397, 393266494, 3984495233, 4120364173, 4266935830, 1230306981, 1294878855, 1614305549, 8300375, 477780734, 1668030113, 3717692402, 3766097110, 3941795274, 471551937, 1316129916, 1801183820, 1602967004, 2587333274, 2600415354, 232979603, 3972127743, 1404934699, 276558944, 3062433592, 2654030115, 3963646447, 4186807279, 2712142231, 2949041841, 963407295]\n"
     ]
    }
   ],
   "source": [
    "two_gr = []\n",
    "for x in orders[orders['group']=='A']['visitorId'].unique():\n",
    "    if x in orders[orders['group']=='B']['visitorId'].unique():        \n",
    "        two_gr.append(x)\n",
    "print('Повторы:', len(two_gr))\n",
    "print('Пользователи в обеих группах:', two_gr)"
   ]
  },
  {
   "cell_type": "code",
   "execution_count": 10,
   "metadata": {},
   "outputs": [],
   "source": [
    "orders = orders.query('visitorId not in @two_gr')"
   ]
  },
  {
   "cell_type": "code",
   "execution_count": 11,
   "metadata": {
    "scrolled": true
   },
   "outputs": [
    {
     "data": {
      "text/html": [
       "<div>\n",
       "<style scoped>\n",
       "    .dataframe tbody tr th:only-of-type {\n",
       "        vertical-align: middle;\n",
       "    }\n",
       "\n",
       "    .dataframe tbody tr th {\n",
       "        vertical-align: top;\n",
       "    }\n",
       "\n",
       "    .dataframe thead th {\n",
       "        text-align: right;\n",
       "    }\n",
       "</style>\n",
       "<table border=\"1\" class=\"dataframe\">\n",
       "  <thead>\n",
       "    <tr style=\"text-align: right;\">\n",
       "      <th></th>\n",
       "      <th>transactionId</th>\n",
       "      <th>visitorId</th>\n",
       "      <th>date</th>\n",
       "      <th>revenue</th>\n",
       "      <th>group</th>\n",
       "    </tr>\n",
       "  </thead>\n",
       "  <tbody>\n",
       "    <tr>\n",
       "      <th>0</th>\n",
       "      <td>3667963787</td>\n",
       "      <td>3312258926</td>\n",
       "      <td>2019-08-15</td>\n",
       "      <td>1650</td>\n",
       "      <td>B</td>\n",
       "    </tr>\n",
       "    <tr>\n",
       "      <th>1</th>\n",
       "      <td>2804400009</td>\n",
       "      <td>3642806036</td>\n",
       "      <td>2019-08-15</td>\n",
       "      <td>730</td>\n",
       "      <td>B</td>\n",
       "    </tr>\n",
       "    <tr>\n",
       "      <th>3</th>\n",
       "      <td>3797467345</td>\n",
       "      <td>1196621759</td>\n",
       "      <td>2019-08-15</td>\n",
       "      <td>9759</td>\n",
       "      <td>B</td>\n",
       "    </tr>\n",
       "    <tr>\n",
       "      <th>4</th>\n",
       "      <td>2282983706</td>\n",
       "      <td>2322279887</td>\n",
       "      <td>2019-08-15</td>\n",
       "      <td>2308</td>\n",
       "      <td>B</td>\n",
       "    </tr>\n",
       "    <tr>\n",
       "      <th>5</th>\n",
       "      <td>182168103</td>\n",
       "      <td>935554773</td>\n",
       "      <td>2019-08-15</td>\n",
       "      <td>2210</td>\n",
       "      <td>B</td>\n",
       "    </tr>\n",
       "  </tbody>\n",
       "</table>\n",
       "</div>"
      ],
      "text/plain": [
       "   transactionId   visitorId       date  revenue group\n",
       "0     3667963787  3312258926 2019-08-15     1650     B\n",
       "1     2804400009  3642806036 2019-08-15      730     B\n",
       "3     3797467345  1196621759 2019-08-15     9759     B\n",
       "4     2282983706  2322279887 2019-08-15     2308     B\n",
       "5      182168103   935554773 2019-08-15     2210     B"
      ]
     },
     "metadata": {},
     "output_type": "display_data"
    }
   ],
   "source": [
    "display(orders.head())"
   ]
  },
  {
   "cell_type": "code",
   "execution_count": 12,
   "metadata": {},
   "outputs": [
    {
     "data": {
      "text/plain": [
       "0"
      ]
     },
     "execution_count": 12,
     "metadata": {},
     "output_type": "execute_result"
    }
   ],
   "source": [
    "orders.duplicated().sum()"
   ]
  },
  {
   "cell_type": "code",
   "execution_count": 13,
   "metadata": {},
   "outputs": [
    {
     "name": "stdout",
     "output_type": "stream",
     "text": [
      "<class 'pandas.core.frame.DataFrame'>\n",
      "Int64Index: 1016 entries, 0 to 1196\n",
      "Data columns (total 5 columns):\n",
      " #   Column         Non-Null Count  Dtype         \n",
      "---  ------         --------------  -----         \n",
      " 0   transactionId  1016 non-null   int64         \n",
      " 1   visitorId      1016 non-null   int64         \n",
      " 2   date           1016 non-null   datetime64[ns]\n",
      " 3   revenue        1016 non-null   int64         \n",
      " 4   group          1016 non-null   object        \n",
      "dtypes: datetime64[ns](1), int64(3), object(1)\n",
      "memory usage: 47.6+ KB\n"
     ]
    }
   ],
   "source": [
    "orders.info()"
   ]
  },
  {
   "cell_type": "code",
   "execution_count": 14,
   "metadata": {
    "scrolled": true
   },
   "outputs": [
    {
     "data": {
      "text/html": [
       "<div>\n",
       "<style scoped>\n",
       "    .dataframe tbody tr th:only-of-type {\n",
       "        vertical-align: middle;\n",
       "    }\n",
       "\n",
       "    .dataframe tbody tr th {\n",
       "        vertical-align: top;\n",
       "    }\n",
       "\n",
       "    .dataframe thead th {\n",
       "        text-align: right;\n",
       "    }\n",
       "</style>\n",
       "<table border=\"1\" class=\"dataframe\">\n",
       "  <thead>\n",
       "    <tr style=\"text-align: right;\">\n",
       "      <th></th>\n",
       "      <th>date</th>\n",
       "      <th>group</th>\n",
       "      <th>visitors</th>\n",
       "    </tr>\n",
       "  </thead>\n",
       "  <tbody>\n",
       "    <tr>\n",
       "      <th>0</th>\n",
       "      <td>2019-08-01</td>\n",
       "      <td>A</td>\n",
       "      <td>719</td>\n",
       "    </tr>\n",
       "    <tr>\n",
       "      <th>1</th>\n",
       "      <td>2019-08-02</td>\n",
       "      <td>A</td>\n",
       "      <td>619</td>\n",
       "    </tr>\n",
       "    <tr>\n",
       "      <th>2</th>\n",
       "      <td>2019-08-03</td>\n",
       "      <td>A</td>\n",
       "      <td>507</td>\n",
       "    </tr>\n",
       "    <tr>\n",
       "      <th>3</th>\n",
       "      <td>2019-08-04</td>\n",
       "      <td>A</td>\n",
       "      <td>717</td>\n",
       "    </tr>\n",
       "    <tr>\n",
       "      <th>4</th>\n",
       "      <td>2019-08-05</td>\n",
       "      <td>A</td>\n",
       "      <td>756</td>\n",
       "    </tr>\n",
       "  </tbody>\n",
       "</table>\n",
       "</div>"
      ],
      "text/plain": [
       "        date group  visitors\n",
       "0 2019-08-01     A       719\n",
       "1 2019-08-02     A       619\n",
       "2 2019-08-03     A       507\n",
       "3 2019-08-04     A       717\n",
       "4 2019-08-05     A       756"
      ]
     },
     "metadata": {},
     "output_type": "display_data"
    }
   ],
   "source": [
    "visitors = pd.read_csv('/datasets/visitors.csv')\n",
    "visitors['date'] = visitors['date'].map(\n",
    "    lambda x: dt.datetime.strptime(x, '%Y-%m-%d')\n",
    ")\n",
    "display(visitors.head())"
   ]
  },
  {
   "cell_type": "code",
   "execution_count": 15,
   "metadata": {},
   "outputs": [
    {
     "data": {
      "text/plain": [
       "0"
      ]
     },
     "execution_count": 15,
     "metadata": {},
     "output_type": "execute_result"
    }
   ],
   "source": [
    "visitors.duplicated().sum()"
   ]
  },
  {
   "cell_type": "code",
   "execution_count": 16,
   "metadata": {},
   "outputs": [
    {
     "name": "stdout",
     "output_type": "stream",
     "text": [
      "<class 'pandas.core.frame.DataFrame'>\n",
      "RangeIndex: 62 entries, 0 to 61\n",
      "Data columns (total 3 columns):\n",
      " #   Column    Non-Null Count  Dtype         \n",
      "---  ------    --------------  -----         \n",
      " 0   date      62 non-null     datetime64[ns]\n",
      " 1   group     62 non-null     object        \n",
      " 2   visitors  62 non-null     int64         \n",
      "dtypes: datetime64[ns](1), int64(1), object(1)\n",
      "memory usage: 1.6+ KB\n"
     ]
    }
   ],
   "source": [
    "visitors.info()"
   ]
  },
  {
   "cell_type": "markdown",
   "metadata": {},
   "source": [
    "Таким образом, мы вывели таблицы с покупками и пользователями, проверили отсутстсвие дубликатов, а также изменили тип данных у столбца с датой. Еще мы удалили из таблицы с покупками тех пользователей, которые попали в обе группы теста."
   ]
  },
  {
   "cell_type": "markdown",
   "metadata": {},
   "source": [
    "### Кумулятивная выручка по группам"
   ]
  },
  {
   "cell_type": "markdown",
   "metadata": {},
   "source": [
    "Постройте график кумулятивной выручки по группам. Сделайте выводы и предположения."
   ]
  },
  {
   "cell_type": "code",
   "execution_count": 17,
   "metadata": {},
   "outputs": [],
   "source": [
    "# создаем массив уникальных пар значений дат и групп теста\n",
    "datesGroups = orders[['date','group']].drop_duplicates() "
   ]
  },
  {
   "cell_type": "code",
   "execution_count": 18,
   "metadata": {},
   "outputs": [],
   "source": [
    "# Соберём агрегированные кумулятивные по дням данные о заказах в несколько действий. \n",
    "ordersAggregated = datesGroups.apply(lambda x: orders[np.logical_and(orders['date'] <= x['date'], orders['group'] == x['group'])]\\\n",
    ".agg({'date' : 'max', 'group' : 'max', 'transactionId' : 'nunique', 'visitorId' : 'nunique', 'revenue' : 'sum'}), axis=1).sort_values(by=['date','group'])"
   ]
  },
  {
   "cell_type": "code",
   "execution_count": 19,
   "metadata": {},
   "outputs": [],
   "source": [
    "# Аналогично получим агрегированные кумулятивные по дням данные о посетителях интернет-магазина:\n",
    "visitorsAggregated = datesGroups.apply(lambda x: visitors[np.logical_and(visitors['date'] <= x['date'], visitors['group'] == x['group'])].agg({'date' : 'max', 'group' : 'max', 'visitors' : 'sum'}), axis=1).sort_values(by=['date','group'])"
   ]
  },
  {
   "cell_type": "markdown",
   "metadata": {},
   "source": [
    "Объединим обе таблицы в одну с понятными названиями столбцов: "
   ]
  },
  {
   "cell_type": "code",
   "execution_count": 20,
   "metadata": {},
   "outputs": [
    {
     "data": {
      "text/html": [
       "<div>\n",
       "<style scoped>\n",
       "    .dataframe tbody tr th:only-of-type {\n",
       "        vertical-align: middle;\n",
       "    }\n",
       "\n",
       "    .dataframe tbody tr th {\n",
       "        vertical-align: top;\n",
       "    }\n",
       "\n",
       "    .dataframe thead th {\n",
       "        text-align: right;\n",
       "    }\n",
       "</style>\n",
       "<table border=\"1\" class=\"dataframe\">\n",
       "  <thead>\n",
       "    <tr style=\"text-align: right;\">\n",
       "      <th></th>\n",
       "      <th>date</th>\n",
       "      <th>group</th>\n",
       "      <th>orders</th>\n",
       "      <th>buyers</th>\n",
       "      <th>revenue</th>\n",
       "      <th>visitors</th>\n",
       "    </tr>\n",
       "  </thead>\n",
       "  <tbody>\n",
       "    <tr>\n",
       "      <th>0</th>\n",
       "      <td>2019-08-01</td>\n",
       "      <td>A</td>\n",
       "      <td>23</td>\n",
       "      <td>19</td>\n",
       "      <td>142779</td>\n",
       "      <td>719</td>\n",
       "    </tr>\n",
       "    <tr>\n",
       "      <th>1</th>\n",
       "      <td>2019-08-01</td>\n",
       "      <td>B</td>\n",
       "      <td>17</td>\n",
       "      <td>17</td>\n",
       "      <td>59758</td>\n",
       "      <td>713</td>\n",
       "    </tr>\n",
       "    <tr>\n",
       "      <th>2</th>\n",
       "      <td>2019-08-02</td>\n",
       "      <td>A</td>\n",
       "      <td>42</td>\n",
       "      <td>36</td>\n",
       "      <td>234381</td>\n",
       "      <td>1338</td>\n",
       "    </tr>\n",
       "    <tr>\n",
       "      <th>3</th>\n",
       "      <td>2019-08-02</td>\n",
       "      <td>B</td>\n",
       "      <td>40</td>\n",
       "      <td>39</td>\n",
       "      <td>221801</td>\n",
       "      <td>1294</td>\n",
       "    </tr>\n",
       "    <tr>\n",
       "      <th>4</th>\n",
       "      <td>2019-08-03</td>\n",
       "      <td>A</td>\n",
       "      <td>66</td>\n",
       "      <td>60</td>\n",
       "      <td>346854</td>\n",
       "      <td>1845</td>\n",
       "    </tr>\n",
       "  </tbody>\n",
       "</table>\n",
       "</div>"
      ],
      "text/plain": [
       "        date group  orders  buyers  revenue  visitors\n",
       "0 2019-08-01     A      23      19   142779       719\n",
       "1 2019-08-01     B      17      17    59758       713\n",
       "2 2019-08-02     A      42      36   234381      1338\n",
       "3 2019-08-02     B      40      39   221801      1294\n",
       "4 2019-08-03     A      66      60   346854      1845"
      ]
     },
     "metadata": {},
     "output_type": "display_data"
    }
   ],
   "source": [
    "# объединяем кумулятивные данные в одной таблице и присваиваем ее столбцам понятные названия\n",
    "cumulativeData = ordersAggregated.merge(visitorsAggregated, left_on=['date', 'group'], right_on=['date', 'group'])\n",
    "cumulativeData.columns = ['date', 'group', 'orders', 'buyers', 'revenue', 'visitors']\n",
    "\n",
    "display(cumulativeData.head(5))"
   ]
  },
  {
   "cell_type": "code",
   "execution_count": 21,
   "metadata": {},
   "outputs": [
    {
     "data": {
      "image/png": "[encoded data removed]",
      "text/plain": [
       "<Figure size 1080x432 with 1 Axes>"
      ]
     },
     "metadata": {
      "needs_background": "light"
     },
     "output_type": "display_data"
    }
   ],
   "source": [
    "plt.figure(figsize=(15, 6))\n",
    "# датафрейм с кумулятивным количеством заказов и кумулятивной выручкой по дням в группе А\n",
    "cumulativeRevenueA = cumulativeData[cumulativeData['group']=='A'][['date','revenue', 'orders']]\n",
    "\n",
    "# датафрейм с кумулятивным количеством заказов и кумулятивной выручкой по дням в группе B\n",
    "cumulativeRevenueB = cumulativeData[cumulativeData['group']=='B'][['date','revenue', 'orders']]\n",
    "\n",
    "# Строим график выручки группы А\n",
    "plt.plot(cumulativeRevenueA['date'], cumulativeRevenueA['revenue'], label='A')\n",
    "\n",
    "# Строим график выручки группы B\n",
    "plt.plot(cumulativeRevenueB['date'], cumulativeRevenueB['revenue'], label='B')\n",
    "\n",
    "plt.legend() \n",
    "plt.title(\"Кумулятивная выручка по группам\")\n",
    "plt.xlabel(\"дата\")\n",
    "plt.ylabel(\"выручка\");"
   ]
  },
  {
   "cell_type": "markdown",
   "metadata": {},
   "source": [
    "Выручка группы А практически равномерно умеличивалась за все время, а у группы В произошел резкий скачок в период с 20 августа 2019. Возможно именно столько (примерно 3 недели) требуется посетителю магазина, чтобы принять решение о покупке, поэтому по истечению этого срока группа В, с тестируемым нововведением, показала резкий рост выручки. Также следует отметить, что на протяжении всего периода кумулятивная выручка группы В больше, чем у группы А."
   ]
  },
  {
   "cell_type": "markdown",
   "metadata": {},
   "source": [
    "###  Кумулятивный средний чек по группам"
   ]
  },
  {
   "cell_type": "markdown",
   "metadata": {},
   "source": [
    "Постройте график кумулятивного среднего чека по группам. Сделайте выводы и предположения."
   ]
  },
  {
   "cell_type": "code",
   "execution_count": 22,
   "metadata": {},
   "outputs": [
    {
     "data": {
      "image/png": "[encoded data removed]",
      "text/plain": [
       "<Figure size 1080x432 with 1 Axes>"
      ]
     },
     "metadata": {
      "needs_background": "light"
     },
     "output_type": "display_data"
    }
   ],
   "source": [
    "plt.figure(figsize=(15, 6))\n",
    "plt.plot(cumulativeRevenueA['date'], cumulativeRevenueA['revenue']/cumulativeRevenueA['orders'], label='A')\n",
    "plt.plot(cumulativeRevenueB['date'], cumulativeRevenueB['revenue']/cumulativeRevenueB['orders'], label='B')\n",
    "plt.legend() \n",
    "plt.title(\"Кумулятивный средний чек по группам\")\n",
    "plt.xlabel(\"дата\")\n",
    "plt.ylabel(\"средний чек\");"
   ]
  },
  {
   "cell_type": "markdown",
   "metadata": {},
   "source": [
    "Средний чек группы А становится равномерным ближе к концу теста: после падения вначале он устанавливается на 7 000 к сентябрю. Средний чек группы В тоже поначалу нестабилен, но также заметен его резкий рост в период 20 августа 2019 года до 10 000, к сентябрю он немного снижается до 9 000. Возможно именно к этому периоду бОльшая часть группы ознакомилась с нововведением и начала им пользоваться/или оно начало на нее активно влиять."
   ]
  },
  {
   "cell_type": "markdown",
   "metadata": {},
   "source": [
    "### Относительное изменение кумулятивного среднего чека группы B к группе A"
   ]
  },
  {
   "cell_type": "markdown",
   "metadata": {},
   "source": [
    "Постройте график относительного изменения кумулятивного среднего чека группы B к группе A. Сделайте выводы и предположения."
   ]
  },
  {
   "cell_type": "code",
   "execution_count": 23,
   "metadata": {},
   "outputs": [
    {
     "data": {
      "image/png": "[encoded data removed]",
      "text/plain": [
       "<Figure size 1080x432 with 1 Axes>"
      ]
     },
     "metadata": {
      "needs_background": "light"
     },
     "output_type": "display_data"
    }
   ],
   "source": [
    "plt.figure(figsize=(15, 6))\n",
    "# собираем данные в одном датафрейме\n",
    "mergedCumulativeRevenue = cumulativeRevenueA.merge(cumulativeRevenueB, left_on='date', right_on='date', how='left', suffixes=['A', 'B'])\n",
    "\n",
    "# cтроим отношение средних чеков\n",
    "plt.plot(mergedCumulativeRevenue['date'], (mergedCumulativeRevenue['revenueB']/mergedCumulativeRevenue['ordersB'])/(mergedCumulativeRevenue['revenueA']/mergedCumulativeRevenue['ordersA'])-1)\n",
    "\n",
    "# добавляем ось X\n",
    "plt.axhline(y=0, color='black', linestyle='--') \n",
    "plt.title(\"Относительное изменение кумулятивного среднего чека группы B к группе A\")\n",
    "plt.xlabel(\"дата\")\n",
    "plt.ylabel(\"изменение среднего чека\");"
   ]
  },
  {
   "cell_type": "markdown",
   "metadata": {},
   "source": [
    "В нескольких точках график различия между сегментами резко «скачет»: к 13 августу средний чек группы В становится меньше, чем у группы А, ходя и до и после этого периода группа В лидировала. Возможно все дело в выбросах и в крупных заказах."
   ]
  },
  {
   "cell_type": "markdown",
   "metadata": {},
   "source": [
    "### Кумулятивное среднее количество заказов на посетителя по группам"
   ]
  },
  {
   "cell_type": "markdown",
   "metadata": {},
   "source": [
    "Постройте график кумулятивного среднего количества заказов на посетителя по группам. Сделайте выводы и предположения."
   ]
  },
  {
   "cell_type": "code",
   "execution_count": 24,
   "metadata": {},
   "outputs": [
    {
     "data": {
      "image/png": "[encoded data removed]",
      "text/plain": [
       "<Figure size 1080x432 with 1 Axes>"
      ]
     },
     "metadata": {
      "needs_background": "light"
     },
     "output_type": "display_data"
    }
   ],
   "source": [
    "plt.figure(figsize=(15, 6))\n",
    "# считаем кумулятивное среднее количество заказов на посетителя по группам\n",
    "cumulativeData['conversion'] = cumulativeData['orders']/cumulativeData['visitors']\n",
    "\n",
    "# отделяем данные по группе A\n",
    "cumulativeDataA = cumulativeData[cumulativeData['group']=='A']\n",
    "\n",
    "# отделяем данные по группе B\n",
    "cumulativeDataB = cumulativeData[cumulativeData['group']=='B']\n",
    "\n",
    "# строим графики\n",
    "plt.plot(cumulativeDataA['date'], cumulativeDataA['conversion'], label='A')\n",
    "plt.plot(cumulativeDataB['date'], cumulativeDataB['conversion'], label='B')\n",
    "plt.legend()\n",
    "plt.title(\"Кумулятивное среднее количество заказов на посетителя по группам\")\n",
    "plt.xlabel(\"дата\")\n",
    "plt.ylabel(\"среднее количество заказов на посетителя\");"
   ]
  },
  {
   "cell_type": "markdown",
   "metadata": {},
   "source": [
    "Изначально у двух групп наблюдались скачки кумулятивного среднего количества заказов на посетителя: был резкий рост у группы А и резкий рост и падение у группы В. Однако уже после 6 августа показатель группы А стал проседать, а показатель группы В напротив стал расти. Лидирует группа В."
   ]
  },
  {
   "cell_type": "markdown",
   "metadata": {},
   "source": [
    "### Относительное изменение кумулятивного среднего количества заказов на посетителя группы B к группе A"
   ]
  },
  {
   "cell_type": "markdown",
   "metadata": {},
   "source": [
    "Постройте график относительного изменения кумулятивного среднего количества заказов на посетителя группы B к группе A. Сделайте выводы и предположения."
   ]
  },
  {
   "cell_type": "code",
   "execution_count": 25,
   "metadata": {},
   "outputs": [
    {
     "data": {
      "image/png": "[encoded data removed]",
      "text/plain": [
       "<Figure size 1080x432 with 1 Axes>"
      ]
     },
     "metadata": {
      "needs_background": "light"
     },
     "output_type": "display_data"
    }
   ],
   "source": [
    "plt.figure(figsize=(15, 6))\n",
    "mergedCumulativeConversions = cumulativeDataA[['date','conversion']].merge(cumulativeDataB[['date','conversion']], left_on='date', right_on='date', how='left', suffixes=['A', 'B'])\n",
    "\n",
    "plt.plot(mergedCumulativeConversions['date'], mergedCumulativeConversions['conversionB']/mergedCumulativeConversions['conversionA']-1, label=\"Относительный прирост конверсии группы B относительно группы A\")\n",
    "plt.legend()\n",
    "\n",
    "plt.axhline(y=0, color='black', linestyle='--')\n",
    "plt.axhline(y=0.16, color='grey', linestyle='--')\n",
    "plt.title(\"Относительное изменение кумулятивного среднего количества заказов на посетителя группы B к группе A\")\n",
    "plt.xlabel(\"дата\")\n",
    "plt.ylabel(\"изменение среднего количества заказов на посетителя\");"
   ]
  },
  {
   "cell_type": "markdown",
   "metadata": {},
   "source": [
    "Этот график также подтверждает, что вначале изменения кумулятивного среднего количества заказов на посетителя были подвержены скачкам, а после 6 августа показатель групппы В стал расти. График зафиксировался около значения 0,16."
   ]
  },
  {
   "cell_type": "markdown",
   "metadata": {},
   "source": [
    "### Количество заказов по пользователям"
   ]
  },
  {
   "cell_type": "markdown",
   "metadata": {},
   "source": [
    "Постройте точечный график количества заказов по пользователям. Сделайте выводы и предположения."
   ]
  },
  {
   "cell_type": "code",
   "execution_count": 26,
   "metadata": {},
   "outputs": [
    {
     "data": {
      "text/html": [
       "<div>\n",
       "<style scoped>\n",
       "    .dataframe tbody tr th:only-of-type {\n",
       "        vertical-align: middle;\n",
       "    }\n",
       "\n",
       "    .dataframe tbody tr th {\n",
       "        vertical-align: top;\n",
       "    }\n",
       "\n",
       "    .dataframe thead th {\n",
       "        text-align: right;\n",
       "    }\n",
       "</style>\n",
       "<table border=\"1\" class=\"dataframe\">\n",
       "  <thead>\n",
       "    <tr style=\"text-align: right;\">\n",
       "      <th></th>\n",
       "      <th>userId</th>\n",
       "      <th>orders</th>\n",
       "    </tr>\n",
       "  </thead>\n",
       "  <tbody>\n",
       "    <tr>\n",
       "      <th>908</th>\n",
       "      <td>3967698036</td>\n",
       "      <td>3</td>\n",
       "    </tr>\n",
       "    <tr>\n",
       "      <th>55</th>\n",
       "      <td>249864742</td>\n",
       "      <td>3</td>\n",
       "    </tr>\n",
       "    <tr>\n",
       "      <th>478</th>\n",
       "      <td>2108163459</td>\n",
       "      <td>3</td>\n",
       "    </tr>\n",
       "    <tr>\n",
       "      <th>687</th>\n",
       "      <td>2988190573</td>\n",
       "      <td>3</td>\n",
       "    </tr>\n",
       "    <tr>\n",
       "      <th>890</th>\n",
       "      <td>3908431265</td>\n",
       "      <td>3</td>\n",
       "    </tr>\n",
       "    <tr>\n",
       "      <th>138</th>\n",
       "      <td>611059232</td>\n",
       "      <td>3</td>\n",
       "    </tr>\n",
       "    <tr>\n",
       "      <th>632</th>\n",
       "      <td>2742574263</td>\n",
       "      <td>3</td>\n",
       "    </tr>\n",
       "    <tr>\n",
       "      <th>157</th>\n",
       "      <td>678354126</td>\n",
       "      <td>2</td>\n",
       "    </tr>\n",
       "    <tr>\n",
       "      <th>323</th>\n",
       "      <td>1404560065</td>\n",
       "      <td>2</td>\n",
       "    </tr>\n",
       "    <tr>\n",
       "      <th>452</th>\n",
       "      <td>1985475298</td>\n",
       "      <td>2</td>\n",
       "    </tr>\n",
       "  </tbody>\n",
       "</table>\n",
       "</div>"
      ],
      "text/plain": [
       "         userId  orders\n",
       "908  3967698036       3\n",
       "55    249864742       3\n",
       "478  2108163459       3\n",
       "687  2988190573       3\n",
       "890  3908431265       3\n",
       "138   611059232       3\n",
       "632  2742574263       3\n",
       "157   678354126       2\n",
       "323  1404560065       2\n",
       "452  1985475298       2"
      ]
     },
     "metadata": {},
     "output_type": "display_data"
    }
   ],
   "source": [
    "ordersByUsers = (\n",
    "    orders.groupby('visitorId', as_index=False)\n",
    "    .agg({'transactionId': 'nunique'})\n",
    ")\n",
    "\n",
    "ordersByUsers.columns = ['userId', 'orders']\n",
    "\n",
    "display(ordersByUsers.sort_values(by='orders', ascending=False).head(10)) "
   ]
  },
  {
   "cell_type": "code",
   "execution_count": 27,
   "metadata": {},
   "outputs": [
    {
     "data": {
      "image/png": "[encoded data removed]",
      "text/plain": [
       "<Figure size 1080x432 with 1 Axes>"
      ]
     },
     "metadata": {
      "needs_background": "light"
     },
     "output_type": "display_data"
    }
   ],
   "source": [
    "x_values = pd.Series(range(0,len(ordersByUsers)))\n",
    "plt.figure(figsize=(15, 6))\n",
    "plt.scatter(x_values, ordersByUsers['orders']) \n",
    "plt.title(\"Количество заказов по пользователям\")\n",
    "plt.xlabel(\"номер пользователя\")\n",
    "plt.ylabel(\"количество заказов\");"
   ]
  },
  {
   "cell_type": "markdown",
   "metadata": {},
   "source": [
    "Много пользователей с 2-3 заказами. Их точная доля не ясна — непонятно, считать их аномалиями или нет. "
   ]
  },
  {
   "cell_type": "markdown",
   "metadata": {},
   "source": [
    "### Расчет перцентилей"
   ]
  },
  {
   "cell_type": "markdown",
   "metadata": {},
   "source": [
    "Посчитайте 95-й и 99-й перцентили количества заказов на пользователя. Выберите границу для определения аномальных пользователей."
   ]
  },
  {
   "cell_type": "code",
   "execution_count": 28,
   "metadata": {},
   "outputs": [
    {
     "name": "stdout",
     "output_type": "stream",
     "text": [
      "[1. 2.]\n"
     ]
    }
   ],
   "source": [
    "print(np.percentile(ordersByUsers['orders'], [95, 99])) "
   ]
  },
  {
   "cell_type": "markdown",
   "metadata": {},
   "source": [
    "Не более 5% пользователей оформляют больше 1 покупоки, и всего 1% - больше 2. Поставим границу на 2 покупках."
   ]
  },
  {
   "cell_type": "markdown",
   "metadata": {},
   "source": [
    "### Стоимости заказов"
   ]
  },
  {
   "cell_type": "markdown",
   "metadata": {},
   "source": [
    "Постройте точечный график стоимостей заказов. Сделайте выводы и предположения."
   ]
  },
  {
   "cell_type": "code",
   "execution_count": 29,
   "metadata": {},
   "outputs": [
    {
     "data": {
      "image/png": "[encoded data removed]",
      "text/plain": [
       "<Figure size 1080x432 with 1 Axes>"
      ]
     },
     "metadata": {
      "needs_background": "light"
     },
     "output_type": "display_data"
    }
   ],
   "source": [
    "x_values = pd.Series(range(0,len(orders['revenue'])))\n",
    "plt.figure(figsize=(15, 6))\n",
    "plt.scatter(x_values, orders['revenue']) \n",
    "plt.title(\"Стоимости заказов\")\n",
    "plt.xlabel(\"номер пользователя\")\n",
    "plt.ylabel(\"стоимость заказов\");"
   ]
  },
  {
   "cell_type": "code",
   "execution_count": 30,
   "metadata": {},
   "outputs": [],
   "source": [
    "orders_new = orders.loc[(orders['revenue'] <= orders['revenue'].quantile(0.9988))]"
   ]
  },
  {
   "cell_type": "code",
   "execution_count": 31,
   "metadata": {
    "scrolled": false
   },
   "outputs": [
    {
     "data": {
      "image/png": "[encoded data removed]",
      "text/plain": [
       "<Figure size 1080x432 with 1 Axes>"
      ]
     },
     "metadata": {
      "needs_background": "light"
     },
     "output_type": "display_data"
    }
   ],
   "source": [
    "x_values = pd.Series(range(0,len(orders_new['revenue'])))\n",
    "plt.figure(figsize=(15, 6))\n",
    "plt.scatter(x_values, orders_new['revenue']) \n",
    "plt.title(\"Стоимости заказов\")\n",
    "plt.xlabel(\"номер пользователя\")\n",
    "plt.ylabel(\"стоимость заказов\");"
   ]
  },
  {
   "cell_type": "markdown",
   "metadata": {},
   "source": [
    "Имеются редкие относительно дорогие покупки, но пока непонятно, что считать аномалиями"
   ]
  },
  {
   "cell_type": "markdown",
   "metadata": {},
   "source": [
    "### Расчет перцентилей"
   ]
  },
  {
   "cell_type": "markdown",
   "metadata": {},
   "source": [
    "Посчитайте 95-й и 99-й перцентили стоимости заказов. Выберите границу для определения аномальных заказов."
   ]
  },
  {
   "cell_type": "code",
   "execution_count": 32,
   "metadata": {},
   "outputs": [
    {
     "name": "stdout",
     "output_type": "stream",
     "text": [
      "[26785. 53904.]\n"
     ]
    }
   ],
   "source": [
    "print(np.percentile(orders['revenue'], [95, 99])) "
   ]
  },
  {
   "cell_type": "markdown",
   "metadata": {},
   "source": [
    "Не более 5% пользователей заказывают больше чем на  26 700, и всего 1% - больше чем на 53 900. Поставим границу на 53 000."
   ]
  },
  {
   "cell_type": "markdown",
   "metadata": {},
   "source": [
    "### Cтатистическая значимость различий в среднем количестве заказов на посетителя между группами по «сырым» данным"
   ]
  },
  {
   "cell_type": "markdown",
   "metadata": {},
   "source": [
    "Посчитайте статистическую значимость различий в среднем количестве заказов на посетителя между группами по «сырым» данным. Сделайте выводы и предположения."
   ]
  },
  {
   "cell_type": "markdown",
   "metadata": {},
   "source": [
    "H0: статистически значимых различий в среднем числе заказов между группами по «сырым» данным нет\n",
    "\n",
    "H1: статистически значимые различия в среднем числе заказов между группами по «сырым» данным есть\n",
    "\n",
    "alpha = 0.05"
   ]
  },
  {
   "cell_type": "code",
   "execution_count": 33,
   "metadata": {},
   "outputs": [
    {
     "data": {
      "text/html": [
       "<div>\n",
       "<style scoped>\n",
       "    .dataframe tbody tr th:only-of-type {\n",
       "        vertical-align: middle;\n",
       "    }\n",
       "\n",
       "    .dataframe tbody tr th {\n",
       "        vertical-align: top;\n",
       "    }\n",
       "\n",
       "    .dataframe thead th {\n",
       "        text-align: right;\n",
       "    }\n",
       "</style>\n",
       "<table border=\"1\" class=\"dataframe\">\n",
       "  <thead>\n",
       "    <tr style=\"text-align: right;\">\n",
       "      <th></th>\n",
       "      <th>date</th>\n",
       "      <th>ordersPerDateA</th>\n",
       "      <th>revenuePerDateA</th>\n",
       "      <th>ordersPerDateB</th>\n",
       "      <th>revenuePerDateB</th>\n",
       "      <th>ordersCummulativeA</th>\n",
       "      <th>revenueCummulativeA</th>\n",
       "      <th>ordersCummulativeB</th>\n",
       "      <th>revenueCummulativeB</th>\n",
       "      <th>visitorsPerDateA</th>\n",
       "      <th>visitorsPerDateB</th>\n",
       "      <th>visitorsCummulativeA</th>\n",
       "      <th>visitorsCummulativeB</th>\n",
       "    </tr>\n",
       "  </thead>\n",
       "  <tbody>\n",
       "    <tr>\n",
       "      <th>0</th>\n",
       "      <td>2019-08-01</td>\n",
       "      <td>23</td>\n",
       "      <td>142779</td>\n",
       "      <td>17</td>\n",
       "      <td>59758</td>\n",
       "      <td>23</td>\n",
       "      <td>142779</td>\n",
       "      <td>17</td>\n",
       "      <td>59758</td>\n",
       "      <td>719</td>\n",
       "      <td>713</td>\n",
       "      <td>719</td>\n",
       "      <td>713</td>\n",
       "    </tr>\n",
       "    <tr>\n",
       "      <th>1</th>\n",
       "      <td>2019-08-02</td>\n",
       "      <td>19</td>\n",
       "      <td>91602</td>\n",
       "      <td>23</td>\n",
       "      <td>162043</td>\n",
       "      <td>42</td>\n",
       "      <td>234381</td>\n",
       "      <td>40</td>\n",
       "      <td>221801</td>\n",
       "      <td>619</td>\n",
       "      <td>581</td>\n",
       "      <td>1338</td>\n",
       "      <td>1294</td>\n",
       "    </tr>\n",
       "    <tr>\n",
       "      <th>2</th>\n",
       "      <td>2019-08-03</td>\n",
       "      <td>24</td>\n",
       "      <td>112473</td>\n",
       "      <td>14</td>\n",
       "      <td>67049</td>\n",
       "      <td>66</td>\n",
       "      <td>346854</td>\n",
       "      <td>54</td>\n",
       "      <td>288850</td>\n",
       "      <td>507</td>\n",
       "      <td>509</td>\n",
       "      <td>1845</td>\n",
       "      <td>1803</td>\n",
       "    </tr>\n",
       "    <tr>\n",
       "      <th>3</th>\n",
       "      <td>2019-08-04</td>\n",
       "      <td>11</td>\n",
       "      <td>41176</td>\n",
       "      <td>14</td>\n",
       "      <td>96890</td>\n",
       "      <td>77</td>\n",
       "      <td>388030</td>\n",
       "      <td>68</td>\n",
       "      <td>385740</td>\n",
       "      <td>717</td>\n",
       "      <td>770</td>\n",
       "      <td>2562</td>\n",
       "      <td>2573</td>\n",
       "    </tr>\n",
       "    <tr>\n",
       "      <th>4</th>\n",
       "      <td>2019-08-05</td>\n",
       "      <td>22</td>\n",
       "      <td>86383</td>\n",
       "      <td>21</td>\n",
       "      <td>89908</td>\n",
       "      <td>99</td>\n",
       "      <td>474413</td>\n",
       "      <td>89</td>\n",
       "      <td>475648</td>\n",
       "      <td>756</td>\n",
       "      <td>707</td>\n",
       "      <td>3318</td>\n",
       "      <td>3280</td>\n",
       "    </tr>\n",
       "  </tbody>\n",
       "</table>\n",
       "</div>"
      ],
      "text/plain": [
       "        date  ordersPerDateA  revenuePerDateA  ordersPerDateB  \\\n",
       "0 2019-08-01              23           142779              17   \n",
       "1 2019-08-02              19            91602              23   \n",
       "2 2019-08-03              24           112473              14   \n",
       "3 2019-08-04              11            41176              14   \n",
       "4 2019-08-05              22            86383              21   \n",
       "\n",
       "   revenuePerDateB  ordersCummulativeA  revenueCummulativeA  \\\n",
       "0            59758                  23               142779   \n",
       "1           162043                  42               234381   \n",
       "2            67049                  66               346854   \n",
       "3            96890                  77               388030   \n",
       "4            89908                  99               474413   \n",
       "\n",
       "   ordersCummulativeB  revenueCummulativeB  visitorsPerDateA  \\\n",
       "0                  17                59758               719   \n",
       "1                  40               221801               619   \n",
       "2                  54               288850               507   \n",
       "3                  68               385740               717   \n",
       "4                  89               475648               756   \n",
       "\n",
       "   visitorsPerDateB  visitorsCummulativeA  visitorsCummulativeB  \n",
       "0               713                   719                   713  \n",
       "1               581                  1338                  1294  \n",
       "2               509                  1845                  1803  \n",
       "3               770                  2562                  2573  \n",
       "4               707                  3318                  3280  "
      ]
     },
     "metadata": {},
     "output_type": "display_data"
    }
   ],
   "source": [
    "visitorsADaily = visitors[visitors['group'] == 'A'][['date', 'visitors']]\n",
    "visitorsADaily.columns = ['date', 'visitorsPerDateA']\n",
    "\n",
    "visitorsACummulative = visitorsADaily.apply(\n",
    "    lambda x: visitorsADaily[visitorsADaily['date'] <= x['date']].agg(\n",
    "        {'date': 'max', 'visitorsPerDateA': 'sum'}\n",
    "    ),\n",
    "    axis=1,\n",
    ")\n",
    "visitorsACummulative.columns = ['date', 'visitorsCummulativeA']\n",
    "\n",
    "visitorsBDaily = visitors[visitors['group'] == 'B'][['date', 'visitors']]\n",
    "visitorsBDaily.columns = ['date', 'visitorsPerDateB']\n",
    "\n",
    "visitorsBCummulative = visitorsBDaily.apply(\n",
    "    lambda x: visitorsBDaily[visitorsBDaily['date'] <= x['date']].agg(\n",
    "        {'date': 'max', 'visitorsPerDateB': 'sum'}\n",
    "    ),\n",
    "    axis=1,\n",
    ")\n",
    "visitorsBCummulative.columns = ['date', 'visitorsCummulativeB']\n",
    "\n",
    "ordersADaily = (\n",
    "    orders[orders['group'] == 'A'][['date', 'transactionId', 'visitorId', 'revenue']]\n",
    "    .groupby('date', as_index=False)\n",
    "    .agg({'transactionId': pd.Series.nunique, 'revenue': 'sum'})\n",
    ")\n",
    "ordersADaily.columns = ['date', 'ordersPerDateA', 'revenuePerDateA']\n",
    "\n",
    "ordersACummulative = ordersADaily.apply(\n",
    "    lambda x: ordersADaily[ordersADaily['date'] <= x['date']].agg(\n",
    "        {'date': 'max', 'ordersPerDateA': 'sum', 'revenuePerDateA': 'sum'}\n",
    "    ),\n",
    "    axis=1,\n",
    ").sort_values(by=['date'])\n",
    "ordersACummulative.columns = [\n",
    "    'date',\n",
    "    'ordersCummulativeA',\n",
    "    'revenueCummulativeA',\n",
    "]\n",
    "\n",
    "ordersBDaily = (\n",
    "    orders[orders['group'] == 'B'][['date', 'transactionId', 'visitorId', 'revenue']]\n",
    "    .groupby('date', as_index=False)\n",
    "    .agg({'transactionId': pd.Series.nunique, 'revenue': 'sum'})\n",
    ")\n",
    "ordersBDaily.columns = ['date', 'ordersPerDateB', 'revenuePerDateB']\n",
    "\n",
    "ordersBCummulative = ordersBDaily.apply(\n",
    "    lambda x: ordersBDaily[ordersBDaily['date'] <= x['date']].agg(\n",
    "        {'date': 'max', 'ordersPerDateB': 'sum', 'revenuePerDateB': 'sum'}\n",
    "    ),\n",
    "    axis=1,\n",
    ").sort_values(by=['date'])\n",
    "ordersBCummulative.columns = [\n",
    "    'date',\n",
    "    'ordersCummulativeB',\n",
    "    'revenueCummulativeB',\n",
    "]\n",
    "\n",
    "data = (\n",
    "    ordersADaily.merge(\n",
    "        ordersBDaily, left_on='date', right_on='date', how='left'\n",
    "    )\n",
    "    .merge(ordersACummulative, left_on='date', right_on='date', how='left')\n",
    "    .merge(ordersBCummulative, left_on='date', right_on='date', how='left')\n",
    "    .merge(visitorsADaily, left_on='date', right_on='date', how='left')\n",
    "    .merge(visitorsBDaily, left_on='date', right_on='date', how='left')\n",
    "    .merge(visitorsACummulative, left_on='date', right_on='date', how='left')\n",
    "    .merge(visitorsBCummulative, left_on='date', right_on='date', how='left')\n",
    ")\n",
    "\n",
    "display(data.head(5))"
   ]
  },
  {
   "cell_type": "code",
   "execution_count": 34,
   "metadata": {},
   "outputs": [
    {
     "name": "stdout",
     "output_type": "stream",
     "text": [
      "p-value = 0.011\n",
      "Относительный прирост группы B = 0.160\n"
     ]
    }
   ],
   "source": [
    "ordersByUsersA = (\n",
    "    orders[orders['group'] == 'A']\n",
    "    .groupby('visitorId', as_index=False)\n",
    "    .agg({'transactionId': pd.Series.nunique})\n",
    ")\n",
    "ordersByUsersA.columns = ['userId', 'orders']\n",
    "\n",
    "ordersByUsersB = (\n",
    "    orders[orders['group'] == 'B']\n",
    "    .groupby('visitorId', as_index=False)\n",
    "    .agg({'transactionId': pd.Series.nunique})\n",
    ")\n",
    "ordersByUsersB.columns = ['userId', 'orders'] \n",
    "sampleA = pd.concat([ordersByUsersA['orders'],pd.Series(0, index=np.arange(data['visitorsPerDateA'].sum() - len(ordersByUsersA['orders'])), name='orders')],axis=0)\n",
    "\n",
    "sampleB = pd.concat([ordersByUsersB['orders'],pd.Series(0, index=np.arange(data['visitorsPerDateB'].sum() - len(ordersByUsersB['orders'])), name='orders')],axis=0)\n",
    "\n",
    "print('p-value = ' \"{0:.3f}\".format(stats.mannwhitneyu(sampleA, sampleB)[1]))\n",
    "\n",
    "print('Относительный прирост группы B = ' \"{0:.3f}\".format(sampleB.mean() / sampleA.mean() - 1))"
   ]
  },
  {
   "cell_type": "markdown",
   "metadata": {},
   "source": [
    "Различия в среднем числе заказов групп A и B есть. \n",
    "p-value = 0.011 меньше 0.05. Значит, нулевую гипотезу о том, что статистически значимых различий в среднем числе заказов между группами нет, мы отвергаем. Относительный прирост группы B равен 16.0%."
   ]
  },
  {
   "cell_type": "markdown",
   "metadata": {},
   "source": [
    "### Статистическая значимость различий в среднем чеке заказа между группами по «сырым» данным"
   ]
  },
  {
   "cell_type": "markdown",
   "metadata": {},
   "source": [
    "Посчитайте статистическую значимость различий в среднем чеке заказа между группами по «сырым» данным. Сделайте выводы и предположения."
   ]
  },
  {
   "cell_type": "markdown",
   "metadata": {},
   "source": [
    "H0: статистически значимых различий в среднем чеке заказа между группами по «сырым» данным нет\n",
    "\n",
    "H1: статистически значимые различия в среднем чеке заказа между группами по «сырым» данным есть\n",
    "\n",
    "alpha = 0.05"
   ]
  },
  {
   "cell_type": "code",
   "execution_count": 35,
   "metadata": {},
   "outputs": [
    {
     "name": "stdout",
     "output_type": "stream",
     "text": [
      "p-value = 0.829\n",
      "Относительный прирост группы B = 0.287\n"
     ]
    }
   ],
   "source": [
    "print('p-value = ''{0:.3f}'.format(stats.mannwhitneyu(orders[orders['group']=='A']['revenue'], orders[orders['group']=='B']['revenue'])[1]))\n",
    "print('Относительный прирост группы B = ''{0:.3f}'.format(orders[orders['group']=='B']['revenue'].mean()/orders[orders['group']=='A']['revenue'].mean()-1))"
   ]
  },
  {
   "cell_type": "markdown",
   "metadata": {},
   "source": [
    "P-value больше 0.05 - статистически значимых отличий в среднем чеке между группами нет. Однако, относительное различие среднего чека между сегментами составляет 28,7%"
   ]
  },
  {
   "cell_type": "markdown",
   "metadata": {},
   "source": [
    "### Статистическая значимость различий в среднем количестве заказов на посетителя между группами по «очищенным» данным"
   ]
  },
  {
   "cell_type": "markdown",
   "metadata": {},
   "source": [
    "Посчитайте статистическую значимость различий в среднем количестве заказов на посетителя между группами по «очищенным» данным. Сделайте выводы и предположения."
   ]
  },
  {
   "cell_type": "markdown",
   "metadata": {},
   "source": [
    "Отчистим наши данные от аномальных значений, установленных ранее"
   ]
  },
  {
   "cell_type": "code",
   "execution_count": 36,
   "metadata": {
    "scrolled": true
   },
   "outputs": [
    {
     "name": "stdout",
     "output_type": "stream",
     "text": [
      "1099    148427295\n",
      "33      249864742\n",
      "58      611059232\n",
      "949     887908475\n",
      "744     888512513\n",
      "dtype: int64\n",
      "19\n"
     ]
    }
   ],
   "source": [
    "usersWithManyOrders = pd.concat(\n",
    "    [\n",
    "        ordersByUsersA[ordersByUsersA['orders'] > 2]['userId'],\n",
    "        ordersByUsersB[ordersByUsersB['orders'] > 2]['userId'],\n",
    "    ],\n",
    "    axis=0,\n",
    ")\n",
    "usersWithExpensiveOrders = orders[orders['revenue'] > 53000]['visitorId']\n",
    "abnormalUsers = (\n",
    "    pd.concat([usersWithManyOrders, usersWithExpensiveOrders], axis=0)\n",
    "    .drop_duplicates()\n",
    "    .sort_values()\n",
    ")\n",
    "print(abnormalUsers.head(5))\n",
    "print(abnormalUsers.shape[0]) "
   ]
  },
  {
   "cell_type": "code",
   "execution_count": 37,
   "metadata": {},
   "outputs": [
    {
     "name": "stdout",
     "output_type": "stream",
     "text": [
      "98.05\n"
     ]
    }
   ],
   "source": [
    "print(round((len(orders['visitorId'].unique()) - abnormalUsers.shape[0])/len(orders['visitorId'].unique())*100,2))"
   ]
  },
  {
   "cell_type": "markdown",
   "metadata": {},
   "source": [
    "В отчищенных данных мы потеряли примерно 2% пользователей. Это не критично"
   ]
  },
  {
   "cell_type": "markdown",
   "metadata": {},
   "source": [
    "H0: статистически значимых различий в среднем числе заказов между группами по «отфильтрованным» данным нет\n",
    "\n",
    "H1: статистически значимые различия в среднем числе заказов между группами по «отфильтрованным» данным есть\n",
    "\n",
    "alpha = 0.05"
   ]
  },
  {
   "cell_type": "code",
   "execution_count": 38,
   "metadata": {},
   "outputs": [],
   "source": [
    "sampleAFiltered = pd.concat(\n",
    "    [\n",
    "        ordersByUsersA[\n",
    "            np.logical_not(ordersByUsersA['userId'].isin(abnormalUsers))\n",
    "        ]['orders'],\n",
    "        pd.Series(\n",
    "            0,\n",
    "            index=np.arange(\n",
    "                data['visitorsPerDateA'].sum() - len(ordersByUsersA['orders'])\n",
    "            ),\n",
    "            name='orders',\n",
    "        ),\n",
    "    ],\n",
    "    axis=0,\n",
    ")\n",
    "\n",
    "sampleBFiltered = pd.concat(\n",
    "    [\n",
    "        ordersByUsersB[\n",
    "            np.logical_not(ordersByUsersB['userId'].isin(abnormalUsers))\n",
    "        ]['orders'],\n",
    "        pd.Series(\n",
    "            0,\n",
    "            index=np.arange(\n",
    "                data['visitorsPerDateB'].sum() - len(ordersByUsersB['orders'])\n",
    "            ),\n",
    "            name='orders',\n",
    "        ),\n",
    "    ],\n",
    "    axis=0,\n",
    ") "
   ]
  },
  {
   "cell_type": "code",
   "execution_count": 39,
   "metadata": {},
   "outputs": [
    {
     "name": "stdout",
     "output_type": "stream",
     "text": [
      "p-value = 0.006\n",
      "Относительный прирост группы B = 0.192\n"
     ]
    }
   ],
   "source": [
    "print('p-value = ''{0:.3f}'.format(stats.mannwhitneyu(sampleAFiltered, sampleBFiltered)[1]))\n",
    "print('Относительный прирост группы B = ''{0:.3f}'.format(sampleBFiltered.mean()/sampleAFiltered.mean()-1)) "
   ]
  },
  {
   "cell_type": "markdown",
   "metadata": {},
   "source": [
    "Как и в случае с сырыми данными, статистическая значимость достигнута.\n",
    "Сегмент В значительно лучше сегмента А. Подтвердилась гипотеза о том. что статистически значимые различия в среднем числе заказов между группами по «отфильтрованным» данным есть. Такой же вывод мы сделали по \"сырым\" данным."
   ]
  },
  {
   "cell_type": "markdown",
   "metadata": {},
   "source": [
    "### Статистическая значимость различий в среднем чеке заказа между группами по «очищенным» данным"
   ]
  },
  {
   "cell_type": "markdown",
   "metadata": {},
   "source": [
    "Посчитайте статистическую значимость различий в среднем чеке заказа между группами по «очищенным» данным. Сделайте выводы и предположения."
   ]
  },
  {
   "cell_type": "markdown",
   "metadata": {},
   "source": [
    "H0: статистически значимых различий в среднем чеке заказа между группами по «очищенным» данным нет\n",
    "\n",
    "H1: статистически значимые различия в среднем чеке заказа между группами по «очищенным» данным есть\n",
    "\n",
    "alpha = 0.05"
   ]
  },
  {
   "cell_type": "code",
   "execution_count": 40,
   "metadata": {},
   "outputs": [
    {
     "name": "stdout",
     "output_type": "stream",
     "text": [
      "p-value = 0.842\n",
      "Относительный убыток группы B = -0.014\n"
     ]
    }
   ],
   "source": [
    "print('p-value = '\n",
    "    '{0:.3f}'.format(\n",
    "        stats.mannwhitneyu(\n",
    "            orders[\n",
    "                np.logical_and(\n",
    "                    orders['group'] == 'A',\n",
    "                    np.logical_not(orders['visitorId'].isin(abnormalUsers)),\n",
    "                )\n",
    "            ]['revenue'],\n",
    "            orders[\n",
    "                np.logical_and(\n",
    "                    orders['group'] == 'B',\n",
    "                    np.logical_not(orders['visitorId'].isin(abnormalUsers)),\n",
    "                )\n",
    "            ]['revenue'],\n",
    "        )[1]\n",
    "    )\n",
    ")\n",
    "\n",
    "print('Относительный убыток группы B = '\n",
    "    \"{0:.3f}\".format(\n",
    "        orders[\n",
    "            np.logical_and(\n",
    "                orders['group'] == 'B',\n",
    "                np.logical_not(orders['visitorId'].isin(abnormalUsers)),\n",
    "            )\n",
    "        ]['revenue'].mean()\n",
    "        / orders[\n",
    "            np.logical_and(\n",
    "                orders['group'] == 'A',\n",
    "                np.logical_not(orders['visitorId'].isin(abnormalUsers)),\n",
    "            )\n",
    "        ]['revenue'].mean()\n",
    "        - 1\n",
    "    )\n",
    ") "
   ]
  },
  {
   "cell_type": "markdown",
   "metadata": {},
   "source": [
    "P-value больше 0.05 - гипотеза, что статистически значимых отличий в среднем чеке между группами нет, подтвердилась. Однако, относительное различие среднего чека сегмента В стало меньше на 1,4% сегмента А. По сырым данным у нас подтвердилась эта же гипотеза, но был зафиксирован относительный прирост среднего чека группы В по сравнению с группой А."
   ]
  },
  {
   "cell_type": "markdown",
   "metadata": {},
   "source": [
    "# Вывод"
   ]
  },
  {
   "cell_type": "markdown",
   "metadata": {},
   "source": [
    "Примите решение по результатам теста и объясните его."
   ]
  },
  {
   "cell_type": "markdown",
   "metadata": {},
   "source": [
    "Я считаю, что следует остановить тест, зафиксировать победу группы В, так как выручка с этой группы увеличилась за счет увеличения среднего числа заказов почти на 20% по сравнению с группой А, несмотря на то, что статистически значимых отличий в среднем чеке между группами нет. Таким образом, можно сказать, что нововведения благоприятно повлияли на покупателей и способствовали повышению дохода интернет-магазина."
   ]
  },
  {
   "cell_type": "code",
   "execution_count": null,
   "metadata": {},
   "outputs": [],
   "source": []
  }
 ],
 "metadata": {
  "ExecuteTimeLog": [
   {
    "duration": 890,
    "start_time": "2023-04-20T12:02:07.923Z"
   },
   {
    "duration": 89,
    "start_time": "2023-04-20T12:02:49.115Z"
   },
   {
    "duration": 75,
    "start_time": "2023-04-20T12:03:01.143Z"
   },
   {
    "duration": 32,
    "start_time": "2023-04-20T12:03:21.408Z"
   },
   {
    "duration": 38,
    "start_time": "2023-04-20T12:03:56.153Z"
   },
   {
    "duration": 3,
    "start_time": "2023-04-20T12:04:32.934Z"
   },
   {
    "duration": 32,
    "start_time": "2023-04-20T12:04:34.200Z"
   },
   {
    "duration": 33,
    "start_time": "2023-04-20T12:06:19.918Z"
   },
   {
    "duration": 3,
    "start_time": "2023-04-20T12:24:50.699Z"
   },
   {
    "duration": 10,
    "start_time": "2023-04-20T12:25:55.404Z"
   },
   {
    "duration": 10,
    "start_time": "2023-04-20T12:26:08.875Z"
   },
   {
    "duration": 11,
    "start_time": "2023-04-20T12:31:53.453Z"
   },
   {
    "duration": 2,
    "start_time": "2023-04-20T12:52:13.636Z"
   },
   {
    "duration": 5,
    "start_time": "2023-04-20T12:52:13.640Z"
   },
   {
    "duration": 34,
    "start_time": "2023-04-20T12:52:13.647Z"
   },
   {
    "duration": 3,
    "start_time": "2023-04-20T12:52:13.682Z"
   },
   {
    "duration": 10,
    "start_time": "2023-04-20T12:52:13.696Z"
   },
   {
    "duration": 10,
    "start_time": "2023-04-20T12:52:13.719Z"
   },
   {
    "duration": 90,
    "start_time": "2023-04-20T12:55:43.406Z"
   },
   {
    "duration": 73,
    "start_time": "2023-04-20T12:56:03.064Z"
   },
   {
    "duration": 11,
    "start_time": "2023-04-20T13:00:05.521Z"
   },
   {
    "duration": 247,
    "start_time": "2023-04-20T13:03:08.045Z"
   },
   {
    "duration": 63,
    "start_time": "2023-04-20T13:03:36.886Z"
   },
   {
    "duration": 34,
    "start_time": "2023-04-20T13:05:16.236Z"
   },
   {
    "duration": 5,
    "start_time": "2023-04-20T13:08:07.063Z"
   },
   {
    "duration": 11,
    "start_time": "2023-04-20T13:11:27.775Z"
   },
   {
    "duration": 5,
    "start_time": "2023-04-20T13:11:34.323Z"
   },
   {
    "duration": 26,
    "start_time": "2023-04-20T13:20:52.466Z"
   },
   {
    "duration": 174,
    "start_time": "2023-04-20T13:21:50.359Z"
   },
   {
    "duration": 7,
    "start_time": "2023-04-20T13:22:02.670Z"
   },
   {
    "duration": 162,
    "start_time": "2023-04-20T13:23:03.330Z"
   },
   {
    "duration": 126,
    "start_time": "2023-04-20T13:23:30.260Z"
   },
   {
    "duration": 26,
    "start_time": "2023-04-20T13:24:01.787Z"
   },
   {
    "duration": 10,
    "start_time": "2023-04-20T13:24:41.484Z"
   },
   {
    "duration": 13,
    "start_time": "2023-04-20T13:24:51.111Z"
   },
   {
    "duration": 735,
    "start_time": "2023-04-20T13:28:00.237Z"
   },
   {
    "duration": 5,
    "start_time": "2023-04-20T13:28:36.662Z"
   },
   {
    "duration": 197,
    "start_time": "2023-04-20T13:30:12.085Z"
   },
   {
    "duration": 180,
    "start_time": "2023-04-20T13:41:43.543Z"
   },
   {
    "duration": 198,
    "start_time": "2023-04-20T13:41:55.689Z"
   },
   {
    "duration": 347,
    "start_time": "2023-04-20T13:53:37.225Z"
   },
   {
    "duration": 323,
    "start_time": "2023-04-20T13:53:47.325Z"
   },
   {
    "duration": 207,
    "start_time": "2023-04-20T14:04:17.033Z"
   },
   {
    "duration": 205,
    "start_time": "2023-04-20T14:04:45.442Z"
   },
   {
    "duration": 285,
    "start_time": "2023-04-20T14:05:03.008Z"
   },
   {
    "duration": 166,
    "start_time": "2023-04-20T14:05:40.239Z"
   },
   {
    "duration": 183,
    "start_time": "2023-04-20T14:06:13.261Z"
   },
   {
    "duration": 223,
    "start_time": "2023-04-20T14:06:23.638Z"
   },
   {
    "duration": 336,
    "start_time": "2023-04-20T14:12:13.950Z"
   },
   {
    "duration": 52,
    "start_time": "2023-04-20T14:12:34.332Z"
   },
   {
    "duration": 328,
    "start_time": "2023-04-20T14:12:53.262Z"
   },
   {
    "duration": 337,
    "start_time": "2023-04-20T14:13:04.028Z"
   },
   {
    "duration": 9,
    "start_time": "2023-04-20T14:22:05.877Z"
   },
   {
    "duration": 10,
    "start_time": "2023-04-20T14:23:47.518Z"
   },
   {
    "duration": 12,
    "start_time": "2023-04-20T14:24:49.221Z"
   },
   {
    "duration": 110,
    "start_time": "2023-04-20T14:24:52.885Z"
   },
   {
    "duration": 131,
    "start_time": "2023-04-20T14:27:50.202Z"
   },
   {
    "duration": 5,
    "start_time": "2023-04-20T14:32:13.845Z"
   },
   {
    "duration": 125,
    "start_time": "2023-04-20T14:45:10.420Z"
   },
   {
    "duration": 155,
    "start_time": "2023-04-20T14:45:19.748Z"
   },
   {
    "duration": 4,
    "start_time": "2023-04-20T14:48:38.997Z"
   },
   {
    "duration": 5,
    "start_time": "2023-04-20T14:48:42.910Z"
   },
   {
    "duration": 12,
    "start_time": "2023-04-20T15:02:16.231Z"
   },
   {
    "duration": 12,
    "start_time": "2023-04-20T15:03:22.827Z"
   },
   {
    "duration": 6,
    "start_time": "2023-04-20T15:03:26.736Z"
   },
   {
    "duration": 59,
    "start_time": "2023-04-20T15:03:59.026Z"
   },
   {
    "duration": 9,
    "start_time": "2023-04-20T15:03:59.906Z"
   },
   {
    "duration": 26,
    "start_time": "2023-04-20T15:04:00.515Z"
   },
   {
    "duration": 6,
    "start_time": "2023-04-20T15:04:08.557Z"
   },
   {
    "duration": 3,
    "start_time": "2023-04-20T15:04:19.295Z"
   },
   {
    "duration": 10,
    "start_time": "2023-04-20T15:04:19.302Z"
   },
   {
    "duration": 36,
    "start_time": "2023-04-20T15:04:19.314Z"
   },
   {
    "duration": 3,
    "start_time": "2023-04-20T15:04:19.352Z"
   },
   {
    "duration": 28,
    "start_time": "2023-04-20T15:04:19.357Z"
   },
   {
    "duration": 23,
    "start_time": "2023-04-20T15:04:19.388Z"
   },
   {
    "duration": 47,
    "start_time": "2023-04-20T15:04:19.414Z"
   },
   {
    "duration": 10,
    "start_time": "2023-04-20T15:04:19.463Z"
   },
   {
    "duration": 5,
    "start_time": "2023-04-20T15:04:19.474Z"
   },
   {
    "duration": 9,
    "start_time": "2023-04-20T15:04:19.481Z"
   },
   {
    "duration": 24,
    "start_time": "2023-04-20T15:04:19.492Z"
   },
   {
    "duration": 7,
    "start_time": "2023-04-20T15:04:19.519Z"
   },
   {
    "duration": 187,
    "start_time": "2023-04-20T15:04:19.528Z"
   },
   {
    "duration": 146,
    "start_time": "2023-04-20T15:04:19.717Z"
   },
   {
    "duration": 14,
    "start_time": "2023-04-20T15:04:19.865Z"
   },
   {
    "duration": 225,
    "start_time": "2023-04-20T15:04:19.881Z"
   },
   {
    "duration": 306,
    "start_time": "2023-04-20T15:04:20.108Z"
   },
   {
    "duration": 294,
    "start_time": "2023-04-20T15:04:20.416Z"
   },
   {
    "duration": 235,
    "start_time": "2023-04-20T15:04:20.711Z"
   },
   {
    "duration": 379,
    "start_time": "2023-04-20T15:04:20.948Z"
   },
   {
    "duration": 38,
    "start_time": "2023-04-20T15:04:21.329Z"
   },
   {
    "duration": 165,
    "start_time": "2023-04-20T15:04:21.368Z"
   },
   {
    "duration": 4,
    "start_time": "2023-04-20T15:04:21.535Z"
   },
   {
    "duration": 160,
    "start_time": "2023-04-20T15:04:21.540Z"
   },
   {
    "duration": 4,
    "start_time": "2023-04-20T15:04:21.702Z"
   },
   {
    "duration": 9,
    "start_time": "2023-04-20T15:05:11.024Z"
   },
   {
    "duration": 9,
    "start_time": "2023-04-20T15:05:38.344Z"
   },
   {
    "duration": 10,
    "start_time": "2023-04-20T15:06:20.222Z"
   },
   {
    "duration": 11,
    "start_time": "2023-04-20T15:06:24.158Z"
   },
   {
    "duration": 11,
    "start_time": "2023-04-20T15:06:46.046Z"
   },
   {
    "duration": 9,
    "start_time": "2023-04-20T15:07:28.200Z"
   },
   {
    "duration": 6,
    "start_time": "2023-04-20T15:07:30.372Z"
   },
   {
    "duration": 18,
    "start_time": "2023-04-20T15:07:59.205Z"
   },
   {
    "duration": 3,
    "start_time": "2023-04-20T15:08:01.518Z"
   },
   {
    "duration": 27,
    "start_time": "2023-04-20T15:08:01.526Z"
   },
   {
    "duration": 65,
    "start_time": "2023-04-20T15:08:01.555Z"
   },
   {
    "duration": 3,
    "start_time": "2023-04-20T15:08:01.622Z"
   },
   {
    "duration": 54,
    "start_time": "2023-04-20T15:08:01.628Z"
   },
   {
    "duration": 71,
    "start_time": "2023-04-20T15:08:01.685Z"
   },
   {
    "duration": 76,
    "start_time": "2023-04-20T15:08:01.758Z"
   },
   {
    "duration": 9,
    "start_time": "2023-04-20T15:08:01.836Z"
   },
   {
    "duration": 69,
    "start_time": "2023-04-20T15:08:01.846Z"
   },
   {
    "duration": 15,
    "start_time": "2023-04-20T15:08:01.917Z"
   },
   {
    "duration": 184,
    "start_time": "2023-04-20T15:08:01.936Z"
   },
   {
    "duration": 118,
    "start_time": "2023-04-20T15:08:02.122Z"
   },
   {
    "duration": 18,
    "start_time": "2023-04-20T15:08:02.242Z"
   },
   {
    "duration": 209,
    "start_time": "2023-04-20T15:08:02.262Z"
   },
   {
    "duration": 212,
    "start_time": "2023-04-20T15:08:02.473Z"
   },
   {
    "duration": 298,
    "start_time": "2023-04-20T15:08:02.687Z"
   },
   {
    "duration": 220,
    "start_time": "2023-04-20T15:08:02.987Z"
   },
   {
    "duration": 301,
    "start_time": "2023-04-20T15:08:03.209Z"
   },
   {
    "duration": 11,
    "start_time": "2023-04-20T15:08:03.511Z"
   },
   {
    "duration": 139,
    "start_time": "2023-04-20T15:08:03.524Z"
   },
   {
    "duration": 4,
    "start_time": "2023-04-20T15:08:03.665Z"
   },
   {
    "duration": 159,
    "start_time": "2023-04-20T15:08:03.671Z"
   },
   {
    "duration": 5,
    "start_time": "2023-04-20T15:08:03.832Z"
   },
   {
    "duration": 52,
    "start_time": "2023-04-20T15:09:52.330Z"
   },
   {
    "duration": 742,
    "start_time": "2023-04-20T15:10:03.403Z"
   },
   {
    "duration": 298,
    "start_time": "2023-04-20T15:10:47.598Z"
   },
   {
    "duration": 3,
    "start_time": "2023-04-20T15:11:03.921Z"
   },
   {
    "duration": 7,
    "start_time": "2023-04-20T15:11:03.927Z"
   },
   {
    "duration": 50,
    "start_time": "2023-04-20T15:11:03.936Z"
   },
   {
    "duration": 3,
    "start_time": "2023-04-20T15:11:03.988Z"
   },
   {
    "duration": 20,
    "start_time": "2023-04-20T15:11:03.993Z"
   },
   {
    "duration": 24,
    "start_time": "2023-04-20T15:11:04.015Z"
   },
   {
    "duration": 62,
    "start_time": "2023-04-20T15:11:04.041Z"
   },
   {
    "duration": 307,
    "start_time": "2023-04-20T15:11:04.105Z"
   },
   {
    "duration": 8,
    "start_time": "2023-04-20T15:11:04.413Z"
   },
   {
    "duration": 37,
    "start_time": "2023-04-20T15:11:04.424Z"
   },
   {
    "duration": 5,
    "start_time": "2023-04-20T15:11:04.462Z"
   },
   {
    "duration": 190,
    "start_time": "2023-04-20T15:11:04.469Z"
   },
   {
    "duration": 139,
    "start_time": "2023-04-20T15:11:04.661Z"
   },
   {
    "duration": 13,
    "start_time": "2023-04-20T15:11:04.802Z"
   },
   {
    "duration": 242,
    "start_time": "2023-04-20T15:11:04.817Z"
   },
   {
    "duration": 303,
    "start_time": "2023-04-20T15:11:05.061Z"
   },
   {
    "duration": 318,
    "start_time": "2023-04-20T15:11:05.365Z"
   },
   {
    "duration": 222,
    "start_time": "2023-04-20T15:11:05.686Z"
   },
   {
    "duration": 323,
    "start_time": "2023-04-20T15:11:05.909Z"
   },
   {
    "duration": 10,
    "start_time": "2023-04-20T15:11:06.234Z"
   },
   {
    "duration": 154,
    "start_time": "2023-04-20T15:11:06.246Z"
   },
   {
    "duration": 4,
    "start_time": "2023-04-20T15:11:06.401Z"
   },
   {
    "duration": 165,
    "start_time": "2023-04-20T15:11:06.407Z"
   },
   {
    "duration": 4,
    "start_time": "2023-04-20T15:11:06.573Z"
   },
   {
    "duration": 5,
    "start_time": "2023-04-20T15:12:01.936Z"
   },
   {
    "duration": 11,
    "start_time": "2023-04-20T15:12:03.654Z"
   },
   {
    "duration": 33,
    "start_time": "2023-04-20T15:12:14.421Z"
   },
   {
    "duration": 6,
    "start_time": "2023-04-20T15:12:20.560Z"
   },
   {
    "duration": 169,
    "start_time": "2023-04-20T15:12:20.755Z"
   },
   {
    "duration": 119,
    "start_time": "2023-04-20T15:12:21.179Z"
   },
   {
    "duration": 12,
    "start_time": "2023-04-20T15:12:21.958Z"
   },
   {
    "duration": 3,
    "start_time": "2023-04-20T15:12:25.723Z"
   },
   {
    "duration": 5,
    "start_time": "2023-04-20T15:12:25.730Z"
   },
   {
    "duration": 34,
    "start_time": "2023-04-20T15:12:25.737Z"
   },
   {
    "duration": 4,
    "start_time": "2023-04-20T15:12:25.773Z"
   },
   {
    "duration": 12,
    "start_time": "2023-04-20T15:12:25.779Z"
   },
   {
    "duration": 15,
    "start_time": "2023-04-20T15:12:25.792Z"
   },
   {
    "duration": 46,
    "start_time": "2023-04-20T15:12:25.809Z"
   },
   {
    "duration": 312,
    "start_time": "2023-04-20T15:12:25.857Z"
   },
   {
    "duration": 5,
    "start_time": "2023-04-20T15:12:26.171Z"
   },
   {
    "duration": 14,
    "start_time": "2023-04-20T15:12:26.179Z"
   },
   {
    "duration": 25,
    "start_time": "2023-04-20T15:12:26.195Z"
   },
   {
    "duration": 6,
    "start_time": "2023-04-20T15:12:26.222Z"
   },
   {
    "duration": 170,
    "start_time": "2023-04-20T15:12:26.230Z"
   },
   {
    "duration": 124,
    "start_time": "2023-04-20T15:12:26.401Z"
   },
   {
    "duration": 11,
    "start_time": "2023-04-20T15:12:26.527Z"
   },
   {
    "duration": 213,
    "start_time": "2023-04-20T15:12:26.540Z"
   },
   {
    "duration": 211,
    "start_time": "2023-04-20T15:12:26.755Z"
   },
   {
    "duration": 294,
    "start_time": "2023-04-20T15:12:26.968Z"
   },
   {
    "duration": 215,
    "start_time": "2023-04-20T15:12:27.264Z"
   },
   {
    "duration": 300,
    "start_time": "2023-04-20T15:12:27.481Z"
   },
   {
    "duration": 11,
    "start_time": "2023-04-20T15:12:27.783Z"
   },
   {
    "duration": 161,
    "start_time": "2023-04-20T15:12:27.796Z"
   },
   {
    "duration": 4,
    "start_time": "2023-04-20T15:12:27.959Z"
   },
   {
    "duration": 155,
    "start_time": "2023-04-20T15:12:27.965Z"
   },
   {
    "duration": 5,
    "start_time": "2023-04-20T15:12:28.123Z"
   },
   {
    "duration": 320,
    "start_time": "2023-04-20T15:14:01.765Z"
   },
   {
    "duration": 327,
    "start_time": "2023-04-20T15:14:06.037Z"
   },
   {
    "duration": 266,
    "start_time": "2023-04-20T15:17:22.251Z"
   },
   {
    "duration": 58,
    "start_time": "2023-04-20T15:17:29.234Z"
   },
   {
    "duration": 306,
    "start_time": "2023-04-20T15:17:30.240Z"
   },
   {
    "duration": 293,
    "start_time": "2023-04-20T15:17:38.176Z"
   },
   {
    "duration": 3,
    "start_time": "2023-04-20T15:19:07.063Z"
   },
   {
    "duration": 5,
    "start_time": "2023-04-20T15:19:07.070Z"
   },
   {
    "duration": 43,
    "start_time": "2023-04-20T15:19:07.077Z"
   },
   {
    "duration": 3,
    "start_time": "2023-04-20T15:19:07.122Z"
   },
   {
    "duration": 24,
    "start_time": "2023-04-20T15:19:07.127Z"
   },
   {
    "duration": 10,
    "start_time": "2023-04-20T15:19:07.154Z"
   },
   {
    "duration": 62,
    "start_time": "2023-04-20T15:19:07.166Z"
   },
   {
    "duration": 297,
    "start_time": "2023-04-20T15:19:07.230Z"
   },
   {
    "duration": 5,
    "start_time": "2023-04-20T15:19:07.529Z"
   },
   {
    "duration": 34,
    "start_time": "2023-04-20T15:19:07.535Z"
   },
   {
    "duration": 34,
    "start_time": "2023-04-20T15:19:07.571Z"
   },
   {
    "duration": 19,
    "start_time": "2023-04-20T15:19:07.607Z"
   },
   {
    "duration": 165,
    "start_time": "2023-04-20T15:19:07.627Z"
   },
   {
    "duration": 119,
    "start_time": "2023-04-20T15:19:07.794Z"
   },
   {
    "duration": 12,
    "start_time": "2023-04-20T15:19:07.915Z"
   },
   {
    "duration": 214,
    "start_time": "2023-04-20T15:19:07.928Z"
   },
   {
    "duration": 207,
    "start_time": "2023-04-20T15:19:08.144Z"
   },
   {
    "duration": 400,
    "start_time": "2023-04-20T15:19:08.352Z"
   },
   {
    "duration": 227,
    "start_time": "2023-04-20T15:19:08.760Z"
   },
   {
    "duration": 309,
    "start_time": "2023-04-20T15:19:08.989Z"
   },
   {
    "duration": 12,
    "start_time": "2023-04-20T15:19:09.299Z"
   },
   {
    "duration": 166,
    "start_time": "2023-04-20T15:19:09.313Z"
   },
   {
    "duration": 5,
    "start_time": "2023-04-20T15:19:09.481Z"
   },
   {
    "duration": 173,
    "start_time": "2023-04-20T15:19:09.488Z"
   },
   {
    "duration": 4,
    "start_time": "2023-04-20T15:19:09.663Z"
   },
   {
    "duration": 104,
    "start_time": "2023-04-20T15:26:19.877Z"
   },
   {
    "duration": 216,
    "start_time": "2023-04-20T15:28:01.085Z"
   },
   {
    "duration": 219,
    "start_time": "2023-04-20T15:28:08.786Z"
   },
   {
    "duration": 16,
    "start_time": "2023-04-20T15:29:09.376Z"
   },
   {
    "duration": 144,
    "start_time": "2023-04-20T15:29:46.708Z"
   },
   {
    "duration": 144,
    "start_time": "2023-04-20T15:30:00.328Z"
   },
   {
    "duration": 11,
    "start_time": "2023-04-20T15:35:12.072Z"
   },
   {
    "duration": 730,
    "start_time": "2023-04-20T15:38:58.741Z"
   },
   {
    "duration": 3,
    "start_time": "2023-04-20T15:39:29.478Z"
   },
   {
    "duration": 9,
    "start_time": "2023-04-20T15:39:29.484Z"
   },
   {
    "duration": 38,
    "start_time": "2023-04-20T15:39:29.495Z"
   },
   {
    "duration": 3,
    "start_time": "2023-04-20T15:39:29.535Z"
   },
   {
    "duration": 13,
    "start_time": "2023-04-20T15:39:29.542Z"
   },
   {
    "duration": 16,
    "start_time": "2023-04-20T15:39:29.557Z"
   },
   {
    "duration": 48,
    "start_time": "2023-04-20T15:39:29.575Z"
   },
   {
    "duration": 343,
    "start_time": "2023-04-20T15:39:29.625Z"
   },
   {
    "duration": 6,
    "start_time": "2023-04-20T15:39:29.970Z"
   },
   {
    "duration": 10,
    "start_time": "2023-04-20T15:39:29.978Z"
   },
   {
    "duration": 29,
    "start_time": "2023-04-20T15:39:29.989Z"
   },
   {
    "duration": 6,
    "start_time": "2023-04-20T15:39:30.020Z"
   },
   {
    "duration": 174,
    "start_time": "2023-04-20T15:39:30.028Z"
   },
   {
    "duration": 149,
    "start_time": "2023-04-20T15:39:30.204Z"
   },
   {
    "duration": 17,
    "start_time": "2023-04-20T15:39:30.355Z"
   },
   {
    "duration": 254,
    "start_time": "2023-04-20T15:39:30.373Z"
   },
   {
    "duration": 267,
    "start_time": "2023-04-20T15:39:30.629Z"
   },
   {
    "duration": 312,
    "start_time": "2023-04-20T15:39:30.899Z"
   },
   {
    "duration": 232,
    "start_time": "2023-04-20T15:39:31.213Z"
   },
   {
    "duration": 361,
    "start_time": "2023-04-20T15:39:31.446Z"
   },
   {
    "duration": 12,
    "start_time": "2023-04-20T15:39:31.808Z"
   },
   {
    "duration": 180,
    "start_time": "2023-04-20T15:39:31.822Z"
   },
   {
    "duration": 5,
    "start_time": "2023-04-20T15:39:32.004Z"
   },
   {
    "duration": 165,
    "start_time": "2023-04-20T15:39:32.011Z"
   },
   {
    "duration": 5,
    "start_time": "2023-04-20T15:39:32.178Z"
   },
   {
    "duration": 257,
    "start_time": "2023-04-20T15:39:32.186Z"
   },
   {
    "duration": 165,
    "start_time": "2023-04-20T15:39:32.445Z"
   },
   {
    "duration": 12,
    "start_time": "2023-04-20T15:39:32.614Z"
   },
   {
    "duration": 718,
    "start_time": "2023-04-20T15:39:32.627Z"
   },
   {
    "duration": 10,
    "start_time": "2023-04-20T15:40:09.652Z"
   },
   {
    "duration": 10,
    "start_time": "2023-04-20T15:40:52.811Z"
   },
   {
    "duration": 9,
    "start_time": "2023-04-20T15:42:41.145Z"
   },
   {
    "duration": 24,
    "start_time": "2023-04-20T15:43:05.937Z"
   },
   {
    "duration": 807,
    "start_time": "2023-04-20T15:47:44.338Z"
   },
   {
    "duration": 14,
    "start_time": "2023-04-20T15:48:40.642Z"
   },
   {
    "duration": 11,
    "start_time": "2023-04-20T15:54:19.652Z"
   },
   {
    "duration": 3,
    "start_time": "2023-04-20T15:54:42.555Z"
   },
   {
    "duration": 3,
    "start_time": "2023-04-20T15:54:53.682Z"
   },
   {
    "duration": 4,
    "start_time": "2023-04-20T15:55:00.024Z"
   },
   {
    "duration": 4,
    "start_time": "2023-04-20T15:56:20.726Z"
   },
   {
    "duration": 4,
    "start_time": "2023-04-20T15:56:34.017Z"
   },
   {
    "duration": 4,
    "start_time": "2023-04-20T15:56:44.630Z"
   },
   {
    "duration": 4,
    "start_time": "2023-04-20T15:57:07.291Z"
   },
   {
    "duration": 5,
    "start_time": "2023-04-20T15:58:42.250Z"
   },
   {
    "duration": 10,
    "start_time": "2023-04-20T15:59:13.116Z"
   },
   {
    "duration": 4,
    "start_time": "2023-04-20T15:59:18.044Z"
   },
   {
    "duration": 3,
    "start_time": "2023-04-20T16:00:38.085Z"
   },
   {
    "duration": 9,
    "start_time": "2023-04-20T16:00:38.090Z"
   },
   {
    "duration": 37,
    "start_time": "2023-04-20T16:00:38.100Z"
   },
   {
    "duration": 3,
    "start_time": "2023-04-20T16:00:38.139Z"
   },
   {
    "duration": 14,
    "start_time": "2023-04-20T16:00:38.144Z"
   },
   {
    "duration": 12,
    "start_time": "2023-04-20T16:00:38.161Z"
   },
   {
    "duration": 50,
    "start_time": "2023-04-20T16:00:38.175Z"
   },
   {
    "duration": 322,
    "start_time": "2023-04-20T16:00:38.227Z"
   },
   {
    "duration": 10,
    "start_time": "2023-04-20T16:00:38.550Z"
   },
   {
    "duration": 11,
    "start_time": "2023-04-20T16:00:38.562Z"
   },
   {
    "duration": 25,
    "start_time": "2023-04-20T16:00:38.575Z"
   },
   {
    "duration": 6,
    "start_time": "2023-04-20T16:00:38.603Z"
   },
   {
    "duration": 172,
    "start_time": "2023-04-20T16:00:38.611Z"
   },
   {
    "duration": 130,
    "start_time": "2023-04-20T16:00:38.785Z"
   },
   {
    "duration": 13,
    "start_time": "2023-04-20T16:00:38.917Z"
   },
   {
    "duration": 223,
    "start_time": "2023-04-20T16:00:38.931Z"
   },
   {
    "duration": 210,
    "start_time": "2023-04-20T16:00:39.159Z"
   },
   {
    "duration": 321,
    "start_time": "2023-04-20T16:00:39.370Z"
   },
   {
    "duration": 236,
    "start_time": "2023-04-20T16:00:39.693Z"
   },
   {
    "duration": 348,
    "start_time": "2023-04-20T16:00:39.931Z"
   },
   {
    "duration": 12,
    "start_time": "2023-04-20T16:00:40.280Z"
   },
   {
    "duration": 182,
    "start_time": "2023-04-20T16:00:40.293Z"
   },
   {
    "duration": 4,
    "start_time": "2023-04-20T16:00:40.477Z"
   },
   {
    "duration": 176,
    "start_time": "2023-04-20T16:00:40.483Z"
   },
   {
    "duration": 4,
    "start_time": "2023-04-20T16:00:40.661Z"
   },
   {
    "duration": 241,
    "start_time": "2023-04-20T16:00:40.667Z"
   },
   {
    "duration": 166,
    "start_time": "2023-04-20T16:00:40.910Z"
   },
   {
    "duration": 10,
    "start_time": "2023-04-20T16:00:41.078Z"
   },
   {
    "duration": 27,
    "start_time": "2023-04-20T16:00:41.090Z"
   },
   {
    "duration": 26,
    "start_time": "2023-04-20T16:00:41.119Z"
   },
   {
    "duration": 18,
    "start_time": "2023-04-20T16:00:41.146Z"
   },
   {
    "duration": 50,
    "start_time": "2023-04-20T16:00:41.166Z"
   },
   {
    "duration": 13,
    "start_time": "2023-04-20T16:00:41.220Z"
   },
   {
    "duration": 3,
    "start_time": "2023-04-20T16:14:54.112Z"
   },
   {
    "duration": 30,
    "start_time": "2023-04-20T16:14:54.117Z"
   },
   {
    "duration": 47,
    "start_time": "2023-04-20T16:14:54.149Z"
   },
   {
    "duration": 2,
    "start_time": "2023-04-20T16:14:54.198Z"
   },
   {
    "duration": 30,
    "start_time": "2023-04-20T16:14:54.202Z"
   },
   {
    "duration": 28,
    "start_time": "2023-04-20T16:14:54.234Z"
   },
   {
    "duration": 63,
    "start_time": "2023-04-20T16:14:54.264Z"
   },
   {
    "duration": 327,
    "start_time": "2023-04-20T16:14:54.329Z"
   },
   {
    "duration": 6,
    "start_time": "2023-04-20T16:14:54.659Z"
   },
   {
    "duration": 21,
    "start_time": "2023-04-20T16:14:54.666Z"
   },
   {
    "duration": 37,
    "start_time": "2023-04-20T16:14:54.688Z"
   },
   {
    "duration": 6,
    "start_time": "2023-04-20T16:14:54.726Z"
   },
   {
    "duration": 187,
    "start_time": "2023-04-20T16:14:54.733Z"
   },
   {
    "duration": 128,
    "start_time": "2023-04-20T16:14:54.923Z"
   },
   {
    "duration": 17,
    "start_time": "2023-04-20T16:14:55.052Z"
   },
   {
    "duration": 377,
    "start_time": "2023-04-20T16:14:55.071Z"
   },
   {
    "duration": 211,
    "start_time": "2023-04-20T16:14:55.450Z"
   },
   {
    "duration": 307,
    "start_time": "2023-04-20T16:14:55.663Z"
   },
   {
    "duration": 210,
    "start_time": "2023-04-20T16:14:55.972Z"
   },
   {
    "duration": 310,
    "start_time": "2023-04-20T16:14:56.183Z"
   },
   {
    "duration": 12,
    "start_time": "2023-04-20T16:14:56.494Z"
   },
   {
    "duration": 170,
    "start_time": "2023-04-20T16:14:56.508Z"
   },
   {
    "duration": 5,
    "start_time": "2023-04-20T16:14:56.679Z"
   },
   {
    "duration": 166,
    "start_time": "2023-04-20T16:14:56.685Z"
   },
   {
    "duration": 7,
    "start_time": "2023-04-20T16:14:56.852Z"
   },
   {
    "duration": 232,
    "start_time": "2023-04-20T16:14:56.861Z"
   },
   {
    "duration": 164,
    "start_time": "2023-04-20T16:14:57.095Z"
   },
   {
    "duration": 10,
    "start_time": "2023-04-20T16:14:57.261Z"
   },
   {
    "duration": 8,
    "start_time": "2023-04-20T16:14:57.273Z"
   },
   {
    "duration": 19,
    "start_time": "2023-04-20T16:14:57.283Z"
   },
   {
    "duration": 7,
    "start_time": "2023-04-20T16:14:57.304Z"
   },
   {
    "duration": 37,
    "start_time": "2023-04-20T16:14:57.313Z"
   },
   {
    "duration": 15,
    "start_time": "2023-04-20T16:14:57.352Z"
   },
   {
    "duration": 988,
    "start_time": "2023-04-20T16:15:13.403Z"
   },
   {
    "duration": 2,
    "start_time": "2023-04-20T16:15:14.393Z"
   },
   {
    "duration": 99,
    "start_time": "2023-04-20T16:15:14.397Z"
   },
   {
    "duration": 3,
    "start_time": "2023-04-20T16:15:14.497Z"
   },
   {
    "duration": 14,
    "start_time": "2023-04-20T16:15:14.502Z"
   },
   {
    "duration": 10,
    "start_time": "2023-04-20T16:15:14.518Z"
   },
   {
    "duration": 48,
    "start_time": "2023-04-20T16:15:14.529Z"
   },
   {
    "duration": 319,
    "start_time": "2023-04-20T16:15:14.579Z"
   },
   {
    "duration": 6,
    "start_time": "2023-04-20T16:15:14.900Z"
   },
   {
    "duration": 15,
    "start_time": "2023-04-20T16:15:14.908Z"
   },
   {
    "duration": 25,
    "start_time": "2023-04-20T16:15:14.925Z"
   },
   {
    "duration": 5,
    "start_time": "2023-04-20T16:15:14.952Z"
   },
   {
    "duration": 160,
    "start_time": "2023-04-20T16:15:14.959Z"
   },
   {
    "duration": 129,
    "start_time": "2023-04-20T16:15:15.121Z"
   },
   {
    "duration": 17,
    "start_time": "2023-04-20T16:15:15.252Z"
   },
   {
    "duration": 303,
    "start_time": "2023-04-20T16:15:15.270Z"
   },
   {
    "duration": 224,
    "start_time": "2023-04-20T16:15:15.575Z"
   },
   {
    "duration": 263,
    "start_time": "2023-04-20T16:15:15.801Z"
   },
   {
    "duration": 231,
    "start_time": "2023-04-20T16:15:16.065Z"
   },
   {
    "duration": 294,
    "start_time": "2023-04-20T16:15:16.297Z"
   },
   {
    "duration": 12,
    "start_time": "2023-04-20T16:15:16.592Z"
   },
   {
    "duration": 1054,
    "start_time": "2023-04-20T16:15:16.605Z"
   },
   {
    "duration": 5,
    "start_time": "2023-04-20T16:15:17.660Z"
   },
   {
    "duration": 152,
    "start_time": "2023-04-20T16:15:17.666Z"
   },
   {
    "duration": 4,
    "start_time": "2023-04-20T16:15:17.820Z"
   },
   {
    "duration": 234,
    "start_time": "2023-04-20T16:15:17.826Z"
   },
   {
    "duration": 148,
    "start_time": "2023-04-20T16:15:18.062Z"
   },
   {
    "duration": 10,
    "start_time": "2023-04-20T16:15:18.212Z"
   },
   {
    "duration": 9,
    "start_time": "2023-04-20T16:15:18.223Z"
   },
   {
    "duration": 16,
    "start_time": "2023-04-20T16:15:18.234Z"
   },
   {
    "duration": 10,
    "start_time": "2023-04-20T16:15:18.258Z"
   },
   {
    "duration": 27,
    "start_time": "2023-04-20T16:15:18.270Z"
   },
   {
    "duration": 14,
    "start_time": "2023-04-20T16:15:18.298Z"
   },
   {
    "duration": 1137,
    "start_time": "2023-04-20T21:23:53.716Z"
   },
   {
    "duration": 3,
    "start_time": "2023-04-20T21:23:54.855Z"
   },
   {
    "duration": 104,
    "start_time": "2023-04-20T21:23:54.859Z"
   },
   {
    "duration": 3,
    "start_time": "2023-04-20T21:23:54.965Z"
   },
   {
    "duration": 15,
    "start_time": "2023-04-20T21:23:54.970Z"
   },
   {
    "duration": 11,
    "start_time": "2023-04-20T21:23:54.987Z"
   },
   {
    "duration": 70,
    "start_time": "2023-04-20T21:23:55.000Z"
   },
   {
    "duration": 320,
    "start_time": "2023-04-20T21:23:55.072Z"
   },
   {
    "duration": 6,
    "start_time": "2023-04-20T21:23:55.394Z"
   },
   {
    "duration": 12,
    "start_time": "2023-04-20T21:23:55.403Z"
   },
   {
    "duration": 42,
    "start_time": "2023-04-20T21:23:55.416Z"
   },
   {
    "duration": 7,
    "start_time": "2023-04-20T21:23:55.459Z"
   },
   {
    "duration": 189,
    "start_time": "2023-04-20T21:23:55.467Z"
   },
   {
    "duration": 127,
    "start_time": "2023-04-20T21:23:55.658Z"
   },
   {
    "duration": 13,
    "start_time": "2023-04-20T21:23:55.787Z"
   },
   {
    "duration": 317,
    "start_time": "2023-04-20T21:23:55.802Z"
   },
   {
    "duration": 230,
    "start_time": "2023-04-20T21:23:56.120Z"
   },
   {
    "duration": 287,
    "start_time": "2023-04-20T21:23:56.352Z"
   },
   {
    "duration": 249,
    "start_time": "2023-04-20T21:23:56.644Z"
   },
   {
    "duration": 389,
    "start_time": "2023-04-20T21:23:56.896Z"
   },
   {
    "duration": 11,
    "start_time": "2023-04-20T21:23:57.287Z"
   },
   {
    "duration": 166,
    "start_time": "2023-04-20T21:23:57.300Z"
   },
   {
    "duration": 4,
    "start_time": "2023-04-20T21:23:57.468Z"
   },
   {
    "duration": 188,
    "start_time": "2023-04-20T21:23:57.474Z"
   },
   {
    "duration": 5,
    "start_time": "2023-04-20T21:23:57.664Z"
   },
   {
    "duration": 254,
    "start_time": "2023-04-20T21:23:57.671Z"
   },
   {
    "duration": 189,
    "start_time": "2023-04-20T21:23:57.926Z"
   },
   {
    "duration": 25,
    "start_time": "2023-04-20T21:23:58.118Z"
   },
   {
    "duration": 26,
    "start_time": "2023-04-20T21:23:58.145Z"
   },
   {
    "duration": 8,
    "start_time": "2023-04-20T21:23:58.173Z"
   },
   {
    "duration": 12,
    "start_time": "2023-04-20T21:23:58.182Z"
   },
   {
    "duration": 51,
    "start_time": "2023-04-20T21:23:58.196Z"
   },
   {
    "duration": 19,
    "start_time": "2023-04-20T21:23:58.250Z"
   },
   {
    "duration": 52,
    "start_time": "2023-04-20T22:36:00.865Z"
   },
   {
    "duration": 1257,
    "start_time": "2023-04-20T22:36:04.965Z"
   },
   {
    "duration": 3,
    "start_time": "2023-04-20T22:36:06.224Z"
   },
   {
    "duration": 125,
    "start_time": "2023-04-20T22:36:06.228Z"
   },
   {
    "duration": 3,
    "start_time": "2023-04-20T22:36:06.354Z"
   },
   {
    "duration": 18,
    "start_time": "2023-04-20T22:36:06.359Z"
   },
   {
    "duration": 11,
    "start_time": "2023-04-20T22:36:06.387Z"
   },
   {
    "duration": 93,
    "start_time": "2023-04-20T22:36:06.399Z"
   },
   {
    "duration": 256,
    "start_time": "2023-04-20T22:36:06.494Z"
   },
   {
    "duration": 5,
    "start_time": "2023-04-20T22:36:06.752Z"
   },
   {
    "duration": 24,
    "start_time": "2023-04-20T22:36:06.759Z"
   },
   {
    "duration": 66,
    "start_time": "2023-04-20T22:36:06.785Z"
   },
   {
    "duration": 5,
    "start_time": "2023-04-20T22:36:06.852Z"
   },
   {
    "duration": 149,
    "start_time": "2023-04-20T22:36:06.859Z"
   },
   {
    "duration": 125,
    "start_time": "2023-04-20T22:36:07.010Z"
   },
   {
    "duration": 11,
    "start_time": "2023-04-20T22:36:07.137Z"
   },
   {
    "duration": 270,
    "start_time": "2023-04-20T22:36:07.149Z"
   },
   {
    "duration": 195,
    "start_time": "2023-04-20T22:36:07.421Z"
   },
   {
    "duration": 281,
    "start_time": "2023-04-20T22:36:07.618Z"
   },
   {
    "duration": 210,
    "start_time": "2023-04-20T22:36:07.901Z"
   },
   {
    "duration": 277,
    "start_time": "2023-04-20T22:36:08.113Z"
   },
   {
    "duration": 10,
    "start_time": "2023-04-20T22:36:08.392Z"
   },
   {
    "duration": 148,
    "start_time": "2023-04-20T22:36:08.404Z"
   },
   {
    "duration": 4,
    "start_time": "2023-04-20T22:36:08.554Z"
   },
   {
    "duration": 147,
    "start_time": "2023-04-20T22:36:08.559Z"
   },
   {
    "duration": 4,
    "start_time": "2023-04-20T22:36:08.707Z"
   },
   {
    "duration": 231,
    "start_time": "2023-04-20T22:36:08.712Z"
   },
   {
    "duration": 153,
    "start_time": "2023-04-20T22:36:08.944Z"
   },
   {
    "duration": 11,
    "start_time": "2023-04-20T22:36:09.100Z"
   },
   {
    "duration": 53,
    "start_time": "2023-04-20T22:36:09.113Z"
   },
   {
    "duration": 53,
    "start_time": "2023-04-20T22:36:09.168Z"
   },
   {
    "duration": 11,
    "start_time": "2023-04-20T22:36:09.223Z"
   },
   {
    "duration": 22,
    "start_time": "2023-04-20T22:36:09.235Z"
   },
   {
    "duration": 13,
    "start_time": "2023-04-20T22:36:09.259Z"
   },
   {
    "duration": 10,
    "start_time": "2023-04-20T22:38:07.095Z"
   },
   {
    "duration": 11,
    "start_time": "2023-04-20T22:38:29.657Z"
   },
   {
    "duration": 11,
    "start_time": "2023-04-20T22:41:02.802Z"
   },
   {
    "duration": 10,
    "start_time": "2023-04-20T22:41:16.796Z"
   },
   {
    "duration": 4,
    "start_time": "2023-04-20T22:43:07.956Z"
   },
   {
    "duration": 6,
    "start_time": "2023-04-20T22:43:10.856Z"
   },
   {
    "duration": 3,
    "start_time": "2023-04-20T22:43:14.992Z"
   },
   {
    "duration": 33,
    "start_time": "2023-04-20T22:43:14.997Z"
   },
   {
    "duration": 56,
    "start_time": "2023-04-20T22:43:15.032Z"
   },
   {
    "duration": 3,
    "start_time": "2023-04-20T22:43:15.090Z"
   },
   {
    "duration": 38,
    "start_time": "2023-04-20T22:43:15.096Z"
   },
   {
    "duration": 15,
    "start_time": "2023-04-20T22:43:15.136Z"
   },
   {
    "duration": 34,
    "start_time": "2023-04-20T22:43:15.152Z"
   },
   {
    "duration": 48,
    "start_time": "2023-04-20T22:43:15.188Z"
   },
   {
    "duration": 293,
    "start_time": "2023-04-20T22:43:15.238Z"
   },
   {
    "duration": 5,
    "start_time": "2023-04-20T22:43:15.534Z"
   },
   {
    "duration": 24,
    "start_time": "2023-04-20T22:43:15.541Z"
   },
   {
    "duration": 25,
    "start_time": "2023-04-20T22:43:15.567Z"
   },
   {
    "duration": 16,
    "start_time": "2023-04-20T22:43:15.594Z"
   },
   {
    "duration": 32,
    "start_time": "2023-04-20T22:43:15.611Z"
   },
   {
    "duration": 6,
    "start_time": "2023-04-20T22:43:15.644Z"
   },
   {
    "duration": 14,
    "start_time": "2023-04-20T22:43:15.651Z"
   },
   {
    "duration": 23,
    "start_time": "2023-04-20T22:43:15.667Z"
   },
   {
    "duration": 179,
    "start_time": "2023-04-20T22:43:15.692Z"
   },
   {
    "duration": 123,
    "start_time": "2023-04-20T22:43:15.873Z"
   },
   {
    "duration": 14,
    "start_time": "2023-04-20T22:43:15.998Z"
   },
   {
    "duration": 274,
    "start_time": "2023-04-20T22:43:16.014Z"
   },
   {
    "duration": 279,
    "start_time": "2023-04-20T22:43:16.290Z"
   },
   {
    "duration": 322,
    "start_time": "2023-04-20T22:43:16.571Z"
   },
   {
    "duration": 221,
    "start_time": "2023-04-20T22:43:16.895Z"
   },
   {
    "duration": 295,
    "start_time": "2023-04-20T22:43:17.119Z"
   },
   {
    "duration": 12,
    "start_time": "2023-04-20T22:43:17.417Z"
   },
   {
    "duration": 192,
    "start_time": "2023-04-20T22:43:17.432Z"
   },
   {
    "duration": 5,
    "start_time": "2023-04-20T22:43:17.626Z"
   },
   {
    "duration": 195,
    "start_time": "2023-04-20T22:43:17.632Z"
   },
   {
    "duration": 4,
    "start_time": "2023-04-20T22:43:17.829Z"
   },
   {
    "duration": 238,
    "start_time": "2023-04-20T22:43:17.834Z"
   },
   {
    "duration": 161,
    "start_time": "2023-04-20T22:43:18.073Z"
   },
   {
    "duration": 11,
    "start_time": "2023-04-20T22:43:18.236Z"
   },
   {
    "duration": 33,
    "start_time": "2023-04-20T22:43:18.248Z"
   },
   {
    "duration": 9,
    "start_time": "2023-04-20T22:43:18.284Z"
   },
   {
    "duration": 12,
    "start_time": "2023-04-20T22:43:18.294Z"
   },
   {
    "duration": 28,
    "start_time": "2023-04-20T22:43:18.308Z"
   },
   {
    "duration": 14,
    "start_time": "2023-04-20T22:43:18.337Z"
   },
   {
    "duration": 203,
    "start_time": "2023-04-20T22:48:47.747Z"
   },
   {
    "duration": 198,
    "start_time": "2023-04-20T22:49:08.684Z"
   },
   {
    "duration": 218,
    "start_time": "2023-04-20T22:49:14.641Z"
   },
   {
    "duration": 225,
    "start_time": "2023-04-20T22:49:54.161Z"
   },
   {
    "duration": 221,
    "start_time": "2023-04-20T22:52:15.093Z"
   },
   {
    "duration": 333,
    "start_time": "2023-04-20T22:53:00.551Z"
   },
   {
    "duration": 273,
    "start_time": "2023-04-20T22:53:16.317Z"
   },
   {
    "duration": 301,
    "start_time": "2023-04-20T22:54:57.409Z"
   },
   {
    "duration": 352,
    "start_time": "2023-04-20T22:56:27.858Z"
   },
   {
    "duration": 162,
    "start_time": "2023-04-20T22:58:58.000Z"
   },
   {
    "duration": 177,
    "start_time": "2023-04-20T23:00:11.439Z"
   },
   {
    "duration": 175,
    "start_time": "2023-04-20T23:04:20.927Z"
   },
   {
    "duration": 3,
    "start_time": "2023-04-20T23:04:28.509Z"
   },
   {
    "duration": 6,
    "start_time": "2023-04-20T23:04:28.514Z"
   },
   {
    "duration": 34,
    "start_time": "2023-04-20T23:04:28.522Z"
   },
   {
    "duration": 4,
    "start_time": "2023-04-20T23:04:28.558Z"
   },
   {
    "duration": 23,
    "start_time": "2023-04-20T23:04:28.563Z"
   },
   {
    "duration": 20,
    "start_time": "2023-04-20T23:04:28.587Z"
   },
   {
    "duration": 15,
    "start_time": "2023-04-20T23:04:28.608Z"
   },
   {
    "duration": 46,
    "start_time": "2023-04-20T23:04:28.625Z"
   },
   {
    "duration": 275,
    "start_time": "2023-04-20T23:04:28.673Z"
   },
   {
    "duration": 5,
    "start_time": "2023-04-20T23:04:28.950Z"
   },
   {
    "duration": 35,
    "start_time": "2023-04-20T23:04:28.957Z"
   },
   {
    "duration": 14,
    "start_time": "2023-04-20T23:04:28.994Z"
   },
   {
    "duration": 10,
    "start_time": "2023-04-20T23:04:29.010Z"
   },
   {
    "duration": 25,
    "start_time": "2023-04-20T23:04:29.023Z"
   },
   {
    "duration": 6,
    "start_time": "2023-04-20T23:04:29.050Z"
   },
   {
    "duration": 29,
    "start_time": "2023-04-20T23:04:29.058Z"
   },
   {
    "duration": 21,
    "start_time": "2023-04-20T23:04:29.089Z"
   },
   {
    "duration": 157,
    "start_time": "2023-04-20T23:04:29.112Z"
   },
   {
    "duration": 123,
    "start_time": "2023-04-20T23:04:29.271Z"
   },
   {
    "duration": 12,
    "start_time": "2023-04-20T23:04:29.396Z"
   },
   {
    "duration": 214,
    "start_time": "2023-04-20T23:04:29.410Z"
   },
   {
    "duration": 224,
    "start_time": "2023-04-20T23:04:29.626Z"
   },
   {
    "duration": 331,
    "start_time": "2023-04-20T23:04:29.852Z"
   },
   {
    "duration": 231,
    "start_time": "2023-04-20T23:04:30.185Z"
   },
   {
    "duration": 340,
    "start_time": "2023-04-20T23:04:30.418Z"
   },
   {
    "duration": 17,
    "start_time": "2023-04-20T23:04:30.760Z"
   },
   {
    "duration": 213,
    "start_time": "2023-04-20T23:04:30.786Z"
   },
   {
    "duration": 5,
    "start_time": "2023-04-20T23:04:31.001Z"
   },
   {
    "duration": 180,
    "start_time": "2023-04-20T23:04:31.008Z"
   },
   {
    "duration": 164,
    "start_time": "2023-04-20T23:04:31.190Z"
   },
   {
    "duration": 4,
    "start_time": "2023-04-20T23:04:31.356Z"
   },
   {
    "duration": 245,
    "start_time": "2023-04-20T23:04:31.372Z"
   },
   {
    "duration": 158,
    "start_time": "2023-04-20T23:04:31.619Z"
   },
   {
    "duration": 11,
    "start_time": "2023-04-20T23:04:31.779Z"
   },
   {
    "duration": 40,
    "start_time": "2023-04-20T23:04:31.791Z"
   },
   {
    "duration": 81,
    "start_time": "2023-04-20T23:04:31.832Z"
   },
   {
    "duration": 50,
    "start_time": "2023-04-20T23:04:31.915Z"
   },
   {
    "duration": 90,
    "start_time": "2023-04-20T23:04:31.966Z"
   },
   {
    "duration": 22,
    "start_time": "2023-04-20T23:04:32.058Z"
   },
   {
    "duration": 177,
    "start_time": "2023-04-20T23:04:49.989Z"
   },
   {
    "duration": 319,
    "start_time": "2023-04-20T23:09:37.841Z"
   },
   {
    "duration": 156,
    "start_time": "2023-04-20T23:10:08.911Z"
   },
   {
    "duration": 161,
    "start_time": "2023-04-20T23:10:33.839Z"
   },
   {
    "duration": 147,
    "start_time": "2023-04-20T23:11:11.992Z"
   },
   {
    "duration": 140,
    "start_time": "2023-04-20T23:11:49.760Z"
   },
   {
    "duration": 10,
    "start_time": "2023-04-20T23:15:01.347Z"
   },
   {
    "duration": 4,
    "start_time": "2023-04-20T23:16:55.646Z"
   },
   {
    "duration": 209,
    "start_time": "2023-04-20T23:17:13.130Z"
   },
   {
    "duration": 158,
    "start_time": "2023-04-20T23:25:20.931Z"
   },
   {
    "duration": 135,
    "start_time": "2023-04-20T23:25:26.495Z"
   },
   {
    "duration": 141,
    "start_time": "2023-04-20T23:25:57.296Z"
   },
   {
    "duration": 8,
    "start_time": "2023-04-20T23:31:03.408Z"
   },
   {
    "duration": 25,
    "start_time": "2023-04-20T23:34:47.169Z"
   },
   {
    "duration": 17,
    "start_time": "2023-04-20T23:37:30.384Z"
   },
   {
    "duration": 81,
    "start_time": "2023-04-20T23:43:35.317Z"
   },
   {
    "duration": 3,
    "start_time": "2023-04-20T23:44:37.847Z"
   },
   {
    "duration": 44,
    "start_time": "2023-04-20T23:44:37.851Z"
   },
   {
    "duration": 59,
    "start_time": "2023-04-20T23:44:37.897Z"
   },
   {
    "duration": 5,
    "start_time": "2023-04-20T23:44:37.958Z"
   },
   {
    "duration": 41,
    "start_time": "2023-04-20T23:44:37.964Z"
   },
   {
    "duration": 28,
    "start_time": "2023-04-20T23:44:38.006Z"
   },
   {
    "duration": 51,
    "start_time": "2023-04-20T23:44:38.036Z"
   },
   {
    "duration": 62,
    "start_time": "2023-04-20T23:44:38.089Z"
   },
   {
    "duration": 254,
    "start_time": "2023-04-20T23:44:38.154Z"
   },
   {
    "duration": 5,
    "start_time": "2023-04-20T23:44:38.410Z"
   },
   {
    "duration": 26,
    "start_time": "2023-04-20T23:44:38.416Z"
   },
   {
    "duration": 50,
    "start_time": "2023-04-20T23:44:38.444Z"
   },
   {
    "duration": 30,
    "start_time": "2023-04-20T23:44:38.496Z"
   },
   {
    "duration": 35,
    "start_time": "2023-04-20T23:44:38.528Z"
   },
   {
    "duration": 30,
    "start_time": "2023-04-20T23:44:38.565Z"
   },
   {
    "duration": 31,
    "start_time": "2023-04-20T23:44:38.597Z"
   },
   {
    "duration": 29,
    "start_time": "2023-04-20T23:44:38.630Z"
   },
   {
    "duration": 187,
    "start_time": "2023-04-20T23:44:38.661Z"
   },
   {
    "duration": 132,
    "start_time": "2023-04-20T23:44:38.850Z"
   },
   {
    "duration": 59,
    "start_time": "2023-04-20T23:44:38.990Z"
   },
   {
    "duration": 235,
    "start_time": "2023-04-20T23:44:39.050Z"
   },
   {
    "duration": 220,
    "start_time": "2023-04-20T23:44:39.287Z"
   },
   {
    "duration": 278,
    "start_time": "2023-04-20T23:44:39.509Z"
   },
   {
    "duration": 218,
    "start_time": "2023-04-20T23:44:39.793Z"
   },
   {
    "duration": 312,
    "start_time": "2023-04-20T23:44:40.013Z"
   },
   {
    "duration": 11,
    "start_time": "2023-04-20T23:44:40.326Z"
   },
   {
    "duration": 175,
    "start_time": "2023-04-20T23:44:40.339Z"
   },
   {
    "duration": 3,
    "start_time": "2023-04-20T23:44:40.516Z"
   },
   {
    "duration": 165,
    "start_time": "2023-04-20T23:44:40.521Z"
   },
   {
    "duration": 7,
    "start_time": "2023-04-20T23:44:40.688Z"
   },
   {
    "duration": 173,
    "start_time": "2023-04-20T23:44:40.697Z"
   },
   {
    "duration": 14,
    "start_time": "2023-04-20T23:44:40.872Z"
   },
   {
    "duration": 323,
    "start_time": "2023-04-20T23:44:40.888Z"
   },
   {
    "duration": 144,
    "start_time": "2023-04-20T23:44:41.213Z"
   },
   {
    "duration": 81,
    "start_time": "2023-04-20T23:44:41.359Z"
   },
   {
    "duration": 0,
    "start_time": "2023-04-20T23:44:41.441Z"
   },
   {
    "duration": 0,
    "start_time": "2023-04-20T23:44:41.442Z"
   },
   {
    "duration": 0,
    "start_time": "2023-04-20T23:44:41.443Z"
   },
   {
    "duration": 0,
    "start_time": "2023-04-20T23:44:41.444Z"
   },
   {
    "duration": 0,
    "start_time": "2023-04-20T23:44:41.445Z"
   },
   {
    "duration": 0,
    "start_time": "2023-04-20T23:44:41.446Z"
   },
   {
    "duration": 1008,
    "start_time": "2023-04-20T23:44:43.978Z"
   },
   {
    "duration": 3,
    "start_time": "2023-04-20T23:44:44.990Z"
   },
   {
    "duration": 109,
    "start_time": "2023-04-20T23:44:44.995Z"
   },
   {
    "duration": 3,
    "start_time": "2023-04-20T23:44:45.107Z"
   },
   {
    "duration": 54,
    "start_time": "2023-04-20T23:44:45.111Z"
   },
   {
    "duration": 22,
    "start_time": "2023-04-20T23:44:45.167Z"
   },
   {
    "duration": 30,
    "start_time": "2023-04-20T23:44:45.191Z"
   },
   {
    "duration": 75,
    "start_time": "2023-04-20T23:44:45.223Z"
   },
   {
    "duration": 253,
    "start_time": "2023-04-20T23:44:45.300Z"
   },
   {
    "duration": 5,
    "start_time": "2023-04-20T23:44:45.556Z"
   },
   {
    "duration": 51,
    "start_time": "2023-04-20T23:44:45.562Z"
   },
   {
    "duration": 10,
    "start_time": "2023-04-20T23:44:45.614Z"
   },
   {
    "duration": 10,
    "start_time": "2023-04-20T23:44:45.625Z"
   },
   {
    "duration": 30,
    "start_time": "2023-04-20T23:44:45.637Z"
   },
   {
    "duration": 15,
    "start_time": "2023-04-20T23:44:45.668Z"
   },
   {
    "duration": 52,
    "start_time": "2023-04-20T23:44:45.685Z"
   },
   {
    "duration": 21,
    "start_time": "2023-04-20T23:44:45.739Z"
   },
   {
    "duration": 205,
    "start_time": "2023-04-20T23:44:45.762Z"
   },
   {
    "duration": 139,
    "start_time": "2023-04-20T23:44:45.969Z"
   },
   {
    "duration": 12,
    "start_time": "2023-04-20T23:44:46.110Z"
   },
   {
    "duration": 315,
    "start_time": "2023-04-20T23:44:46.124Z"
   },
   {
    "duration": 200,
    "start_time": "2023-04-20T23:44:46.441Z"
   },
   {
    "duration": 318,
    "start_time": "2023-04-20T23:44:46.643Z"
   },
   {
    "duration": 226,
    "start_time": "2023-04-20T23:44:46.962Z"
   },
   {
    "duration": 334,
    "start_time": "2023-04-20T23:44:47.191Z"
   },
   {
    "duration": 11,
    "start_time": "2023-04-20T23:44:47.527Z"
   },
   {
    "duration": 170,
    "start_time": "2023-04-20T23:44:47.539Z"
   },
   {
    "duration": 5,
    "start_time": "2023-04-20T23:44:47.712Z"
   },
   {
    "duration": 191,
    "start_time": "2023-04-20T23:44:47.718Z"
   },
   {
    "duration": 5,
    "start_time": "2023-04-20T23:44:47.911Z"
   },
   {
    "duration": 196,
    "start_time": "2023-04-20T23:44:47.918Z"
   },
   {
    "duration": 5,
    "start_time": "2023-04-20T23:44:48.116Z"
   },
   {
    "duration": 228,
    "start_time": "2023-04-20T23:44:48.123Z"
   },
   {
    "duration": 177,
    "start_time": "2023-04-20T23:44:48.353Z"
   },
   {
    "duration": 103,
    "start_time": "2023-04-20T23:44:48.578Z"
   },
   {
    "duration": 0,
    "start_time": "2023-04-20T23:44:48.686Z"
   },
   {
    "duration": 0,
    "start_time": "2023-04-20T23:44:48.687Z"
   },
   {
    "duration": 0,
    "start_time": "2023-04-20T23:44:48.688Z"
   },
   {
    "duration": 0,
    "start_time": "2023-04-20T23:44:48.689Z"
   },
   {
    "duration": 0,
    "start_time": "2023-04-20T23:44:48.690Z"
   },
   {
    "duration": 0,
    "start_time": "2023-04-20T23:44:48.691Z"
   },
   {
    "duration": 5,
    "start_time": "2023-04-20T23:50:35.258Z"
   },
   {
    "duration": 168,
    "start_time": "2023-04-20T23:50:35.660Z"
   },
   {
    "duration": 3,
    "start_time": "2023-04-20T23:51:41.656Z"
   },
   {
    "duration": 51,
    "start_time": "2023-04-20T23:51:41.661Z"
   },
   {
    "duration": 38,
    "start_time": "2023-04-20T23:51:41.714Z"
   },
   {
    "duration": 3,
    "start_time": "2023-04-20T23:51:41.754Z"
   },
   {
    "duration": 40,
    "start_time": "2023-04-20T23:51:41.760Z"
   },
   {
    "duration": 22,
    "start_time": "2023-04-20T23:51:41.802Z"
   },
   {
    "duration": 25,
    "start_time": "2023-04-20T23:51:41.826Z"
   },
   {
    "duration": 62,
    "start_time": "2023-04-20T23:51:41.853Z"
   },
   {
    "duration": 378,
    "start_time": "2023-04-20T23:51:41.916Z"
   },
   {
    "duration": 8,
    "start_time": "2023-04-20T23:51:42.296Z"
   },
   {
    "duration": 32,
    "start_time": "2023-04-20T23:51:42.306Z"
   },
   {
    "duration": 12,
    "start_time": "2023-04-20T23:51:42.339Z"
   },
   {
    "duration": 14,
    "start_time": "2023-04-20T23:51:42.354Z"
   },
   {
    "duration": 54,
    "start_time": "2023-04-20T23:51:42.370Z"
   },
   {
    "duration": 4,
    "start_time": "2023-04-20T23:51:42.426Z"
   },
   {
    "duration": 21,
    "start_time": "2023-04-20T23:51:42.432Z"
   },
   {
    "duration": 10,
    "start_time": "2023-04-20T23:51:42.455Z"
   },
   {
    "duration": 166,
    "start_time": "2023-04-20T23:51:42.467Z"
   },
   {
    "duration": 108,
    "start_time": "2023-04-20T23:51:42.634Z"
   },
   {
    "duration": 11,
    "start_time": "2023-04-20T23:51:42.743Z"
   },
   {
    "duration": 213,
    "start_time": "2023-04-20T23:51:42.755Z"
   },
   {
    "duration": 211,
    "start_time": "2023-04-20T23:51:42.972Z"
   },
   {
    "duration": 271,
    "start_time": "2023-04-20T23:51:43.185Z"
   },
   {
    "duration": 222,
    "start_time": "2023-04-20T23:51:43.457Z"
   },
   {
    "duration": 331,
    "start_time": "2023-04-20T23:51:43.685Z"
   },
   {
    "duration": 11,
    "start_time": "2023-04-20T23:51:44.018Z"
   },
   {
    "duration": 157,
    "start_time": "2023-04-20T23:51:44.030Z"
   },
   {
    "duration": 3,
    "start_time": "2023-04-20T23:51:44.188Z"
   },
   {
    "duration": 157,
    "start_time": "2023-04-20T23:51:44.192Z"
   },
   {
    "duration": 5,
    "start_time": "2023-04-20T23:51:44.350Z"
   },
   {
    "duration": 197,
    "start_time": "2023-04-20T23:51:44.356Z"
   },
   {
    "duration": 3,
    "start_time": "2023-04-20T23:51:44.555Z"
   },
   {
    "duration": 242,
    "start_time": "2023-04-20T23:51:44.560Z"
   },
   {
    "duration": 165,
    "start_time": "2023-04-20T23:51:44.804Z"
   },
   {
    "duration": 141,
    "start_time": "2023-04-20T23:51:44.971Z"
   },
   {
    "duration": 0,
    "start_time": "2023-04-20T23:51:45.114Z"
   },
   {
    "duration": 0,
    "start_time": "2023-04-20T23:51:45.115Z"
   },
   {
    "duration": 0,
    "start_time": "2023-04-20T23:51:45.116Z"
   },
   {
    "duration": 0,
    "start_time": "2023-04-20T23:51:45.117Z"
   },
   {
    "duration": 0,
    "start_time": "2023-04-20T23:51:45.118Z"
   },
   {
    "duration": 0,
    "start_time": "2023-04-20T23:51:45.118Z"
   },
   {
    "duration": 9,
    "start_time": "2023-04-20T23:53:10.602Z"
   },
   {
    "duration": 1026,
    "start_time": "2023-04-20T23:53:36.421Z"
   },
   {
    "duration": 2,
    "start_time": "2023-04-20T23:53:37.449Z"
   },
   {
    "duration": 98,
    "start_time": "2023-04-20T23:53:37.452Z"
   },
   {
    "duration": 3,
    "start_time": "2023-04-20T23:53:37.552Z"
   },
   {
    "duration": 38,
    "start_time": "2023-04-20T23:53:37.556Z"
   },
   {
    "duration": 23,
    "start_time": "2023-04-20T23:53:37.596Z"
   },
   {
    "duration": 26,
    "start_time": "2023-04-20T23:53:37.620Z"
   },
   {
    "duration": 71,
    "start_time": "2023-04-20T23:53:37.648Z"
   },
   {
    "duration": 286,
    "start_time": "2023-04-20T23:53:37.721Z"
   },
   {
    "duration": 6,
    "start_time": "2023-04-20T23:53:38.009Z"
   },
   {
    "duration": 27,
    "start_time": "2023-04-20T23:53:38.016Z"
   },
   {
    "duration": 11,
    "start_time": "2023-04-20T23:53:38.044Z"
   },
   {
    "duration": 13,
    "start_time": "2023-04-20T23:53:38.057Z"
   },
   {
    "duration": 46,
    "start_time": "2023-04-20T23:53:38.071Z"
   },
   {
    "duration": 5,
    "start_time": "2023-04-20T23:53:38.119Z"
   },
   {
    "duration": 11,
    "start_time": "2023-04-20T23:53:38.125Z"
   },
   {
    "duration": 7,
    "start_time": "2023-04-20T23:53:38.137Z"
   },
   {
    "duration": 166,
    "start_time": "2023-04-20T23:53:38.145Z"
   },
   {
    "duration": 124,
    "start_time": "2023-04-20T23:53:38.313Z"
   },
   {
    "duration": 12,
    "start_time": "2023-04-20T23:53:38.439Z"
   },
   {
    "duration": 313,
    "start_time": "2023-04-20T23:53:38.452Z"
   },
   {
    "duration": 213,
    "start_time": "2023-04-20T23:53:38.785Z"
   },
   {
    "duration": 285,
    "start_time": "2023-04-20T23:53:38.999Z"
   },
   {
    "duration": 213,
    "start_time": "2023-04-20T23:53:39.287Z"
   },
   {
    "duration": 313,
    "start_time": "2023-04-20T23:53:39.502Z"
   },
   {
    "duration": 10,
    "start_time": "2023-04-20T23:53:39.816Z"
   },
   {
    "duration": 177,
    "start_time": "2023-04-20T23:53:39.827Z"
   },
   {
    "duration": 3,
    "start_time": "2023-04-20T23:53:40.007Z"
   },
   {
    "duration": 189,
    "start_time": "2023-04-20T23:53:40.012Z"
   },
   {
    "duration": 5,
    "start_time": "2023-04-20T23:53:40.203Z"
   },
   {
    "duration": 154,
    "start_time": "2023-04-20T23:53:40.210Z"
   },
   {
    "duration": 3,
    "start_time": "2023-04-20T23:53:40.366Z"
   },
   {
    "duration": 217,
    "start_time": "2023-04-20T23:53:40.379Z"
   },
   {
    "duration": 138,
    "start_time": "2023-04-20T23:53:40.598Z"
   },
   {
    "duration": 10,
    "start_time": "2023-04-20T23:53:40.738Z"
   },
   {
    "duration": 64,
    "start_time": "2023-04-20T23:53:40.749Z"
   },
   {
    "duration": 6,
    "start_time": "2023-04-20T23:53:40.815Z"
   },
   {
    "duration": 13,
    "start_time": "2023-04-20T23:53:40.822Z"
   },
   {
    "duration": 32,
    "start_time": "2023-04-20T23:53:40.837Z"
   },
   {
    "duration": 36,
    "start_time": "2023-04-20T23:53:40.871Z"
   },
   {
    "duration": 1120,
    "start_time": "2023-11-28T11:25:11.490Z"
   },
   {
    "duration": 3,
    "start_time": "2023-11-28T11:25:12.612Z"
   },
   {
    "duration": 147,
    "start_time": "2023-11-28T11:25:12.616Z"
   },
   {
    "duration": 3,
    "start_time": "2023-11-28T11:25:12.765Z"
   },
   {
    "duration": 27,
    "start_time": "2023-11-28T11:25:12.770Z"
   },
   {
    "duration": 11,
    "start_time": "2023-11-28T11:25:12.798Z"
   },
   {
    "duration": 26,
    "start_time": "2023-11-28T11:25:12.810Z"
   },
   {
    "duration": 94,
    "start_time": "2023-11-28T11:25:12.838Z"
   },
   {
    "duration": 317,
    "start_time": "2023-11-28T11:25:12.934Z"
   },
   {
    "duration": 5,
    "start_time": "2023-11-28T11:25:13.253Z"
   },
   {
    "duration": 12,
    "start_time": "2023-11-28T11:25:13.266Z"
   },
   {
    "duration": 15,
    "start_time": "2023-11-28T11:25:13.280Z"
   },
   {
    "duration": 25,
    "start_time": "2023-11-28T11:25:13.296Z"
   },
   {
    "duration": 63,
    "start_time": "2023-11-28T11:25:13.322Z"
   },
   {
    "duration": 5,
    "start_time": "2023-11-28T11:25:13.387Z"
   },
   {
    "duration": 45,
    "start_time": "2023-11-28T11:25:13.393Z"
   },
   {
    "duration": 24,
    "start_time": "2023-11-28T11:25:13.440Z"
   },
   {
    "duration": 163,
    "start_time": "2023-11-28T11:25:13.466Z"
   },
   {
    "duration": 122,
    "start_time": "2023-11-28T11:25:13.631Z"
   },
   {
    "duration": 19,
    "start_time": "2023-11-28T11:25:13.754Z"
   },
   {
    "duration": 330,
    "start_time": "2023-11-28T11:25:13.775Z"
   },
   {
    "duration": 233,
    "start_time": "2023-11-28T11:25:14.108Z"
   },
   {
    "duration": 346,
    "start_time": "2023-11-28T11:25:14.343Z"
   },
   {
    "duration": 235,
    "start_time": "2023-11-28T11:25:14.690Z"
   },
   {
    "duration": 375,
    "start_time": "2023-11-28T11:25:14.927Z"
   },
   {
    "duration": 11,
    "start_time": "2023-11-28T11:25:15.304Z"
   },
   {
    "duration": 204,
    "start_time": "2023-11-28T11:25:15.316Z"
   },
   {
    "duration": 4,
    "start_time": "2023-11-28T11:25:15.523Z"
   },
   {
    "duration": 190,
    "start_time": "2023-11-28T11:25:15.529Z"
   },
   {
    "duration": 6,
    "start_time": "2023-11-28T11:25:15.720Z"
   },
   {
    "duration": 218,
    "start_time": "2023-11-28T11:25:15.727Z"
   },
   {
    "duration": 5,
    "start_time": "2023-11-28T11:25:15.946Z"
   },
   {
    "duration": 255,
    "start_time": "2023-11-28T11:25:15.953Z"
   },
   {
    "duration": 169,
    "start_time": "2023-11-28T11:25:16.210Z"
   },
   {
    "duration": 13,
    "start_time": "2023-11-28T11:25:16.381Z"
   },
   {
    "duration": 42,
    "start_time": "2023-11-28T11:25:16.396Z"
   },
   {
    "duration": 25,
    "start_time": "2023-11-28T11:25:16.439Z"
   },
   {
    "duration": 31,
    "start_time": "2023-11-28T11:25:16.465Z"
   },
   {
    "duration": 45,
    "start_time": "2023-11-28T11:25:16.498Z"
   },
   {
    "duration": 13,
    "start_time": "2023-11-28T11:25:16.545Z"
   }
  ],
  "kernelspec": {
   "display_name": "Python 3 (ipykernel)",
   "language": "python",
   "name": "python3"
  },
  "language_info": {
   "codemirror_mode": {
    "name": "ipython",
    "version": 3
   },
   "file_extension": ".py",
   "mimetype": "text/x-python",
   "name": "python",
   "nbconvert_exporter": "python",
   "pygments_lexer": "ipython3",
   "version": "3.9.5"
  },
  "toc": {
   "base_numbering": 1,
   "nav_menu": {},
   "number_sections": true,
   "sideBar": true,
   "skip_h1_title": true,
   "title_cell": "Table of Contents",
   "title_sidebar": "Contents",
   "toc_cell": false,
   "toc_position": {},
   "toc_section_display": true,
   "toc_window_display": false
  }
 },
 "nbformat": 4,
 "nbformat_minor": 2
}
