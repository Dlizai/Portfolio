{
 "cells": [
  {
   "cell_type": "markdown",
   "id": "b0369f52",
   "metadata": {},
   "source": [
    "# SQL"
   ]
  },
  {
   "cell_type": "markdown",
   "id": "824f3e5b",
   "metadata": {},
   "source": [
    "## Описание данных\n",
    "\n",
    "**Таблица `books`**\n",
    "\n",
    "Содержит данные о книгах:\n",
    "\n",
    "- `book_id` — идентификатор книги;\n",
    "- `author_id` — идентификатор автора;\n",
    "- `title` — название книги;\n",
    "- `num_pages` — количество страниц;\n",
    "- `publication_date` — дата публикации книги;\n",
    "- `publisher_id` — идентификатор издателя.\n",
    "\n",
    "**Таблица `authors`**\n",
    "\n",
    "Содержит данные об авторах:\n",
    "\n",
    "- `author_id` — идентификатор автора;\n",
    "- `author` — имя автора.\n",
    "\n",
    "**Таблица `publishers`**\n",
    "\n",
    "Содержит данные об издательствах:\n",
    "\n",
    "- `publisher_id` — идентификатор издательства;\n",
    "- `publisher` — название издательства;\n",
    "\n",
    "**Таблица `ratings`**\n",
    "\n",
    "Содержит данные о пользовательских оценках книг:\n",
    "\n",
    "- `rating_id` — идентификатор оценки;\n",
    "- `book_id` — идентификатор книги;\n",
    "- `username` — имя пользователя, оставившего оценку;\n",
    "- `rating` — оценка книги.\n",
    "\n",
    "**Таблица `reviews`**\n",
    "\n",
    "Содержит данные о пользовательских обзорах на книги:\n",
    "\n",
    "- `review_id` — идентификатор обзора;\n",
    "- `book_id` — идентификатор книги\n",
    "- `username` — имя пользователя, написавшего обзор;\n",
    "- `text` — текст обзора."
   ]
  },
  {
   "cell_type": "markdown",
   "id": "d3b83344",
   "metadata": {},
   "source": [
    "### Цели исследования\n",
    "- проанализировать базу данных\n",
    "- решить поставленные задачи\n",
    "- изучить текущую ситуацию на книжном рынке для создания нового продукта"
   ]
  },
  {
   "cell_type": "markdown",
   "id": "e846dacc",
   "metadata": {},
   "source": [
    "## Доступ к базе данных"
   ]
  },
  {
   "cell_type": "code",
   "execution_count": 1,
   "id": "a753a5f2",
   "metadata": {},
   "outputs": [],
   "source": [
    "# импортируем библиотеки\n",
    "import pandas as pd\n",
    "from sqlalchemy import text, create_engine\n",
    "\n",
    "# устанавливаем параметры\n",
    "db_config = {'user': 'praktikum_student', # имя пользователя\n",
    "'pwd': 'Sdf4$2;d-d30pp', # пароль\n",
    "'host': 'rc1b-wcoijxj3yxfsf3fs.mdb.yandexcloud.net',\n",
    "'port': 6432, # порт подключения\n",
    "'db': 'data-analyst-final-project-db'} # название базы данных\n",
    "connection_string = 'postgresql://{user}:{pwd}@{host}:{port}/{db}'.format(**db_config)\n",
    "\n",
    "# сохраняем коннектор\n",
    "engine = create_engine(connection_string, connect_args={'sslmode':'require'})\n"
   ]
  },
  {
   "cell_type": "markdown",
   "id": "e10ea333",
   "metadata": {},
   "source": [
    "**Обзор таблиц**"
   ]
  },
  {
   "cell_type": "code",
   "execution_count": 2,
   "id": "a54ae51f",
   "metadata": {},
   "outputs": [
    {
     "data": {
      "text/html": [
       "<div>\n",
       "<style scoped>\n",
       "    .dataframe tbody tr th:only-of-type {\n",
       "        vertical-align: middle;\n",
       "    }\n",
       "\n",
       "    .dataframe tbody tr th {\n",
       "        vertical-align: top;\n",
       "    }\n",
       "\n",
       "    .dataframe thead th {\n",
       "        text-align: right;\n",
       "    }\n",
       "</style>\n",
       "<table border=\"1\" class=\"dataframe\">\n",
       "  <thead>\n",
       "    <tr style=\"text-align: right;\">\n",
       "      <th></th>\n",
       "      <th>book_id</th>\n",
       "      <th>author_id</th>\n",
       "      <th>title</th>\n",
       "      <th>num_pages</th>\n",
       "      <th>publication_date</th>\n",
       "      <th>publisher_id</th>\n",
       "    </tr>\n",
       "  </thead>\n",
       "  <tbody>\n",
       "    <tr>\n",
       "      <th>0</th>\n",
       "      <td>1</td>\n",
       "      <td>546</td>\n",
       "      <td>'Salem's Lot</td>\n",
       "      <td>594</td>\n",
       "      <td>2005-11-01</td>\n",
       "      <td>93</td>\n",
       "    </tr>\n",
       "    <tr>\n",
       "      <th>1</th>\n",
       "      <td>2</td>\n",
       "      <td>465</td>\n",
       "      <td>1 000 Places to See Before You Die</td>\n",
       "      <td>992</td>\n",
       "      <td>2003-05-22</td>\n",
       "      <td>336</td>\n",
       "    </tr>\n",
       "    <tr>\n",
       "      <th>2</th>\n",
       "      <td>3</td>\n",
       "      <td>407</td>\n",
       "      <td>13 Little Blue Envelopes (Little Blue Envelope...</td>\n",
       "      <td>322</td>\n",
       "      <td>2010-12-21</td>\n",
       "      <td>135</td>\n",
       "    </tr>\n",
       "    <tr>\n",
       "      <th>3</th>\n",
       "      <td>4</td>\n",
       "      <td>82</td>\n",
       "      <td>1491: New Revelations of the Americas Before C...</td>\n",
       "      <td>541</td>\n",
       "      <td>2006-10-10</td>\n",
       "      <td>309</td>\n",
       "    </tr>\n",
       "    <tr>\n",
       "      <th>4</th>\n",
       "      <td>5</td>\n",
       "      <td>125</td>\n",
       "      <td>1776</td>\n",
       "      <td>386</td>\n",
       "      <td>2006-07-04</td>\n",
       "      <td>268</td>\n",
       "    </tr>\n",
       "  </tbody>\n",
       "</table>\n",
       "</div>"
      ],
      "text/plain": [
       "   book_id  author_id                                              title  \\\n",
       "0        1        546                                       'Salem's Lot   \n",
       "1        2        465                 1 000 Places to See Before You Die   \n",
       "2        3        407  13 Little Blue Envelopes (Little Blue Envelope...   \n",
       "3        4         82  1491: New Revelations of the Americas Before C...   \n",
       "4        5        125                                               1776   \n",
       "\n",
       "   num_pages publication_date  publisher_id  \n",
       "0        594       2005-11-01            93  \n",
       "1        992       2003-05-22           336  \n",
       "2        322       2010-12-21           135  \n",
       "3        541       2006-10-10           309  \n",
       "4        386       2006-07-04           268  "
      ]
     },
     "execution_count": 2,
     "metadata": {},
     "output_type": "execute_result"
    }
   ],
   "source": [
    "# смотрим первые 5 записей в таблице books\n",
    "books  = \"\"\"\n",
    "SELECT *\n",
    "FROM books\n",
    "LIMIT 5\n",
    "\"\"\"\n",
    "con=engine.connect()\n",
    "\n",
    "pd.io.sql.read_sql(sql=text(books), con = con)\n"
   ]
  },
  {
   "cell_type": "code",
   "execution_count": 3,
   "id": "54c04e02",
   "metadata": {
    "scrolled": true
   },
   "outputs": [
    {
     "data": {
      "text/html": [
       "<div>\n",
       "<style scoped>\n",
       "    .dataframe tbody tr th:only-of-type {\n",
       "        vertical-align: middle;\n",
       "    }\n",
       "\n",
       "    .dataframe tbody tr th {\n",
       "        vertical-align: top;\n",
       "    }\n",
       "\n",
       "    .dataframe thead th {\n",
       "        text-align: right;\n",
       "    }\n",
       "</style>\n",
       "<table border=\"1\" class=\"dataframe\">\n",
       "  <thead>\n",
       "    <tr style=\"text-align: right;\">\n",
       "      <th></th>\n",
       "      <th>author_id</th>\n",
       "      <th>author</th>\n",
       "    </tr>\n",
       "  </thead>\n",
       "  <tbody>\n",
       "    <tr>\n",
       "      <th>0</th>\n",
       "      <td>1</td>\n",
       "      <td>A.S. Byatt</td>\n",
       "    </tr>\n",
       "    <tr>\n",
       "      <th>1</th>\n",
       "      <td>2</td>\n",
       "      <td>Aesop/Laura Harris/Laura Gibbs</td>\n",
       "    </tr>\n",
       "    <tr>\n",
       "      <th>2</th>\n",
       "      <td>3</td>\n",
       "      <td>Agatha Christie</td>\n",
       "    </tr>\n",
       "    <tr>\n",
       "      <th>3</th>\n",
       "      <td>4</td>\n",
       "      <td>Alan Brennert</td>\n",
       "    </tr>\n",
       "    <tr>\n",
       "      <th>4</th>\n",
       "      <td>5</td>\n",
       "      <td>Alan Moore/David   Lloyd</td>\n",
       "    </tr>\n",
       "  </tbody>\n",
       "</table>\n",
       "</div>"
      ],
      "text/plain": [
       "   author_id                          author\n",
       "0          1                      A.S. Byatt\n",
       "1          2  Aesop/Laura Harris/Laura Gibbs\n",
       "2          3                 Agatha Christie\n",
       "3          4                   Alan Brennert\n",
       "4          5        Alan Moore/David   Lloyd"
      ]
     },
     "execution_count": 3,
     "metadata": {},
     "output_type": "execute_result"
    }
   ],
   "source": [
    "# смотрим первые 5 записей в таблице authors\n",
    "authors  = \"\"\"\n",
    "SELECT *\n",
    "FROM authors\n",
    "LIMIT 5\n",
    "\"\"\"\n",
    "pd.io.sql.read_sql(sql=text(authors), con = con)"
   ]
  },
  {
   "cell_type": "code",
   "execution_count": 4,
   "id": "c03fbb59",
   "metadata": {},
   "outputs": [
    {
     "data": {
      "text/html": [
       "<div>\n",
       "<style scoped>\n",
       "    .dataframe tbody tr th:only-of-type {\n",
       "        vertical-align: middle;\n",
       "    }\n",
       "\n",
       "    .dataframe tbody tr th {\n",
       "        vertical-align: top;\n",
       "    }\n",
       "\n",
       "    .dataframe thead th {\n",
       "        text-align: right;\n",
       "    }\n",
       "</style>\n",
       "<table border=\"1\" class=\"dataframe\">\n",
       "  <thead>\n",
       "    <tr style=\"text-align: right;\">\n",
       "      <th></th>\n",
       "      <th>publisher_id</th>\n",
       "      <th>publisher</th>\n",
       "    </tr>\n",
       "  </thead>\n",
       "  <tbody>\n",
       "    <tr>\n",
       "      <th>0</th>\n",
       "      <td>1</td>\n",
       "      <td>Ace</td>\n",
       "    </tr>\n",
       "    <tr>\n",
       "      <th>1</th>\n",
       "      <td>2</td>\n",
       "      <td>Ace Book</td>\n",
       "    </tr>\n",
       "    <tr>\n",
       "      <th>2</th>\n",
       "      <td>3</td>\n",
       "      <td>Ace Books</td>\n",
       "    </tr>\n",
       "    <tr>\n",
       "      <th>3</th>\n",
       "      <td>4</td>\n",
       "      <td>Ace Hardcover</td>\n",
       "    </tr>\n",
       "    <tr>\n",
       "      <th>4</th>\n",
       "      <td>5</td>\n",
       "      <td>Addison Wesley Publishing Company</td>\n",
       "    </tr>\n",
       "  </tbody>\n",
       "</table>\n",
       "</div>"
      ],
      "text/plain": [
       "   publisher_id                          publisher\n",
       "0             1                                Ace\n",
       "1             2                           Ace Book\n",
       "2             3                          Ace Books\n",
       "3             4                      Ace Hardcover\n",
       "4             5  Addison Wesley Publishing Company"
      ]
     },
     "execution_count": 4,
     "metadata": {},
     "output_type": "execute_result"
    }
   ],
   "source": [
    "# смотрим первые 5 записей в таблице publishers\n",
    "publishers  = \"\"\"\n",
    "SELECT *\n",
    "FROM publishers\n",
    "LIMIT 5\n",
    "\"\"\"\n",
    "pd.io.sql.read_sql(sql=text(publishers), con = con)"
   ]
  },
  {
   "cell_type": "code",
   "execution_count": 5,
   "id": "f2f7fe94",
   "metadata": {},
   "outputs": [
    {
     "data": {
      "text/html": [
       "<div>\n",
       "<style scoped>\n",
       "    .dataframe tbody tr th:only-of-type {\n",
       "        vertical-align: middle;\n",
       "    }\n",
       "\n",
       "    .dataframe tbody tr th {\n",
       "        vertical-align: top;\n",
       "    }\n",
       "\n",
       "    .dataframe thead th {\n",
       "        text-align: right;\n",
       "    }\n",
       "</style>\n",
       "<table border=\"1\" class=\"dataframe\">\n",
       "  <thead>\n",
       "    <tr style=\"text-align: right;\">\n",
       "      <th></th>\n",
       "      <th>rating_id</th>\n",
       "      <th>book_id</th>\n",
       "      <th>username</th>\n",
       "      <th>rating</th>\n",
       "    </tr>\n",
       "  </thead>\n",
       "  <tbody>\n",
       "    <tr>\n",
       "      <th>0</th>\n",
       "      <td>1</td>\n",
       "      <td>1</td>\n",
       "      <td>ryanfranco</td>\n",
       "      <td>4</td>\n",
       "    </tr>\n",
       "    <tr>\n",
       "      <th>1</th>\n",
       "      <td>2</td>\n",
       "      <td>1</td>\n",
       "      <td>grantpatricia</td>\n",
       "      <td>2</td>\n",
       "    </tr>\n",
       "    <tr>\n",
       "      <th>2</th>\n",
       "      <td>3</td>\n",
       "      <td>1</td>\n",
       "      <td>brandtandrea</td>\n",
       "      <td>5</td>\n",
       "    </tr>\n",
       "    <tr>\n",
       "      <th>3</th>\n",
       "      <td>4</td>\n",
       "      <td>2</td>\n",
       "      <td>lorichen</td>\n",
       "      <td>3</td>\n",
       "    </tr>\n",
       "    <tr>\n",
       "      <th>4</th>\n",
       "      <td>5</td>\n",
       "      <td>2</td>\n",
       "      <td>mariokeller</td>\n",
       "      <td>2</td>\n",
       "    </tr>\n",
       "  </tbody>\n",
       "</table>\n",
       "</div>"
      ],
      "text/plain": [
       "   rating_id  book_id       username  rating\n",
       "0          1        1     ryanfranco       4\n",
       "1          2        1  grantpatricia       2\n",
       "2          3        1   brandtandrea       5\n",
       "3          4        2       lorichen       3\n",
       "4          5        2    mariokeller       2"
      ]
     },
     "execution_count": 5,
     "metadata": {},
     "output_type": "execute_result"
    }
   ],
   "source": [
    "# смотрим первые 5 записей в таблице ratings\n",
    "ratings  = \"\"\"\n",
    "SELECT *\n",
    "FROM ratings\n",
    "LIMIT 5\n",
    "\"\"\"\n",
    "pd.io.sql.read_sql(sql=text(ratings), con = con)"
   ]
  },
  {
   "cell_type": "code",
   "execution_count": 6,
   "id": "41777314",
   "metadata": {
    "scrolled": false
   },
   "outputs": [
    {
     "data": {
      "text/html": [
       "<div>\n",
       "<style scoped>\n",
       "    .dataframe tbody tr th:only-of-type {\n",
       "        vertical-align: middle;\n",
       "    }\n",
       "\n",
       "    .dataframe tbody tr th {\n",
       "        vertical-align: top;\n",
       "    }\n",
       "\n",
       "    .dataframe thead th {\n",
       "        text-align: right;\n",
       "    }\n",
       "</style>\n",
       "<table border=\"1\" class=\"dataframe\">\n",
       "  <thead>\n",
       "    <tr style=\"text-align: right;\">\n",
       "      <th></th>\n",
       "      <th>review_id</th>\n",
       "      <th>book_id</th>\n",
       "      <th>username</th>\n",
       "      <th>text</th>\n",
       "    </tr>\n",
       "  </thead>\n",
       "  <tbody>\n",
       "    <tr>\n",
       "      <th>0</th>\n",
       "      <td>1</td>\n",
       "      <td>1</td>\n",
       "      <td>brandtandrea</td>\n",
       "      <td>Mention society tell send professor analysis. ...</td>\n",
       "    </tr>\n",
       "    <tr>\n",
       "      <th>1</th>\n",
       "      <td>2</td>\n",
       "      <td>1</td>\n",
       "      <td>ryanfranco</td>\n",
       "      <td>Foot glass pretty audience hit themselves. Amo...</td>\n",
       "    </tr>\n",
       "    <tr>\n",
       "      <th>2</th>\n",
       "      <td>3</td>\n",
       "      <td>2</td>\n",
       "      <td>lorichen</td>\n",
       "      <td>Listen treat keep worry. Miss husband tax but ...</td>\n",
       "    </tr>\n",
       "    <tr>\n",
       "      <th>3</th>\n",
       "      <td>4</td>\n",
       "      <td>3</td>\n",
       "      <td>johnsonamanda</td>\n",
       "      <td>Finally month interesting blue could nature cu...</td>\n",
       "    </tr>\n",
       "    <tr>\n",
       "      <th>4</th>\n",
       "      <td>5</td>\n",
       "      <td>3</td>\n",
       "      <td>scotttamara</td>\n",
       "      <td>Nation purpose heavy give wait song will. List...</td>\n",
       "    </tr>\n",
       "  </tbody>\n",
       "</table>\n",
       "</div>"
      ],
      "text/plain": [
       "   review_id  book_id       username  \\\n",
       "0          1        1   brandtandrea   \n",
       "1          2        1     ryanfranco   \n",
       "2          3        2       lorichen   \n",
       "3          4        3  johnsonamanda   \n",
       "4          5        3    scotttamara   \n",
       "\n",
       "                                                text  \n",
       "0  Mention society tell send professor analysis. ...  \n",
       "1  Foot glass pretty audience hit themselves. Amo...  \n",
       "2  Listen treat keep worry. Miss husband tax but ...  \n",
       "3  Finally month interesting blue could nature cu...  \n",
       "4  Nation purpose heavy give wait song will. List...  "
      ]
     },
     "execution_count": 6,
     "metadata": {},
     "output_type": "execute_result"
    }
   ],
   "source": [
    "# смотрим первые 5 записей в таблице reviews\n",
    "reviews  = \"\"\"\n",
    "SELECT *\n",
    "FROM reviews\n",
    "LIMIT 5\n",
    "\"\"\"\n",
    "pd.io.sql.read_sql(sql=text(reviews), con = con)"
   ]
  },
  {
   "cell_type": "markdown",
   "id": "691c537b",
   "metadata": {},
   "source": [
    "# Задания"
   ]
  },
  {
   "cell_type": "markdown",
   "id": "35172db7",
   "metadata": {},
   "source": [
    "**Посчитайте, сколько книг вышло после 1 января 2000 года**"
   ]
  },
  {
   "cell_type": "code",
   "execution_count": 7,
   "id": "3c7c3da3",
   "metadata": {},
   "outputs": [
    {
     "data": {
      "text/html": [
       "<div>\n",
       "<style scoped>\n",
       "    .dataframe tbody tr th:only-of-type {\n",
       "        vertical-align: middle;\n",
       "    }\n",
       "\n",
       "    .dataframe tbody tr th {\n",
       "        vertical-align: top;\n",
       "    }\n",
       "\n",
       "    .dataframe thead th {\n",
       "        text-align: right;\n",
       "    }\n",
       "</style>\n",
       "<table border=\"1\" class=\"dataframe\">\n",
       "  <thead>\n",
       "    <tr style=\"text-align: right;\">\n",
       "      <th></th>\n",
       "      <th>count</th>\n",
       "    </tr>\n",
       "  </thead>\n",
       "  <tbody>\n",
       "    <tr>\n",
       "      <th>0</th>\n",
       "      <td>821</td>\n",
       "    </tr>\n",
       "  </tbody>\n",
       "</table>\n",
       "</div>"
      ],
      "text/plain": [
       "   count\n",
       "0    821"
      ]
     },
     "execution_count": 7,
     "metadata": {},
     "output_type": "execute_result"
    }
   ],
   "source": [
    "query_1  = \"\"\"\n",
    "SELECT COUNT(book_id)\n",
    "FROM books\n",
    "WHERE publication_date >= '2000-01-01';\n",
    "\"\"\"\n",
    "pd.io.sql.read_sql(sql=text(query_1), con = con)"
   ]
  },
  {
   "cell_type": "markdown",
   "id": "79dd20b4",
   "metadata": {},
   "source": [
    "С 1 января 2000 года была выпущена 821 книга."
   ]
  },
  {
   "cell_type": "markdown",
   "id": "ce07b97d",
   "metadata": {},
   "source": [
    "**Для каждой книги посчитайте количество обзоров и среднюю оценку**"
   ]
  },
  {
   "cell_type": "code",
   "execution_count": 8,
   "id": "f9345fda",
   "metadata": {},
   "outputs": [
    {
     "data": {
      "text/html": [
       "<div>\n",
       "<style scoped>\n",
       "    .dataframe tbody tr th:only-of-type {\n",
       "        vertical-align: middle;\n",
       "    }\n",
       "\n",
       "    .dataframe tbody tr th {\n",
       "        vertical-align: top;\n",
       "    }\n",
       "\n",
       "    .dataframe thead th {\n",
       "        text-align: right;\n",
       "    }\n",
       "</style>\n",
       "<table border=\"1\" class=\"dataframe\">\n",
       "  <thead>\n",
       "    <tr style=\"text-align: right;\">\n",
       "      <th></th>\n",
       "      <th>book_id</th>\n",
       "      <th>title</th>\n",
       "      <th>count</th>\n",
       "      <th>avg_rating</th>\n",
       "    </tr>\n",
       "  </thead>\n",
       "  <tbody>\n",
       "    <tr>\n",
       "      <th>0</th>\n",
       "      <td>948</td>\n",
       "      <td>Twilight (Twilight  #1)</td>\n",
       "      <td>7</td>\n",
       "      <td>3.66</td>\n",
       "    </tr>\n",
       "    <tr>\n",
       "      <th>1</th>\n",
       "      <td>302</td>\n",
       "      <td>Harry Potter and the Prisoner of Azkaban (Harr...</td>\n",
       "      <td>6</td>\n",
       "      <td>4.41</td>\n",
       "    </tr>\n",
       "    <tr>\n",
       "      <th>2</th>\n",
       "      <td>299</td>\n",
       "      <td>Harry Potter and the Chamber of Secrets (Harry...</td>\n",
       "      <td>6</td>\n",
       "      <td>4.29</td>\n",
       "    </tr>\n",
       "    <tr>\n",
       "      <th>3</th>\n",
       "      <td>656</td>\n",
       "      <td>The Book Thief</td>\n",
       "      <td>6</td>\n",
       "      <td>4.26</td>\n",
       "    </tr>\n",
       "    <tr>\n",
       "      <th>4</th>\n",
       "      <td>734</td>\n",
       "      <td>The Glass Castle</td>\n",
       "      <td>6</td>\n",
       "      <td>4.21</td>\n",
       "    </tr>\n",
       "    <tr>\n",
       "      <th>...</th>\n",
       "      <td>...</td>\n",
       "      <td>...</td>\n",
       "      <td>...</td>\n",
       "      <td>...</td>\n",
       "    </tr>\n",
       "    <tr>\n",
       "      <th>995</th>\n",
       "      <td>191</td>\n",
       "      <td>Disney's Beauty and the Beast (A Little Golden...</td>\n",
       "      <td>0</td>\n",
       "      <td>4.00</td>\n",
       "    </tr>\n",
       "    <tr>\n",
       "      <th>996</th>\n",
       "      <td>387</td>\n",
       "      <td>Leonardo's Notebooks</td>\n",
       "      <td>0</td>\n",
       "      <td>4.00</td>\n",
       "    </tr>\n",
       "    <tr>\n",
       "      <th>997</th>\n",
       "      <td>221</td>\n",
       "      <td>Essential Tales and Poems</td>\n",
       "      <td>0</td>\n",
       "      <td>4.00</td>\n",
       "    </tr>\n",
       "    <tr>\n",
       "      <th>998</th>\n",
       "      <td>83</td>\n",
       "      <td>Anne Rice's The Vampire Lestat: A Graphic Novel</td>\n",
       "      <td>0</td>\n",
       "      <td>3.67</td>\n",
       "    </tr>\n",
       "    <tr>\n",
       "      <th>999</th>\n",
       "      <td>808</td>\n",
       "      <td>The Natural Way to Draw</td>\n",
       "      <td>0</td>\n",
       "      <td>3.00</td>\n",
       "    </tr>\n",
       "  </tbody>\n",
       "</table>\n",
       "<p>1000 rows × 4 columns</p>\n",
       "</div>"
      ],
      "text/plain": [
       "     book_id                                              title  count  \\\n",
       "0        948                            Twilight (Twilight  #1)      7   \n",
       "1        302  Harry Potter and the Prisoner of Azkaban (Harr...      6   \n",
       "2        299  Harry Potter and the Chamber of Secrets (Harry...      6   \n",
       "3        656                                     The Book Thief      6   \n",
       "4        734                                   The Glass Castle      6   \n",
       "..       ...                                                ...    ...   \n",
       "995      191  Disney's Beauty and the Beast (A Little Golden...      0   \n",
       "996      387                               Leonardo's Notebooks      0   \n",
       "997      221                          Essential Tales and Poems      0   \n",
       "998       83    Anne Rice's The Vampire Lestat: A Graphic Novel      0   \n",
       "999      808                            The Natural Way to Draw      0   \n",
       "\n",
       "     avg_rating  \n",
       "0          3.66  \n",
       "1          4.41  \n",
       "2          4.29  \n",
       "3          4.26  \n",
       "4          4.21  \n",
       "..          ...  \n",
       "995        4.00  \n",
       "996        4.00  \n",
       "997        4.00  \n",
       "998        3.67  \n",
       "999        3.00  \n",
       "\n",
       "[1000 rows x 4 columns]"
      ]
     },
     "execution_count": 8,
     "metadata": {},
     "output_type": "execute_result"
    }
   ],
   "source": [
    "query_2  = \"\"\"\n",
    "SELECT b.book_id,\n",
    "b.title,\n",
    "COUNT(DISTINCT r.review_id),\n",
    "ROUND(AVG(rat.rating),2) AS avg_rating\n",
    "FROM books AS b\n",
    "LEFT JOIN reviews AS r ON b.book_id = r.book_id\n",
    "LEFT JOIN ratings AS rat ON b.book_id = rat.book_id\n",
    "GROUP BY b.book_id, b.title\n",
    "ORDER BY count DESC, avg_rating DESC;\n",
    "\"\"\"\n",
    "pd.io.sql.read_sql(sql=text(query_2), con = con)"
   ]
  },
  {
   "cell_type": "markdown",
   "id": "f06d1141",
   "metadata": {},
   "source": [
    "Больше всего обзоров на книгу `Twilight`, ее средний рейтинг составляет 3.66, далее следуют `Harry Potter and the Prisoner of Azkaban` и `Harry Potter and the Chamber of Secrets` с рейтингом 4.41 и 4.29 соответственно. Также в ТОП-5 книг по обзорам вошли `The Book Thief` и `The Glass Castle` с рейтингом 4.26 и 4.21 соответственно."
   ]
  },
  {
   "cell_type": "markdown",
   "id": "cf4f3121",
   "metadata": {},
   "source": [
    "**Определите издательство, которое выпустило наибольшее число книг толще 50 страниц — так вы исключите из анализа брошюры**"
   ]
  },
  {
   "cell_type": "code",
   "execution_count": 9,
   "id": "8ce3c961",
   "metadata": {
    "scrolled": false
   },
   "outputs": [
    {
     "data": {
      "text/html": [
       "<div>\n",
       "<style scoped>\n",
       "    .dataframe tbody tr th:only-of-type {\n",
       "        vertical-align: middle;\n",
       "    }\n",
       "\n",
       "    .dataframe tbody tr th {\n",
       "        vertical-align: top;\n",
       "    }\n",
       "\n",
       "    .dataframe thead th {\n",
       "        text-align: right;\n",
       "    }\n",
       "</style>\n",
       "<table border=\"1\" class=\"dataframe\">\n",
       "  <thead>\n",
       "    <tr style=\"text-align: right;\">\n",
       "      <th></th>\n",
       "      <th>publisher</th>\n",
       "      <th>count</th>\n",
       "    </tr>\n",
       "  </thead>\n",
       "  <tbody>\n",
       "    <tr>\n",
       "      <th>0</th>\n",
       "      <td>Penguin Books</td>\n",
       "      <td>42</td>\n",
       "    </tr>\n",
       "  </tbody>\n",
       "</table>\n",
       "</div>"
      ],
      "text/plain": [
       "       publisher  count\n",
       "0  Penguin Books     42"
      ]
     },
     "execution_count": 9,
     "metadata": {},
     "output_type": "execute_result"
    }
   ],
   "source": [
    "query_3  = \"\"\"\n",
    "SELECT p.publisher,\n",
    "COUNT(b.book_id)\n",
    "FROM books AS b\n",
    "LEFT JOIN publishers AS p ON b.publisher_id = p.publisher_id\n",
    "WHERE b.num_pages > 50\n",
    "GROUP BY p.publisher\n",
    "ORDER BY count DESC\n",
    "LIMIT 1;\n",
    "\"\"\"\n",
    "pd.io.sql.read_sql(sql=text(query_3), con = con)"
   ]
  },
  {
   "cell_type": "markdown",
   "id": "951dc057",
   "metadata": {},
   "source": [
    "Издательство `Penguin Books` выпустило наибольшее число книг толще 50 страниц (42 книги)."
   ]
  },
  {
   "cell_type": "markdown",
   "id": "9d4630a3",
   "metadata": {},
   "source": [
    "**Определите автора с самой высокой средней оценкой книг — учитывайте только книги с 50 и более оценками**"
   ]
  },
  {
   "cell_type": "code",
   "execution_count": 10,
   "id": "7d90cdee",
   "metadata": {},
   "outputs": [
    {
     "data": {
      "text/html": [
       "<div>\n",
       "<style scoped>\n",
       "    .dataframe tbody tr th:only-of-type {\n",
       "        vertical-align: middle;\n",
       "    }\n",
       "\n",
       "    .dataframe tbody tr th {\n",
       "        vertical-align: top;\n",
       "    }\n",
       "\n",
       "    .dataframe thead th {\n",
       "        text-align: right;\n",
       "    }\n",
       "</style>\n",
       "<table border=\"1\" class=\"dataframe\">\n",
       "  <thead>\n",
       "    <tr style=\"text-align: right;\">\n",
       "      <th></th>\n",
       "      <th>author</th>\n",
       "      <th>avg_rating</th>\n",
       "    </tr>\n",
       "  </thead>\n",
       "  <tbody>\n",
       "    <tr>\n",
       "      <th>0</th>\n",
       "      <td>J.K. Rowling/Mary GrandPré</td>\n",
       "      <td>4.29</td>\n",
       "    </tr>\n",
       "  </tbody>\n",
       "</table>\n",
       "</div>"
      ],
      "text/plain": [
       "                       author  avg_rating\n",
       "0  J.K. Rowling/Mary GrandPré        4.29"
      ]
     },
     "execution_count": 10,
     "metadata": {},
     "output_type": "execute_result"
    }
   ],
   "source": [
    "query_4  = \"\"\"\n",
    "\n",
    "SELECT a.author,\n",
    "ROUND(AVG(rat.rating),2) AS avg_rating\n",
    "FROM books AS b\n",
    "LEFT JOIN authors AS a ON b.author_id = a.author_id\n",
    "LEFT JOIN ratings AS rat ON b.book_id = rat.book_id\n",
    "WHERE b.book_id IN (\n",
    "    SELECT b.book_id\n",
    "    FROM books AS b\n",
    "    LEFT JOIN ratings AS rat ON b.book_id = rat.book_id\n",
    "    GROUP BY b.book_id\n",
    "    HAVING COUNT(rating_id) >= 50\n",
    "    ORDER BY COUNT(rating_id) DESC)\n",
    "GROUP BY a.author\n",
    "ORDER BY avg_rating DESC\n",
    "LIMIT 1\n",
    ";\n",
    "\"\"\"\n",
    "pd.io.sql.read_sql(sql=text(query_4), con = con)"
   ]
  },
  {
   "cell_type": "markdown",
   "id": "7c48ddc9",
   "metadata": {},
   "source": [
    "Автором с самой высокой средней оценкой книг, учитывая только книги с 50 и более оценками, является `J.K. Rowling` - средняя оценка книг 4.29"
   ]
  },
  {
   "cell_type": "markdown",
   "id": "07ebaf6c",
   "metadata": {},
   "source": [
    "**Посчитайте среднее количество обзоров от пользователей, которые поставили больше 48 оценок**"
   ]
  },
  {
   "cell_type": "code",
   "execution_count": 11,
   "id": "21fb4121",
   "metadata": {
    "scrolled": true
   },
   "outputs": [
    {
     "data": {
      "text/html": [
       "<div>\n",
       "<style scoped>\n",
       "    .dataframe tbody tr th:only-of-type {\n",
       "        vertical-align: middle;\n",
       "    }\n",
       "\n",
       "    .dataframe tbody tr th {\n",
       "        vertical-align: top;\n",
       "    }\n",
       "\n",
       "    .dataframe thead th {\n",
       "        text-align: right;\n",
       "    }\n",
       "</style>\n",
       "<table border=\"1\" class=\"dataframe\">\n",
       "  <thead>\n",
       "    <tr style=\"text-align: right;\">\n",
       "      <th></th>\n",
       "      <th>avg_review</th>\n",
       "    </tr>\n",
       "  </thead>\n",
       "  <tbody>\n",
       "    <tr>\n",
       "      <th>0</th>\n",
       "      <td>24.0</td>\n",
       "    </tr>\n",
       "  </tbody>\n",
       "</table>\n",
       "</div>"
      ],
      "text/plain": [
       "   avg_review\n",
       "0        24.0"
      ]
     },
     "execution_count": 11,
     "metadata": {},
     "output_type": "execute_result"
    }
   ],
   "source": [
    "query_5  = \"\"\"\n",
    "SELECT AVG(count) AS avg_review\n",
    "FROM (\n",
    "    SELECT r.username,\n",
    "    COUNT(DISTINCT r.review_id)\n",
    "    FROM reviews AS r\n",
    "    FULL OUTER JOIN ratings AS rat ON r.username = rat.username\n",
    "    WHERE r.username IN (\n",
    "        SELECT rat.username\n",
    "        FROM ratings AS rat\n",
    "        GROUP BY rat.username\n",
    "        HAVING COUNT(rating_id) > 48\n",
    "        ORDER BY COUNT(rating_id) DESC)\n",
    "    GROUP BY r.username) AS c;\n",
    "\"\"\"\n",
    "pd.io.sql.read_sql(sql=text(query_5), con = con)"
   ]
  },
  {
   "cell_type": "markdown",
   "id": "b09697d1",
   "metadata": {},
   "source": [
    "Среднее кол-во обзоров от пользователей, которые поставили больше 48 оценок, равно 24."
   ]
  },
  {
   "cell_type": "markdown",
   "id": "f8748ac2",
   "metadata": {},
   "source": [
    "# Вывод"
   ]
  },
  {
   "cell_type": "markdown",
   "id": "239ea6aa",
   "metadata": {},
   "source": [
    "Таким образом, проведя работу, мы выяснили следующее:\n",
    "1. С 1 января 2000 года была выпущена 821 книга.\n",
    "2. Больше всего обзоров на книгу Twilight, ее средний рейтинг составляет 3.66, далее следуют Harry Potter and the Prisoner of Azkaban и Harry Potter and the Chamber of Secrets с рейтингом 4.41 и 4.29 соответственно. Также в ТОП-5 книг по обзорам вошли The Book Thief и The Glass Castle с рейтингом 4.26 и 4.21 соответственно.\n",
    "3. Издательство Penguin Books выпустило наибольшее число книг толще 50 страниц (42 книги).\n",
    "4. Автором с самой высокой средней оценкой книг, учитывая только книги с 50 и более оценками, является J.K. Rowling - средняя оценка книг 4.29\n",
    "5. Среднее кол-во обзоров от пользователей, которые поставили больше 48 оценок, равно 24."
   ]
  },
  {
   "cell_type": "code",
   "execution_count": null,
   "id": "130a7610",
   "metadata": {},
   "outputs": [],
   "source": []
  }
 ],
 "metadata": {
  "ExecuteTimeLog": [
   {
    "duration": 22309,
    "start_time": "2023-06-28T12:38:18.564Z"
   },
   {
    "duration": 286,
    "start_time": "2023-06-28T12:45:22.742Z"
   },
   {
    "duration": 175,
    "start_time": "2023-06-28T12:45:32.967Z"
   },
   {
    "duration": 54,
    "start_time": "2023-06-28T12:46:02.871Z"
   },
   {
    "duration": 30,
    "start_time": "2023-06-28T12:46:48.212Z"
   },
   {
    "duration": 30,
    "start_time": "2023-06-28T12:47:25.281Z"
   },
   {
    "duration": 37,
    "start_time": "2023-06-28T12:47:25.769Z"
   },
   {
    "duration": 36,
    "start_time": "2023-06-28T12:47:57.922Z"
   },
   {
    "duration": 31,
    "start_time": "2023-06-28T12:48:24.908Z"
   },
   {
    "duration": 30,
    "start_time": "2023-06-28T12:55:37.297Z"
   },
   {
    "duration": 31,
    "start_time": "2023-06-28T12:55:46.511Z"
   },
   {
    "duration": 29,
    "start_time": "2023-06-28T12:55:52.340Z"
   },
   {
    "duration": 29,
    "start_time": "2023-06-28T12:58:11.664Z"
   },
   {
    "duration": 29,
    "start_time": "2023-06-28T12:58:13.917Z"
   },
   {
    "duration": 170,
    "start_time": "2023-06-28T13:03:47.327Z"
   },
   {
    "duration": 9,
    "start_time": "2023-06-28T13:05:42.998Z"
   },
   {
    "duration": 297,
    "start_time": "2023-06-28T13:06:40.628Z"
   },
   {
    "duration": 288,
    "start_time": "2023-06-28T13:06:56.436Z"
   },
   {
    "duration": 127,
    "start_time": "2023-06-28T13:12:42.562Z"
   },
   {
    "duration": 85,
    "start_time": "2023-06-28T13:13:08.595Z"
   },
   {
    "duration": 80,
    "start_time": "2023-06-28T13:15:05.798Z"
   },
   {
    "duration": 81,
    "start_time": "2023-06-28T13:15:56.390Z"
   },
   {
    "duration": 79,
    "start_time": "2023-06-28T13:16:26.426Z"
   },
   {
    "duration": 80,
    "start_time": "2023-06-28T13:18:01.104Z"
   },
   {
    "duration": 74,
    "start_time": "2023-06-28T13:22:22.808Z"
   },
   {
    "duration": 68,
    "start_time": "2023-06-28T13:23:00.477Z"
   },
   {
    "duration": 87,
    "start_time": "2023-06-28T13:23:51.199Z"
   },
   {
    "duration": 89,
    "start_time": "2023-06-28T13:24:38.421Z"
   },
   {
    "duration": 54,
    "start_time": "2023-06-28T13:26:35.518Z"
   },
   {
    "duration": 61,
    "start_time": "2023-06-28T13:26:45.989Z"
   },
   {
    "duration": 82,
    "start_time": "2023-06-28T13:27:00.793Z"
   },
   {
    "duration": 67,
    "start_time": "2023-06-28T13:29:25.950Z"
   },
   {
    "duration": 69,
    "start_time": "2023-06-28T13:29:31.839Z"
   },
   {
    "duration": 32,
    "start_time": "2023-06-28T13:30:19.853Z"
   },
   {
    "duration": 80,
    "start_time": "2023-06-28T13:31:36.726Z"
   },
   {
    "duration": 44,
    "start_time": "2023-06-28T13:31:57.279Z"
   },
   {
    "duration": 55,
    "start_time": "2023-06-28T13:32:05.323Z"
   },
   {
    "duration": 58,
    "start_time": "2023-06-28T13:32:24.723Z"
   },
   {
    "duration": 43,
    "start_time": "2023-06-28T13:32:37.698Z"
   },
   {
    "duration": 44,
    "start_time": "2023-06-28T13:32:46.716Z"
   },
   {
    "duration": 48,
    "start_time": "2023-06-28T13:32:52.420Z"
   },
   {
    "duration": 43,
    "start_time": "2023-06-28T13:32:59.457Z"
   },
   {
    "duration": 66,
    "start_time": "2023-06-28T13:33:09.531Z"
   },
   {
    "duration": 66,
    "start_time": "2023-06-28T13:33:21.929Z"
   },
   {
    "duration": 67,
    "start_time": "2023-06-28T13:33:31.553Z"
   },
   {
    "duration": 76,
    "start_time": "2023-06-28T13:33:38.485Z"
   },
   {
    "duration": 32,
    "start_time": "2023-06-28T13:35:40.337Z"
   },
   {
    "duration": 49,
    "start_time": "2023-06-28T13:45:00.118Z"
   },
   {
    "duration": 60,
    "start_time": "2023-06-28T13:45:28.693Z"
   },
   {
    "duration": 42,
    "start_time": "2023-06-28T13:45:35.211Z"
   },
   {
    "duration": 31,
    "start_time": "2023-06-28T13:46:35.921Z"
   },
   {
    "duration": 35,
    "start_time": "2023-06-28T13:47:07.093Z"
   },
   {
    "duration": 32,
    "start_time": "2023-06-28T13:47:11.389Z"
   },
   {
    "duration": 32,
    "start_time": "2023-06-28T13:47:15.201Z"
   },
   {
    "duration": 30,
    "start_time": "2023-06-28T13:47:19.197Z"
   },
   {
    "duration": 50,
    "start_time": "2023-06-28T13:52:40.462Z"
   },
   {
    "duration": 43,
    "start_time": "2023-06-28T13:57:36.163Z"
   },
   {
    "duration": 47,
    "start_time": "2023-06-28T13:57:55.228Z"
   },
   {
    "duration": 33,
    "start_time": "2023-06-28T13:58:14.438Z"
   },
   {
    "duration": 50,
    "start_time": "2023-06-28T14:00:43.201Z"
   },
   {
    "duration": 59,
    "start_time": "2023-06-28T14:01:26.058Z"
   },
   {
    "duration": 59,
    "start_time": "2023-06-28T14:01:43.697Z"
   },
   {
    "duration": 58,
    "start_time": "2023-06-28T14:03:08.095Z"
   },
   {
    "duration": 79,
    "start_time": "2023-06-28T14:03:41.901Z"
   },
   {
    "duration": 60,
    "start_time": "2023-06-28T14:05:36.895Z"
   },
   {
    "duration": 75,
    "start_time": "2023-06-28T14:06:07.204Z"
   },
   {
    "duration": 61,
    "start_time": "2023-06-28T14:06:26.805Z"
   },
   {
    "duration": 46,
    "start_time": "2023-06-28T14:07:02.006Z"
   },
   {
    "duration": 35,
    "start_time": "2023-06-28T14:07:19.032Z"
   },
   {
    "duration": 49,
    "start_time": "2023-06-28T14:08:04.944Z"
   },
   {
    "duration": 46,
    "start_time": "2023-06-28T14:09:13.115Z"
   },
   {
    "duration": 35,
    "start_time": "2023-06-28T14:09:26.206Z"
   },
   {
    "duration": 51,
    "start_time": "2023-06-28T14:15:08.595Z"
   },
   {
    "duration": 61,
    "start_time": "2023-06-28T14:15:16.238Z"
   },
   {
    "duration": 59,
    "start_time": "2023-06-28T14:15:23.906Z"
   },
   {
    "duration": 45,
    "start_time": "2023-06-28T14:15:37.234Z"
   },
   {
    "duration": 34,
    "start_time": "2023-06-28T14:19:13.461Z"
   },
   {
    "duration": 67,
    "start_time": "2023-06-28T14:20:01.502Z"
   },
   {
    "duration": 71,
    "start_time": "2023-06-28T14:20:08.794Z"
   },
   {
    "duration": 73,
    "start_time": "2023-06-28T14:22:20.729Z"
   },
   {
    "duration": 74,
    "start_time": "2023-06-28T14:23:29.930Z"
   },
   {
    "duration": 50,
    "start_time": "2023-06-28T14:23:41.035Z"
   },
   {
    "duration": 65,
    "start_time": "2023-06-28T14:24:27.430Z"
   },
   {
    "duration": 53,
    "start_time": "2023-06-28T14:24:33.646Z"
   },
   {
    "duration": 64,
    "start_time": "2023-06-28T14:25:29.132Z"
   },
   {
    "duration": 62,
    "start_time": "2023-06-28T14:25:36.767Z"
   },
   {
    "duration": 55,
    "start_time": "2023-06-28T14:25:44.265Z"
   },
   {
    "duration": 39,
    "start_time": "2023-06-28T14:25:51.882Z"
   },
   {
    "duration": 40,
    "start_time": "2023-06-28T14:26:05.375Z"
   },
   {
    "duration": 37,
    "start_time": "2023-06-28T14:26:30.292Z"
   },
   {
    "duration": 56,
    "start_time": "2023-06-28T14:28:48.543Z"
   },
   {
    "duration": 16260,
    "start_time": "2023-06-28T14:30:55.477Z"
   },
   {
    "duration": 268,
    "start_time": "2023-06-28T14:31:11.739Z"
   },
   {
    "duration": 31,
    "start_time": "2023-06-28T14:31:12.009Z"
   },
   {
    "duration": 44,
    "start_time": "2023-06-28T14:31:12.042Z"
   },
   {
    "duration": 32,
    "start_time": "2023-06-28T14:31:12.089Z"
   },
   {
    "duration": 34,
    "start_time": "2023-06-28T14:31:12.123Z"
   },
   {
    "duration": 39,
    "start_time": "2023-06-28T14:31:12.159Z"
   },
   {
    "duration": 83,
    "start_time": "2023-06-28T14:31:12.200Z"
   },
   {
    "duration": 155,
    "start_time": "2023-06-28T14:31:12.285Z"
   },
   {
    "duration": 0,
    "start_time": "2023-06-28T14:31:12.443Z"
   },
   {
    "duration": 0,
    "start_time": "2023-06-28T14:31:12.444Z"
   },
   {
    "duration": 45,
    "start_time": "2023-06-28T14:37:50.607Z"
   },
   {
    "duration": 14219,
    "start_time": "2023-06-28T14:38:54.242Z"
   },
   {
    "duration": 232,
    "start_time": "2023-06-28T14:39:08.464Z"
   },
   {
    "duration": 31,
    "start_time": "2023-06-28T14:39:08.698Z"
   },
   {
    "duration": 43,
    "start_time": "2023-06-28T14:39:08.731Z"
   },
   {
    "duration": 40,
    "start_time": "2023-06-28T14:39:08.776Z"
   },
   {
    "duration": 41,
    "start_time": "2023-06-28T14:39:08.818Z"
   },
   {
    "duration": 57,
    "start_time": "2023-06-28T14:39:08.861Z"
   },
   {
    "duration": 72,
    "start_time": "2023-06-28T14:39:08.920Z"
   },
   {
    "duration": 31,
    "start_time": "2023-06-28T14:39:08.994Z"
   },
   {
    "duration": 40,
    "start_time": "2023-06-28T14:39:09.027Z"
   },
   {
    "duration": 51,
    "start_time": "2023-06-28T14:39:09.069Z"
   },
   {
    "duration": 33386,
    "start_time": "2023-06-28T16:45:55.354Z"
   },
   {
    "duration": 244,
    "start_time": "2023-06-28T16:46:28.743Z"
   },
   {
    "duration": 34,
    "start_time": "2023-06-28T16:46:28.990Z"
   },
   {
    "duration": 35,
    "start_time": "2023-06-28T16:46:29.027Z"
   },
   {
    "duration": 35,
    "start_time": "2023-06-28T16:46:29.064Z"
   },
   {
    "duration": 34,
    "start_time": "2023-06-28T16:46:29.101Z"
   },
   {
    "duration": 32,
    "start_time": "2023-06-28T16:46:29.137Z"
   },
   {
    "duration": 79,
    "start_time": "2023-06-28T16:46:29.171Z"
   },
   {
    "duration": 34,
    "start_time": "2023-06-28T16:46:29.252Z"
   },
   {
    "duration": 39,
    "start_time": "2023-06-28T16:46:29.288Z"
   },
   {
    "duration": 42,
    "start_time": "2023-06-28T16:46:29.329Z"
   },
   {
    "duration": 442,
    "start_time": "2023-06-28T22:56:24.791Z"
   },
   {
    "duration": 427,
    "start_time": "2023-06-28T22:56:42.020Z"
   },
   {
    "duration": 13743,
    "start_time": "2023-11-28T12:12:04.999Z"
   },
   {
    "duration": 226,
    "start_time": "2023-11-28T12:12:18.744Z"
   },
   {
    "duration": 29,
    "start_time": "2023-11-28T12:12:18.971Z"
   },
   {
    "duration": 29,
    "start_time": "2023-11-28T12:12:19.003Z"
   },
   {
    "duration": 29,
    "start_time": "2023-11-28T12:12:19.034Z"
   },
   {
    "duration": 30,
    "start_time": "2023-11-28T12:12:19.065Z"
   },
   {
    "duration": 28,
    "start_time": "2023-11-28T12:12:19.097Z"
   },
   {
    "duration": 74,
    "start_time": "2023-11-28T12:12:19.127Z"
   },
   {
    "duration": 30,
    "start_time": "2023-11-28T12:12:19.203Z"
   },
   {
    "duration": 33,
    "start_time": "2023-11-28T12:12:19.235Z"
   },
   {
    "duration": 36,
    "start_time": "2023-11-28T12:12:19.270Z"
   }
  ],
  "kernelspec": {
   "display_name": "Python 3 (ipykernel)",
   "language": "python",
   "name": "python3"
  },
  "language_info": {
   "codemirror_mode": {
    "name": "ipython",
    "version": 3
   },
   "file_extension": ".py",
   "mimetype": "text/x-python",
   "name": "python",
   "nbconvert_exporter": "python",
   "pygments_lexer": "ipython3",
   "version": "3.9.5"
  },
  "toc": {
   "base_numbering": 1,
   "nav_menu": {},
   "number_sections": true,
   "sideBar": true,
   "skip_h1_title": true,
   "title_cell": "Table of Contents",
   "title_sidebar": "Contents",
   "toc_cell": false,
   "toc_position": {
    "height": "calc(100% - 180px)",
    "left": "10px",
    "top": "150px",
    "width": "200.087px"
   },
   "toc_section_display": true,
   "toc_window_display": true
  }
 },
 "nbformat": 4,
 "nbformat_minor": 5
}
